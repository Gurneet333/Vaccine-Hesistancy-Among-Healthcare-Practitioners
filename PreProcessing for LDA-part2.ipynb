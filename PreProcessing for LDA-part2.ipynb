{
 "cells": [
  {
   "cell_type": "code",
   "execution_count": 1,
   "metadata": {
    "colab": {
     "base_uri": "https://localhost:8080/"
    },
    "executionInfo": {
     "elapsed": 3320,
     "status": "ok",
     "timestamp": 1638070159489,
     "user": {
      "displayName": "gurneet singh",
      "photoUrl": "https://lh3.googleusercontent.com/a-/AOh14Ggcya01yjyrc6tr-pEuKhQEbhpHFxL2PI6oSJ5u=s64",
      "userId": "09363295176528521202"
     },
     "user_tz": 300
    },
    "id": "YotZviRldWLa",
    "outputId": "5b449f98-d8f1-4e97-e921-05ff1ef78643"
   },
   "outputs": [
    {
     "name": "stdout",
     "output_type": "stream",
     "text": [
      "Requirement already satisfied: pyLDAvis==3.2.1 in c:\\users\\hp\\anaconda3\\lib\\site-packages (3.2.1)\n",
      "Requirement already satisfied: future in c:\\users\\hp\\anaconda3\\lib\\site-packages (from pyLDAvis==3.2.1) (0.18.2)\n",
      "Requirement already satisfied: scipy>=0.18.0 in c:\\users\\hp\\anaconda3\\lib\\site-packages (from pyLDAvis==3.2.1) (1.4.1)\n",
      "Requirement already satisfied: numpy>=1.9.2 in c:\\users\\hp\\anaconda3\\lib\\site-packages (from pyLDAvis==3.2.1) (1.21.2)\n",
      "Requirement already satisfied: joblib>=0.8.4 in c:\\users\\hp\\anaconda3\\lib\\site-packages (from pyLDAvis==3.2.1) (0.14.1)\n",
      "Requirement already satisfied: pandas>=0.17.0; python_version > \"3.5\" in c:\\users\\hp\\anaconda3\\lib\\site-packages (from pyLDAvis==3.2.1) (1.3.2)\n",
      "Requirement already satisfied: wheel>=0.23.0 in c:\\users\\hp\\anaconda3\\lib\\site-packages (from pyLDAvis==3.2.1) (0.34.2)\n",
      "Requirement already satisfied: jinja2>=2.7.2 in c:\\users\\hp\\anaconda3\\lib\\site-packages (from pyLDAvis==3.2.1) (2.11.1)\n",
      "Requirement already satisfied: funcy in c:\\users\\hp\\anaconda3\\lib\\site-packages (from pyLDAvis==3.2.1) (1.16)\n",
      "Requirement already satisfied: numexpr in c:\\users\\hp\\anaconda3\\lib\\site-packages (from pyLDAvis==3.2.1) (2.7.1)\n",
      "Requirement already satisfied: python-dateutil>=2.7.3 in c:\\users\\hp\\anaconda3\\lib\\site-packages (from pandas>=0.17.0; python_version > \"3.5\"->pyLDAvis==3.2.1) (2.8.1)\n",
      "Requirement already satisfied: pytz>=2017.3 in c:\\users\\hp\\anaconda3\\lib\\site-packages (from pandas>=0.17.0; python_version > \"3.5\"->pyLDAvis==3.2.1) (2019.3)\n",
      "Requirement already satisfied: MarkupSafe>=0.23 in c:\\users\\hp\\anaconda3\\lib\\site-packages (from jinja2>=2.7.2->pyLDAvis==3.2.1) (1.1.1)\n",
      "Requirement already satisfied: six>=1.5 in c:\\users\\hp\\anaconda3\\lib\\site-packages (from python-dateutil>=2.7.3->pandas>=0.17.0; python_version > \"3.5\"->pyLDAvis==3.2.1) (1.14.0)\n"
     ]
    }
   ],
   "source": [
    "import pandas as pd\n",
    "import numpy as np\n",
    "!pip install pyLDAvis==3.2.1\n"
   ]
  },
  {
   "cell_type": "code",
   "execution_count": 28,
   "metadata": {
    "colab": {
     "base_uri": "https://localhost:8080/"
    },
    "executionInfo": {
     "elapsed": 169,
     "status": "ok",
     "timestamp": 1638070163480,
     "user": {
      "displayName": "gurneet singh",
      "photoUrl": "https://lh3.googleusercontent.com/a-/AOh14Ggcya01yjyrc6tr-pEuKhQEbhpHFxL2PI6oSJ5u=s64",
      "userId": "09363295176528521202"
     },
     "user_tz": 300
    },
    "id": "XD3CC96ddbxN",
    "outputId": "a9265a3e-7add-4a61-94b1-905a5ee3e412"
   },
   "outputs": [
    {
     "name": "stdout",
     "output_type": "stream",
     "text": [
      "Drive already mounted at /content/drive; to attempt to forcibly remount, call drive.mount(\"/content/drive\", force_remount=True).\n"
     ]
    }
   ],
   "source": [
    "# Mounting the colab on the Google drive\n",
    "from google.colab import drive\n",
    "drive.mount('/content/drive')"
   ]
  },
  {
   "cell_type": "code",
   "execution_count": 28,
   "metadata": {
    "executionInfo": {
     "elapsed": 141,
     "status": "ok",
     "timestamp": 1638070164777,
     "user": {
      "displayName": "gurneet singh",
      "photoUrl": "https://lh3.googleusercontent.com/a-/AOh14Ggcya01yjyrc6tr-pEuKhQEbhpHFxL2PI6oSJ5u=s64",
      "userId": "09363295176528521202"
     },
     "user_tz": 300
    },
    "id": "O18XBx-ssamT"
   },
   "outputs": [],
   "source": []
  },
  {
   "cell_type": "code",
   "execution_count": 29,
   "metadata": {
    "colab": {
     "base_uri": "https://localhost:8080/"
    },
    "executionInfo": {
     "elapsed": 7,
     "status": "ok",
     "timestamp": 1638070165453,
     "user": {
      "displayName": "gurneet singh",
      "photoUrl": "https://lh3.googleusercontent.com/a-/AOh14Ggcya01yjyrc6tr-pEuKhQEbhpHFxL2PI6oSJ5u=s64",
      "userId": "09363295176528521202"
     },
     "user_tz": 300
    },
    "id": "AHDETONndlRB",
    "outputId": "a3793e2f-c6f5-434d-c584-d3a57c210907"
   },
   "outputs": [
    {
     "name": "stdout",
     "output_type": "stream",
     "text": [
      "/content/drive/.shortcut-targets-by-id/1uKZmpRRwciHwohqfjKcRePjwzyJ7Qyhg/Data Mining Project Research/Data\n"
     ]
    }
   ],
   "source": [
    "%cd /content/drive/MyDrive/Data\\ Mining\\ Project\\ Research/Data"
   ]
  },
  {
   "cell_type": "markdown",
   "metadata": {
    "id": "Ui9l6ESzHF3X"
   },
   "source": [
    "## Combining All the Raw Excels"
   ]
  },
  {
   "cell_type": "code",
   "execution_count": null,
   "metadata": {
    "id": "897iaKTveBxq"
   },
   "outputs": [],
   "source": [
    "file_list=[ 'Doctors_comments_df_100.csv',\t\n",
    "            'Doctors_comments_df2 (2).csv',\n",
    "            'Doctors_comments_df_120.csv',\n",
    "            'Doctors_comments_df_154.csv',\t \n",
    "            'Doctors_comments_df3.csv',\n",
    "            'Doctors_comments_df_182.csv',\n",
    "           \t'Doctors_comments_df4.csv',\n",
    "            'Doctors_comments_df_210.csv', \n",
    "            'Doctors_comments_df5.csv',\n",
    "            'Doctors_comments_df2 (1).csv',\n",
    "           \t'Doctors_comments_df.csv',\n",
    "            'Doctors_comments_df_225.csv',\n",
    "            'Doctors_comments_df6.csv']"
   ]
  },
  {
   "cell_type": "code",
   "execution_count": null,
   "metadata": {
    "colab": {
     "base_uri": "https://localhost:8080/",
     "height": 165
    },
    "executionInfo": {
     "elapsed": 352,
     "status": "error",
     "timestamp": 1637870536859,
     "user": {
      "displayName": "gurneet singh",
      "photoUrl": "https://lh3.googleusercontent.com/a-/AOh14Ggcya01yjyrc6tr-pEuKhQEbhpHFxL2PI6oSJ5u=s64",
      "userId": "09363295176528521202"
     },
     "user_tz": 300
    },
    "id": "Cx0KCa0Gehcd",
    "outputId": "dba07191-5cd1-4b8c-c263-e250d75104e1"
   },
   "outputs": [
    {
     "ename": "NameError",
     "evalue": "ignored",
     "output_type": "error",
     "traceback": [
      "\u001b[0;31m---------------------------------------------------------------------------\u001b[0m",
      "\u001b[0;31mNameError\u001b[0m                                 Traceback (most recent call last)",
      "\u001b[0;32m<ipython-input-5-6dd66196e028>\u001b[0m in \u001b[0;36m<module>\u001b[0;34m()\u001b[0m\n\u001b[0;32m----> 1\u001b[0;31m \u001b[0mcheck\u001b[0m\u001b[0;34m=\u001b[0m\u001b[0mpd\u001b[0m\u001b[0;34m.\u001b[0m\u001b[0mread_csv\u001b[0m\u001b[0;34m(\u001b[0m\u001b[0;34m'Doctors_comments_df_225.csv'\u001b[0m\u001b[0;34m,\u001b[0m\u001b[0mnames\u001b[0m\u001b[0;34m=\u001b[0m\u001b[0mheaders\u001b[0m\u001b[0;34m,\u001b[0m\u001b[0mskiprows\u001b[0m\u001b[0;34m=\u001b[0m\u001b[0;36m1\u001b[0m\u001b[0;34m)\u001b[0m\u001b[0;34m\u001b[0m\u001b[0;34m\u001b[0m\u001b[0m\n\u001b[0m",
      "\u001b[0;31mNameError\u001b[0m: name 'headers' is not defined"
     ]
    }
   ],
   "source": [
    "check=pd.read_csv('Doctors_comments_df_225.csv',names=headers,skiprows=1)"
   ]
  },
  {
   "cell_type": "code",
   "execution_count": null,
   "metadata": {
    "id": "Z_6FfCELlqTi"
   },
   "outputs": [],
   "source": [
    "check"
   ]
  },
  {
   "cell_type": "code",
   "execution_count": null,
   "metadata": {
    "id": "5VMtOdLXdwFW"
   },
   "outputs": [],
   "source": [
    "#reading all the csv's\n",
    "\n",
    "df_appended= pd.DataFrame(columns=['author', 'author_flair_text', 'author_flair_type', 'body',\n",
    "       'created_utc', 'id', 'is_submitter', 'score', 'subreddit',\n",
    "       'subreddit_id'])\n",
    "\n",
    "for i in file_list:\n",
    "  print(i)\n",
    "  headers=['author', 'author_flair_text', 'author_flair_type', 'body',\n",
    "       'created_utc', 'id', 'is_submitter', 'score', 'subreddit',\n",
    "       'subreddit_id']\n",
    "\n",
    "  df_temp=pd.read_csv(i,names=headers,skiprows=1)\n",
    "  df_appended=df_appended.append(df_temp)\n"
   ]
  },
  {
   "cell_type": "code",
   "execution_count": 14,
   "metadata": {
    "executionInfo": {
     "elapsed": 6470,
     "status": "ok",
     "timestamp": 1638070007099,
     "user": {
      "displayName": "gurneet singh",
      "photoUrl": "https://lh3.googleusercontent.com/a-/AOh14Ggcya01yjyrc6tr-pEuKhQEbhpHFxL2PI6oSJ5u=s64",
      "userId": "09363295176528521202"
     },
     "user_tz": 300
    },
    "id": "wRmzk-7L2Hn3"
   },
   "outputs": [],
   "source": [
    "df_appended=pd.read_pickle('fulldata.pickle')"
   ]
  },
  {
   "cell_type": "code",
   "execution_count": 15,
   "metadata": {
    "colab": {
     "base_uri": "https://localhost:8080/",
     "height": 563
    },
    "executionInfo": {
     "elapsed": 1016,
     "status": "ok",
     "timestamp": 1638070012955,
     "user": {
      "displayName": "gurneet singh",
      "photoUrl": "https://lh3.googleusercontent.com/a-/AOh14Ggcya01yjyrc6tr-pEuKhQEbhpHFxL2PI6oSJ5u=s64",
      "userId": "09363295176528521202"
     },
     "user_tz": 300
    },
    "id": "l4Y4VSrGlHnK",
    "outputId": "0e63b168-78db-4a03-8244-7d069f53c7ca"
   },
   "outputs": [
    {
     "data": {
      "text/html": [
       "<div>\n",
       "<style scoped>\n",
       "    .dataframe tbody tr th:only-of-type {\n",
       "        vertical-align: middle;\n",
       "    }\n",
       "\n",
       "    .dataframe tbody tr th {\n",
       "        vertical-align: top;\n",
       "    }\n",
       "\n",
       "    .dataframe thead th {\n",
       "        text-align: right;\n",
       "    }\n",
       "</style>\n",
       "<table border=\"1\" class=\"dataframe\">\n",
       "  <thead>\n",
       "    <tr style=\"text-align: right;\">\n",
       "      <th></th>\n",
       "      <th>author</th>\n",
       "      <th>author_flair_text</th>\n",
       "      <th>author_flair_type</th>\n",
       "      <th>body</th>\n",
       "      <th>created_utc</th>\n",
       "      <th>id</th>\n",
       "      <th>is_submitter</th>\n",
       "      <th>score</th>\n",
       "      <th>subreddit</th>\n",
       "      <th>subreddit_id</th>\n",
       "    </tr>\n",
       "  </thead>\n",
       "  <tbody>\n",
       "    <tr>\n",
       "      <th>0</th>\n",
       "      <td>Jilapenochips</td>\n",
       "      <td>NaN</td>\n",
       "      <td>text</td>\n",
       "      <td>Ewww</td>\n",
       "      <td>1636677499</td>\n",
       "      <td>hk9sygv</td>\n",
       "      <td>False</td>\n",
       "      <td>4</td>\n",
       "      <td>AskMen</td>\n",
       "      <td>t5_2s30g</td>\n",
       "    </tr>\n",
       "    <tr>\n",
       "      <th>1</th>\n",
       "      <td>Jilapenochips</td>\n",
       "      <td>NaN</td>\n",
       "      <td>text</td>\n",
       "      <td>How do you go about selling call credit spreads?</td>\n",
       "      <td>1635997982</td>\n",
       "      <td>hj8q5xj</td>\n",
       "      <td>False</td>\n",
       "      <td>29</td>\n",
       "      <td>thetagang</td>\n",
       "      <td>t5_27n9fl</td>\n",
       "    </tr>\n",
       "    <tr>\n",
       "      <th>2</th>\n",
       "      <td>Jilapenochips</td>\n",
       "      <td>NaN</td>\n",
       "      <td>text</td>\n",
       "      <td>I was using firstrade to day trade options but...</td>\n",
       "      <td>1635930349</td>\n",
       "      <td>hj4kdod</td>\n",
       "      <td>False</td>\n",
       "      <td>2</td>\n",
       "      <td>Daytrading</td>\n",
       "      <td>t5_2qxlo</td>\n",
       "    </tr>\n",
       "    <tr>\n",
       "      <th>3</th>\n",
       "      <td>Jilapenochips</td>\n",
       "      <td>NaN</td>\n",
       "      <td>text</td>\n",
       "      <td>Beautiful shot</td>\n",
       "      <td>1635221501</td>\n",
       "      <td>hi2qjo6</td>\n",
       "      <td>False</td>\n",
       "      <td>1</td>\n",
       "      <td>dji</td>\n",
       "      <td>t5_2wu4v</td>\n",
       "    </tr>\n",
       "    <tr>\n",
       "      <th>4</th>\n",
       "      <td>Jilapenochips</td>\n",
       "      <td>NaN</td>\n",
       "      <td>text</td>\n",
       "      <td>Wow this is the one! Thank you so much you did...</td>\n",
       "      <td>1635026790</td>\n",
       "      <td>hhsg1y0</td>\n",
       "      <td>True</td>\n",
       "      <td>1</td>\n",
       "      <td>photorestore</td>\n",
       "      <td>t5_3eq0r</td>\n",
       "    </tr>\n",
       "    <tr>\n",
       "      <th>...</th>\n",
       "      <td>...</td>\n",
       "      <td>...</td>\n",
       "      <td>...</td>\n",
       "      <td>...</td>\n",
       "      <td>...</td>\n",
       "      <td>...</td>\n",
       "      <td>...</td>\n",
       "      <td>...</td>\n",
       "      <td>...</td>\n",
       "      <td>...</td>\n",
       "    </tr>\n",
       "    <tr>\n",
       "      <th>13</th>\n",
       "      <td>KING-KONG150</td>\n",
       "      <td>NaN</td>\n",
       "      <td>text</td>\n",
       "      <td>Nice!!! Enjoy, and hopefully we should be gett...</td>\n",
       "      <td>1624047666</td>\n",
       "      <td>h28zzjd</td>\n",
       "      <td>False</td>\n",
       "      <td>1</td>\n",
       "      <td>TicWatch</td>\n",
       "      <td>t5_3fpc4</td>\n",
       "    </tr>\n",
       "    <tr>\n",
       "      <th>14</th>\n",
       "      <td>KING-KONG150</td>\n",
       "      <td>NaN</td>\n",
       "      <td>text</td>\n",
       "      <td>Lol that's every where</td>\n",
       "      <td>1622057516</td>\n",
       "      <td>gzjv2vy</td>\n",
       "      <td>False</td>\n",
       "      <td>1</td>\n",
       "      <td>TicWatch</td>\n",
       "      <td>t5_3fpc4</td>\n",
       "    </tr>\n",
       "    <tr>\n",
       "      <th>15</th>\n",
       "      <td>KING-KONG150</td>\n",
       "      <td>NaN</td>\n",
       "      <td>text</td>\n",
       "      <td>How do you like the watch so far?</td>\n",
       "      <td>1621992072</td>\n",
       "      <td>gzgmgqx</td>\n",
       "      <td>False</td>\n",
       "      <td>1</td>\n",
       "      <td>TicWatch</td>\n",
       "      <td>t5_3fpc4</td>\n",
       "    </tr>\n",
       "    <tr>\n",
       "      <th>16</th>\n",
       "      <td>KING-KONG150</td>\n",
       "      <td>NaN</td>\n",
       "      <td>text</td>\n",
       "      <td>Idk</td>\n",
       "      <td>1619646948</td>\n",
       "      <td>gw83i9e</td>\n",
       "      <td>False</td>\n",
       "      <td>1</td>\n",
       "      <td>TicWatch</td>\n",
       "      <td>t5_3fpc4</td>\n",
       "    </tr>\n",
       "    <tr>\n",
       "      <th>17</th>\n",
       "      <td>KING-KONG150</td>\n",
       "      <td>NaN</td>\n",
       "      <td>text</td>\n",
       "      <td>I live in California and it went fine except I...</td>\n",
       "      <td>1619643186</td>\n",
       "      <td>gw7uy4a</td>\n",
       "      <td>False</td>\n",
       "      <td>1</td>\n",
       "      <td>TicWatch</td>\n",
       "      <td>t5_3fpc4</td>\n",
       "    </tr>\n",
       "  </tbody>\n",
       "</table>\n",
       "<p>6262939 rows × 10 columns</p>\n",
       "</div>"
      ],
      "text/plain": [
       "           author author_flair_text  ...     subreddit subreddit_id\n",
       "0   Jilapenochips               NaN  ...        AskMen     t5_2s30g\n",
       "1   Jilapenochips               NaN  ...     thetagang    t5_27n9fl\n",
       "2   Jilapenochips               NaN  ...    Daytrading     t5_2qxlo\n",
       "3   Jilapenochips               NaN  ...           dji     t5_2wu4v\n",
       "4   Jilapenochips               NaN  ...  photorestore     t5_3eq0r\n",
       "..            ...               ...  ...           ...          ...\n",
       "13   KING-KONG150               NaN  ...      TicWatch     t5_3fpc4\n",
       "14   KING-KONG150               NaN  ...      TicWatch     t5_3fpc4\n",
       "15   KING-KONG150               NaN  ...      TicWatch     t5_3fpc4\n",
       "16   KING-KONG150               NaN  ...      TicWatch     t5_3fpc4\n",
       "17   KING-KONG150               NaN  ...      TicWatch     t5_3fpc4\n",
       "\n",
       "[6262939 rows x 10 columns]"
      ]
     },
     "execution_count": 15,
     "metadata": {},
     "output_type": "execute_result"
    }
   ],
   "source": [
    "df_appended"
   ]
  },
  {
   "cell_type": "code",
   "execution_count": null,
   "metadata": {
    "id": "tS3NLijHy4Ux"
   },
   "outputs": [],
   "source": [
    "#df_appended.to_pickle('fulldata.pickle')"
   ]
  },
  {
   "cell_type": "code",
   "execution_count": null,
   "metadata": {
    "id": "KyuRFM6wvYem"
   },
   "outputs": [],
   "source": [
    "\n",
    "#df_appended['Covid_rel_bool']=\n",
    "#df_appended['covid_rel_bool']= \n",
    "df_appended=df_appended.dropna(subset = ['body'])\n",
    "df_appended['Index1'] = np.arange(df_appended.shape[0])"
   ]
  },
  {
   "cell_type": "code",
   "execution_count": null,
   "metadata": {
    "id": "PiTRi2NZ5JFn"
   },
   "outputs": [],
   "source": [
    "## Save it as a pickle file\n",
    "df_appended.to_pickle('filterdata.pickle')"
   ]
  },
  {
   "cell_type": "markdown",
   "metadata": {
    "id": "jqyz_zIA-2hd"
   },
   "source": [
    "## Creating boolean columns of covid related words"
   ]
  },
  {
   "cell_type": "code",
   "execution_count": 46,
   "metadata": {
    "executionInfo": {
     "elapsed": 7262,
     "status": "ok",
     "timestamp": 1638070191584,
     "user": {
      "displayName": "gurneet singh",
      "photoUrl": "https://lh3.googleusercontent.com/a-/AOh14Ggcya01yjyrc6tr-pEuKhQEbhpHFxL2PI6oSJ5u=s64",
      "userId": "09363295176528521202"
     },
     "user_tz": 300
    },
    "id": "dsr0P4iE6AMf"
   },
   "outputs": [
    {
     "ename": "FileNotFoundError",
     "evalue": "[Errno 2] No such file or directory: 'filterdata.pickle'",
     "output_type": "error",
     "traceback": [
      "\u001b[1;31m---------------------------------------------------------------------------\u001b[0m",
      "\u001b[1;31mFileNotFoundError\u001b[0m                         Traceback (most recent call last)",
      "\u001b[1;32m<ipython-input-46-19fc0708bad1>\u001b[0m in \u001b[0;36m<module>\u001b[1;34m\u001b[0m\n\u001b[1;32m----> 1\u001b[1;33m \u001b[0mdf_appended\u001b[0m\u001b[1;33m=\u001b[0m\u001b[0mpd\u001b[0m\u001b[1;33m.\u001b[0m\u001b[0mread_pickle\u001b[0m\u001b[1;33m(\u001b[0m\u001b[1;34m'filterdata.pickle'\u001b[0m\u001b[1;33m)\u001b[0m\u001b[1;33m\u001b[0m\u001b[1;33m\u001b[0m\u001b[0m\n\u001b[0m",
      "\u001b[1;32m~\\anaconda3\\lib\\site-packages\\pandas\\io\\pickle.py\u001b[0m in \u001b[0;36mread_pickle\u001b[1;34m(filepath_or_buffer, compression, storage_options)\u001b[0m\n\u001b[0;32m    199\u001b[0m         \u001b[0mcompression\u001b[0m\u001b[1;33m=\u001b[0m\u001b[0mcompression\u001b[0m\u001b[1;33m,\u001b[0m\u001b[1;33m\u001b[0m\u001b[1;33m\u001b[0m\u001b[0m\n\u001b[0;32m    200\u001b[0m         \u001b[0mis_text\u001b[0m\u001b[1;33m=\u001b[0m\u001b[1;32mFalse\u001b[0m\u001b[1;33m,\u001b[0m\u001b[1;33m\u001b[0m\u001b[1;33m\u001b[0m\u001b[0m\n\u001b[1;32m--> 201\u001b[1;33m         \u001b[0mstorage_options\u001b[0m\u001b[1;33m=\u001b[0m\u001b[0mstorage_options\u001b[0m\u001b[1;33m,\u001b[0m\u001b[1;33m\u001b[0m\u001b[1;33m\u001b[0m\u001b[0m\n\u001b[0m\u001b[0;32m    202\u001b[0m     ) as handles:\n\u001b[0;32m    203\u001b[0m \u001b[1;33m\u001b[0m\u001b[0m\n",
      "\u001b[1;32m~\\anaconda3\\lib\\site-packages\\pandas\\io\\common.py\u001b[0m in \u001b[0;36mget_handle\u001b[1;34m(path_or_buf, mode, encoding, compression, memory_map, is_text, errors, storage_options)\u001b[0m\n\u001b[0;32m    708\u001b[0m         \u001b[1;32melse\u001b[0m\u001b[1;33m:\u001b[0m\u001b[1;33m\u001b[0m\u001b[1;33m\u001b[0m\u001b[0m\n\u001b[0;32m    709\u001b[0m             \u001b[1;31m# Binary mode\u001b[0m\u001b[1;33m\u001b[0m\u001b[1;33m\u001b[0m\u001b[1;33m\u001b[0m\u001b[0m\n\u001b[1;32m--> 710\u001b[1;33m             \u001b[0mhandle\u001b[0m \u001b[1;33m=\u001b[0m \u001b[0mopen\u001b[0m\u001b[1;33m(\u001b[0m\u001b[0mhandle\u001b[0m\u001b[1;33m,\u001b[0m \u001b[0mioargs\u001b[0m\u001b[1;33m.\u001b[0m\u001b[0mmode\u001b[0m\u001b[1;33m)\u001b[0m\u001b[1;33m\u001b[0m\u001b[1;33m\u001b[0m\u001b[0m\n\u001b[0m\u001b[0;32m    711\u001b[0m         \u001b[0mhandles\u001b[0m\u001b[1;33m.\u001b[0m\u001b[0mappend\u001b[0m\u001b[1;33m(\u001b[0m\u001b[0mhandle\u001b[0m\u001b[1;33m)\u001b[0m\u001b[1;33m\u001b[0m\u001b[1;33m\u001b[0m\u001b[0m\n\u001b[0;32m    712\u001b[0m \u001b[1;33m\u001b[0m\u001b[0m\n",
      "\u001b[1;31mFileNotFoundError\u001b[0m: [Errno 2] No such file or directory: 'filterdata.pickle'"
     ]
    }
   ],
   "source": [
    "df_appended=pd.read_pickle('filterdata.pickle')"
   ]
  },
  {
   "cell_type": "code",
   "execution_count": 45,
   "metadata": {
    "colab": {
     "base_uri": "https://localhost:8080/",
     "height": 563
    },
    "executionInfo": {
     "elapsed": 989,
     "status": "ok",
     "timestamp": 1638070195996,
     "user": {
      "displayName": "gurneet singh",
      "photoUrl": "https://lh3.googleusercontent.com/a-/AOh14Ggcya01yjyrc6tr-pEuKhQEbhpHFxL2PI6oSJ5u=s64",
      "userId": "09363295176528521202"
     },
     "user_tz": 300
    },
    "id": "-TvJHXKkiMqS",
    "outputId": "0d501e35-b25f-4954-9235-a1f89ed69bb5"
   },
   "outputs": [
    {
     "ename": "NameError",
     "evalue": "name 'df_appended' is not defined",
     "output_type": "error",
     "traceback": [
      "\u001b[1;31m---------------------------------------------------------------------------\u001b[0m",
      "\u001b[1;31mNameError\u001b[0m                                 Traceback (most recent call last)",
      "\u001b[1;32m<ipython-input-45-ca1c177793fd>\u001b[0m in \u001b[0;36m<module>\u001b[1;34m\u001b[0m\n\u001b[1;32m----> 1\u001b[1;33m \u001b[0mdf_appended\u001b[0m\u001b[1;33m\u001b[0m\u001b[1;33m\u001b[0m\u001b[0m\n\u001b[0m",
      "\u001b[1;31mNameError\u001b[0m: name 'df_appended' is not defined"
     ]
    }
   ],
   "source": [
    "df_appended"
   ]
  },
  {
   "cell_type": "code",
   "execution_count": null,
   "metadata": {
    "id": "hzZcgAyFie81"
   },
   "outputs": [],
   "source": []
  },
  {
   "cell_type": "code",
   "execution_count": null,
   "metadata": {
    "id": "WHEQpiZv3Lvc"
   },
   "outputs": [],
   "source": [
    "df_appended1=df_appended.loc[:,['Index1','body']]"
   ]
  },
  {
   "cell_type": "code",
   "execution_count": null,
   "metadata": {
    "id": "Ac5NmgoZ4aTz"
   },
   "outputs": [],
   "source": [
    "del df_appended"
   ]
  },
  {
   "cell_type": "code",
   "execution_count": null,
   "metadata": {
    "id": "j2IGvyO25V6P"
   },
   "outputs": [],
   "source": [
    "df_appended1=df_appended1[5500000:]"
   ]
  },
  {
   "cell_type": "code",
   "execution_count": null,
   "metadata": {
    "id": "u2bp5Annxnh2"
   },
   "outputs": [],
   "source": [
    "l1=['vaccine', 'vaccines', 'vaccinated', 'vaccination', 'vacinne', 'vacine', \n",
    "    \n",
    "    'covid', 'covid-19', 'coronavirus', 'pandemic', 'immunization',\n",
    "\n",
    "    'pfizer','moderna','Pfizer-BioNTech','Johnson & Johnson’s Janssen','Janssen'\n",
    "    ]\n",
    "\n",
    "for i in l1:\n",
    "\n",
    "  df_appended1[i+'_bool']=df_appended1['body'].str.lower().str.contains(i).astype(int)\n",
    "\n"
   ]
  },
  {
   "cell_type": "code",
   "execution_count": null,
   "metadata": {
    "id": "Gz7953_e6eI7"
   },
   "outputs": [],
   "source": [
    "corona_group=['covid_bool', 'covid-19_bool', 'coronavirus_bool', 'pandemic_bool']\n",
    "vaccine_group=['vaccine_bool', 'vaccines_bool', 'vaccinated_bool', 'vaccination_bool', 'vacinne_bool', 'vacine_bool','pfizer_bool','moderna_bool','Pfizer-BioNTech_bool','Johnson & Johnson’s Janssen_bool','Janssen_bool']\n",
    "\n",
    "df_appended1['Corona_comb']= df_appended1[corona_group].max(axis=1)\n",
    "df_appended1['Vaccine_comb']= df_appended1[vaccine_group].max(axis=1)"
   ]
  },
  {
   "cell_type": "code",
   "execution_count": null,
   "metadata": {
    "id": "M2QuccWq7MbU"
   },
   "outputs": [],
   "source": [
    "df_appended1['Overall_bool']=df_appended1[['Corona_comb','Vaccine_comb']].min(axis=1)"
   ]
  },
  {
   "cell_type": "code",
   "execution_count": null,
   "metadata": {
    "id": "E6dW-eeE8PyE"
   },
   "outputs": [],
   "source": [
    "df_appended1[df_appended1.Vaccine_comb==1]"
   ]
  },
  {
   "cell_type": "code",
   "execution_count": null,
   "metadata": {
    "id": "nrSfSxaP8Ri2"
   },
   "outputs": [],
   "source": [
    "g=df_appended1[(df_appended1.Corona_comb==1) | (df_appended1.Vaccine_comb==1) | (df_appended1.Overall_bool==1)]\n",
    "g"
   ]
  },
  {
   "cell_type": "code",
   "execution_count": null,
   "metadata": {
    "id": "jJWJinHS9_mA"
   },
   "outputs": [],
   "source": [
    "#g.to_csv('Preprocessed_1_500000.csv', index=False)\n",
    "#g.to_csv('Preprocessed_500000_1500000.csv', index=False)\n",
    "#g.to_csv('Preprocessed_1500000_2500000.csv', index=False)\n",
    "#g.to_csv('Preprocessed_2500000_3500000.csv', index=False)\n",
    "#g.to_csv('Preprocessed_3500000_4500000.csv', index=False)\n",
    "#g.to_csv('Preprocessed_4500000_5500000.csv', index=False)\n",
    "#g.to_csv('Preprocessed_5500000_above.csv', index=False)"
   ]
  },
  {
   "cell_type": "markdown",
   "metadata": {
    "id": "YE-oC7muHX8N"
   },
   "source": [
    "## Combining CSV's to get our final relevant data"
   ]
  },
  {
   "cell_type": "code",
   "execution_count": null,
   "metadata": {
    "id": "YxqnVkWg-nYK"
   },
   "outputs": [],
   "source": [
    "l2=['Preprocessed_1_500000.csv','Preprocessed_500000_1500000.csv','Preprocessed_1500000_2500000.csv','Preprocessed_2500000_3500000.csv','Preprocessed_3500000_4500000.csv','Preprocessed_4500000_5500000.csv','Preprocessed_5500000_above.csv']"
   ]
  },
  {
   "cell_type": "code",
   "execution_count": null,
   "metadata": {
    "id": "L-U99opSIAZi"
   },
   "outputs": [],
   "source": [
    "check1=pd.read_csv('Preprocessed_500000_1500000.csv')"
   ]
  },
  {
   "cell_type": "code",
   "execution_count": null,
   "metadata": {
    "id": "ZIv3u7gPIE3I"
   },
   "outputs": [],
   "source": [
    "check1.columns"
   ]
  },
  {
   "cell_type": "code",
   "execution_count": null,
   "metadata": {
    "id": "7FuH5PivH8E6"
   },
   "outputs": [],
   "source": [
    "df_processed=pd.DataFrame(columns=['Index1', 'body', 'vaccine_bool', 'vaccines_bool', 'vaccinated_bool',\n",
    "       'vaccination_bool', 'vacinne_bool', 'vacine_bool', 'covid_bool',\n",
    "       'covid-19_bool', 'coronavirus_bool', 'pandemic_bool',\n",
    "       'immunization_bool', 'pfizer_bool', 'moderna_bool',\n",
    "       'Pfizer-BioNTech_bool', 'Johnson & Johnson’s Janssen_bool',\n",
    "       'Janssen_bool', 'Corona_comb', 'Vaccine_comb', 'Overall_bool'])\n",
    "for i in l2:\n",
    "  temp=pd.read_csv(i)\n",
    "  df_processed=df_processed.append(temp)"
   ]
  },
  {
   "cell_type": "code",
   "execution_count": null,
   "metadata": {
    "id": "n4yY4XJtIZuL"
   },
   "outputs": [],
   "source": [
    "df_processed[df_processed.Overall_bool==1].shape"
   ]
  },
  {
   "cell_type": "code",
   "execution_count": null,
   "metadata": {
    "id": "wW6xLUhYIdCH"
   },
   "outputs": [],
   "source": [
    "df_processed.head()"
   ]
  },
  {
   "cell_type": "code",
   "execution_count": null,
   "metadata": {
    "id": "L3neDhFpg2D0"
   },
   "outputs": [],
   "source": [
    "df_processed.to_csv('RelevantData.csv',index=False)"
   ]
  },
  {
   "cell_type": "markdown",
   "metadata": {
    "id": "aFoTpIW9RpZh"
   },
   "source": [
    "## LDA code beigns\n"
   ]
  },
  {
   "cell_type": "code",
   "execution_count": 32,
   "metadata": {
    "executionInfo": {
     "elapsed": 1532,
     "status": "ok",
     "timestamp": 1638070277975,
     "user": {
      "displayName": "gurneet singh",
      "photoUrl": "https://lh3.googleusercontent.com/a-/AOh14Ggcya01yjyrc6tr-pEuKhQEbhpHFxL2PI6oSJ5u=s64",
      "userId": "09363295176528521202"
     },
     "user_tz": 300
    },
    "id": "mscXT9Zp9W2g"
   },
   "outputs": [],
   "source": [
    "df_processed=pd.read_csv('RelevantData.csv')"
   ]
  },
  {
   "cell_type": "code",
   "execution_count": 19,
   "metadata": {
    "executionInfo": {
     "elapsed": 183,
     "status": "ok",
     "timestamp": 1638070071828,
     "user": {
      "displayName": "gurneet singh",
      "photoUrl": "https://lh3.googleusercontent.com/a-/AOh14Ggcya01yjyrc6tr-pEuKhQEbhpHFxL2PI6oSJ5u=s64",
      "userId": "09363295176528521202"
     },
     "user_tz": 300
    },
    "id": "cwFHsKxI9hHp"
   },
   "outputs": [],
   "source": [
    "df_processed=df_processed[df_processed.Overall_bool==1]"
   ]
  },
  {
   "cell_type": "code",
   "execution_count": 33,
   "metadata": {
    "colab": {
     "base_uri": "https://localhost:8080/"
    },
    "executionInfo": {
     "elapsed": 137,
     "status": "ok",
     "timestamp": 1638070284327,
     "user": {
      "displayName": "gurneet singh",
      "photoUrl": "https://lh3.googleusercontent.com/a-/AOh14Ggcya01yjyrc6tr-pEuKhQEbhpHFxL2PI6oSJ5u=s64",
      "userId": "09363295176528521202"
     },
     "user_tz": 300
    },
    "id": "18bKCxPi9tQw",
    "outputId": "6a08c0b7-6a82-41a2-9598-5ecf9e1cdc18"
   },
   "outputs": [
    {
     "data": {
      "text/plain": [
       "(161529, 21)"
      ]
     },
     "execution_count": 33,
     "metadata": {},
     "output_type": "execute_result"
    }
   ],
   "source": [
    "df_processed.shape"
   ]
  },
  {
   "cell_type": "code",
   "execution_count": 8,
   "metadata": {
    "colab": {
     "base_uri": "https://localhost:8080/"
    },
    "executionInfo": {
     "elapsed": 6987,
     "status": "ok",
     "timestamp": 1638069770313,
     "user": {
      "displayName": "gurneet singh",
      "photoUrl": "https://lh3.googleusercontent.com/a-/AOh14Ggcya01yjyrc6tr-pEuKhQEbhpHFxL2PI6oSJ5u=s64",
      "userId": "09363295176528521202"
     },
     "user_tz": 300
    },
    "id": "t4R4z5n5UFNa",
    "outputId": "c45ca5b4-4edf-49cf-c960-588b04e7cd00"
   },
   "outputs": [
    {
     "name": "stdout",
     "output_type": "stream",
     "text": [
      "[nltk_data] Downloading package stopwords to /root/nltk_data...\n",
      "[nltk_data]   Package stopwords is already up-to-date!\n",
      "Collecting en_core_web_sm==2.2.5\n",
      "  Downloading https://github.com/explosion/spacy-models/releases/download/en_core_web_sm-2.2.5/en_core_web_sm-2.2.5.tar.gz (12.0 MB)\n",
      "\u001b[K     |████████████████████████████████| 12.0 MB 5.1 MB/s \n",
      "\u001b[?25hRequirement already satisfied: spacy>=2.2.2 in /usr/local/lib/python3.7/dist-packages (from en_core_web_sm==2.2.5) (2.2.4)\n",
      "Requirement already satisfied: setuptools in /usr/local/lib/python3.7/dist-packages (from spacy>=2.2.2->en_core_web_sm==2.2.5) (57.4.0)\n",
      "Requirement already satisfied: catalogue<1.1.0,>=0.0.7 in /usr/local/lib/python3.7/dist-packages (from spacy>=2.2.2->en_core_web_sm==2.2.5) (1.0.0)\n",
      "Requirement already satisfied: preshed<3.1.0,>=3.0.2 in /usr/local/lib/python3.7/dist-packages (from spacy>=2.2.2->en_core_web_sm==2.2.5) (3.0.6)\n",
      "Requirement already satisfied: srsly<1.1.0,>=1.0.2 in /usr/local/lib/python3.7/dist-packages (from spacy>=2.2.2->en_core_web_sm==2.2.5) (1.0.5)\n",
      "Requirement already satisfied: wasabi<1.1.0,>=0.4.0 in /usr/local/lib/python3.7/dist-packages (from spacy>=2.2.2->en_core_web_sm==2.2.5) (0.8.2)\n",
      "Requirement already satisfied: plac<1.2.0,>=0.9.6 in /usr/local/lib/python3.7/dist-packages (from spacy>=2.2.2->en_core_web_sm==2.2.5) (1.1.3)\n",
      "Requirement already satisfied: thinc==7.4.0 in /usr/local/lib/python3.7/dist-packages (from spacy>=2.2.2->en_core_web_sm==2.2.5) (7.4.0)\n",
      "Requirement already satisfied: murmurhash<1.1.0,>=0.28.0 in /usr/local/lib/python3.7/dist-packages (from spacy>=2.2.2->en_core_web_sm==2.2.5) (1.0.6)\n",
      "Requirement already satisfied: tqdm<5.0.0,>=4.38.0 in /usr/local/lib/python3.7/dist-packages (from spacy>=2.2.2->en_core_web_sm==2.2.5) (4.62.3)\n",
      "Requirement already satisfied: cymem<2.1.0,>=2.0.2 in /usr/local/lib/python3.7/dist-packages (from spacy>=2.2.2->en_core_web_sm==2.2.5) (2.0.6)\n",
      "Requirement already satisfied: requests<3.0.0,>=2.13.0 in /usr/local/lib/python3.7/dist-packages (from spacy>=2.2.2->en_core_web_sm==2.2.5) (2.23.0)\n",
      "Requirement already satisfied: blis<0.5.0,>=0.4.0 in /usr/local/lib/python3.7/dist-packages (from spacy>=2.2.2->en_core_web_sm==2.2.5) (0.4.1)\n",
      "Requirement already satisfied: numpy>=1.15.0 in /usr/local/lib/python3.7/dist-packages (from spacy>=2.2.2->en_core_web_sm==2.2.5) (1.19.5)\n",
      "Requirement already satisfied: importlib-metadata>=0.20 in /usr/local/lib/python3.7/dist-packages (from catalogue<1.1.0,>=0.0.7->spacy>=2.2.2->en_core_web_sm==2.2.5) (4.8.2)\n",
      "Requirement already satisfied: typing-extensions>=3.6.4 in /usr/local/lib/python3.7/dist-packages (from importlib-metadata>=0.20->catalogue<1.1.0,>=0.0.7->spacy>=2.2.2->en_core_web_sm==2.2.5) (3.10.0.2)\n",
      "Requirement already satisfied: zipp>=0.5 in /usr/local/lib/python3.7/dist-packages (from importlib-metadata>=0.20->catalogue<1.1.0,>=0.0.7->spacy>=2.2.2->en_core_web_sm==2.2.5) (3.6.0)\n",
      "Requirement already satisfied: urllib3!=1.25.0,!=1.25.1,<1.26,>=1.21.1 in /usr/local/lib/python3.7/dist-packages (from requests<3.0.0,>=2.13.0->spacy>=2.2.2->en_core_web_sm==2.2.5) (1.24.3)\n",
      "Requirement already satisfied: chardet<4,>=3.0.2 in /usr/local/lib/python3.7/dist-packages (from requests<3.0.0,>=2.13.0->spacy>=2.2.2->en_core_web_sm==2.2.5) (3.0.4)\n",
      "Requirement already satisfied: certifi>=2017.4.17 in /usr/local/lib/python3.7/dist-packages (from requests<3.0.0,>=2.13.0->spacy>=2.2.2->en_core_web_sm==2.2.5) (2021.10.8)\n",
      "Requirement already satisfied: idna<3,>=2.5 in /usr/local/lib/python3.7/dist-packages (from requests<3.0.0,>=2.13.0->spacy>=2.2.2->en_core_web_sm==2.2.5) (2.10)\n",
      "\u001b[38;5;2m✔ Download and installation successful\u001b[0m\n",
      "You can now load the model via spacy.load('en_core_web_sm')\n",
      "\u001b[38;5;2m✔ Linking successful\u001b[0m\n",
      "/usr/local/lib/python3.7/dist-packages/en_core_web_sm -->\n",
      "/usr/local/lib/python3.7/dist-packages/spacy/data/en\n",
      "You can now load the model via spacy.load('en')\n"
     ]
    }
   ],
   "source": [
    "# Run in python console\n",
    "import nltk; nltk.download('stopwords')\n",
    "\n",
    "# Run in terminal or command prompt\n",
    "!python3 -m spacy download en"
   ]
  },
  {
   "cell_type": "code",
   "execution_count": null,
   "metadata": {
    "colab": {
     "base_uri": "https://localhost:8080/"
    },
    "executionInfo": {
     "elapsed": 3596,
     "status": "ok",
     "timestamp": 1637870582482,
     "user": {
      "displayName": "gurneet singh",
      "photoUrl": "https://lh3.googleusercontent.com/a-/AOh14Ggcya01yjyrc6tr-pEuKhQEbhpHFxL2PI6oSJ5u=s64",
      "userId": "09363295176528521202"
     },
     "user_tz": 300
    },
    "id": "wl2B1yn3UNWB",
    "outputId": "e5799280-ea80-4351-b932-ae3284d2e828"
   },
   "outputs": [
    {
     "name": "stdout",
     "output_type": "stream",
     "text": [
      "Requirement already satisfied: pyLDAvis in /usr/local/lib/python3.7/dist-packages (3.2.1)\n",
      "Requirement already satisfied: joblib>=0.8.4 in /usr/local/lib/python3.7/dist-packages (from pyLDAvis) (1.1.0)\n",
      "Requirement already satisfied: future in /usr/local/lib/python3.7/dist-packages (from pyLDAvis) (0.16.0)\n",
      "Requirement already satisfied: numpy>=1.9.2 in /usr/local/lib/python3.7/dist-packages (from pyLDAvis) (1.21.4)\n",
      "Requirement already satisfied: jinja2>=2.7.2 in /usr/local/lib/python3.7/dist-packages (from pyLDAvis) (2.11.3)\n",
      "Requirement already satisfied: wheel>=0.23.0 in /usr/local/lib/python3.7/dist-packages (from pyLDAvis) (0.37.0)\n",
      "Requirement already satisfied: numexpr in /usr/local/lib/python3.7/dist-packages (from pyLDAvis) (2.7.3)\n",
      "Requirement already satisfied: funcy in /usr/local/lib/python3.7/dist-packages (from pyLDAvis) (1.16)\n",
      "Requirement already satisfied: scipy>=0.18.0 in /usr/local/lib/python3.7/dist-packages (from pyLDAvis) (1.4.1)\n",
      "Requirement already satisfied: pandas>=0.17.0 in /usr/local/lib/python3.7/dist-packages (from pyLDAvis) (1.3.4)\n",
      "Requirement already satisfied: MarkupSafe>=0.23 in /usr/local/lib/python3.7/dist-packages (from jinja2>=2.7.2->pyLDAvis) (2.0.1)\n",
      "Requirement already satisfied: pytz>=2017.3 in /usr/local/lib/python3.7/dist-packages (from pandas>=0.17.0->pyLDAvis) (2018.9)\n",
      "Requirement already satisfied: python-dateutil>=2.7.3 in /usr/local/lib/python3.7/dist-packages (from pandas>=0.17.0->pyLDAvis) (2.8.2)\n",
      "Requirement already satisfied: six>=1.5 in /usr/local/lib/python3.7/dist-packages (from python-dateutil>=2.7.3->pandas>=0.17.0->pyLDAvis) (1.15.0)\n"
     ]
    },
    {
     "name": "stderr",
     "output_type": "stream",
     "text": [
      "/usr/local/lib/python3.7/dist-packages/past/types/oldstr.py:5: DeprecationWarning: Using or importing the ABCs from 'collections' instead of from 'collections.abc' is deprecated since Python 3.3,and in 3.9 it will stop working\n",
      "  from collections import Iterable\n"
     ]
    }
   ],
   "source": [
    "import re\n",
    "import numpy as np\n",
    "import pandas as pd\n",
    "from pprint import pprint\n",
    "\n",
    "# Gensim\n",
    "import gensim\n",
    "import gensim.corpora as corpora\n",
    "from gensim.utils import simple_preprocess\n",
    "from gensim.models import CoherenceModel\n",
    "\n",
    "# spacy for lemmatization\n",
    "import spacy\n",
    "\n",
    "\n",
    "# Plotting tools\n",
    "!pip install pyLDAvis\n",
    "import pyLDAvis\n",
    "#!pip install pyLDAvis.gensim\n",
    "#import pyLDAvis.gensim\n",
    "import matplotlib.pyplot as plt\n",
    "%matplotlib inline\n",
    "\n",
    "# Enable logging for gensim - optional\n",
    "import logging\n",
    "logging.basicConfig(format='%(asctime)s : %(levelname)s : %(message)s', level=logging.ERROR)\n",
    "\n",
    "import warnings\n",
    "warnings.filterwarnings(\"ignore\",category=DeprecationWarning)"
   ]
  },
  {
   "cell_type": "code",
   "execution_count": null,
   "metadata": {
    "id": "oL_LFcfMVJoL"
   },
   "outputs": [],
   "source": [
    "\n",
    "# NLTK Stop words\n",
    "from nltk.corpus import stopwords\n",
    "stop_words = stopwords.words('english')\n",
    "stop_words.extend(['from', 'subject', 're', 'edu', 'use'])"
   ]
  },
  {
   "cell_type": "code",
   "execution_count": null,
   "metadata": {
    "colab": {
     "base_uri": "https://localhost:8080/"
    },
    "executionInfo": {
     "elapsed": 2794,
     "status": "ok",
     "timestamp": 1637870585410,
     "user": {
      "displayName": "gurneet singh",
      "photoUrl": "https://lh3.googleusercontent.com/a-/AOh14Ggcya01yjyrc6tr-pEuKhQEbhpHFxL2PI6oSJ5u=s64",
      "userId": "09363295176528521202"
     },
     "user_tz": 300
    },
    "id": "YWdFH0L2VWhM",
    "outputId": "37e577bc-ebe3-4361-fd12-ce0905878e61"
   },
   "outputs": [
    {
     "name": "stdout",
     "output_type": "stream",
     "text": [
      "['The company I work for is also giving $100 to those who get vaccinated! '\n",
      " 'Unfortunately I caught Covid in late March and I can’t even get vaccinated '\n",
      " 'until June 25th. I feel like instead of 1 million to 1 person each week, '\n",
      " 'they could lower that to like $5,000 and spread that money around a lot '\n",
      " 'more!']\n"
     ]
    }
   ],
   "source": [
    "\n",
    "# Convert to list\n",
    "data = df_processed.body.values.tolist()\n",
    "\n",
    "# Remove Emails\n",
    "data = [re.sub('\\S*@\\S*\\s?', '', sent) for sent in data]\n",
    "\n",
    "# Remove new line characters\n",
    "data = [re.sub('\\s+', ' ', sent) for sent in data]\n",
    "\n",
    "# Remove distracting single quotes\n",
    "data = [re.sub(\"\\'\", \"\", sent) for sent in data]\n",
    "\n",
    "pprint(data[:1])\n"
   ]
  },
  {
   "cell_type": "code",
   "execution_count": null,
   "metadata": {
    "colab": {
     "base_uri": "https://localhost:8080/"
    },
    "executionInfo": {
     "elapsed": 361725,
     "status": "ok",
     "timestamp": 1637870947133,
     "user": {
      "displayName": "gurneet singh",
      "photoUrl": "https://lh3.googleusercontent.com/a-/AOh14Ggcya01yjyrc6tr-pEuKhQEbhpHFxL2PI6oSJ5u=s64",
      "userId": "09363295176528521202"
     },
     "user_tz": 300
    },
    "id": "v48VkEiTQ6CI",
    "outputId": "4eab5113-2821-4a51-c47b-1e916e20a405"
   },
   "outputs": [
    {
     "name": "stdout",
     "output_type": "stream",
     "text": [
      "[['the', 'company', 'work', 'for', 'is', 'also', 'giving', 'to', 'those', 'who', 'get', 'vaccinated', 'unfortunately', 'caught', 'covid', 'in', 'late', 'march', 'and', 'can', 'even', 'get', 'vaccinated', 'until', 'june', 'th', 'feel', 'like', 'instead', 'of', 'million', 'to', 'person', 'each', 'week', 'they', 'could', 'lower', 'that', 'to', 'like', 'and', 'spread', 'that', 'money', 'around', 'lot', 'more']]\n"
     ]
    },
    {
     "name": "stderr",
     "output_type": "stream",
     "text": [
      "/usr/local/lib/python3.7/dist-packages/gensim/models/phrases.py:598: UserWarning: For a faster implementation, use the gensim.models.phrases.Phraser class\n",
      "  warnings.warn(\"For a faster implementation, use the gensim.models.phrases.Phraser class\")\n"
     ]
    },
    {
     "name": "stdout",
     "output_type": "stream",
     "text": [
      "['the', 'company', 'work', 'for', 'is', 'also', 'giving', 'to', 'those', 'who', 'get', 'vaccinated', 'unfortunately', 'caught', 'covid', 'in', 'late', 'march', 'and', 'can', 'even', 'get', 'vaccinated', 'until', 'june', 'th', 'feel', 'like', 'instead', 'of', 'million', 'to', 'person', 'each', 'week', 'they', 'could', 'lower', 'that', 'to', 'like', 'and', 'spread', 'that', 'money', 'around', 'lot', 'more']\n",
      "[['company', 'work', 'also', 'give', 'get', 'vaccinate', 'unfortunately', 'catch', 'late', 'even', 'get', 'vaccinate', 'feel', 'instead', 'person', 'week', 'could', 'lower', 'spread', 'money', 'lot']]\n",
      "[[(0, 1), (1, 1), (2, 1), (3, 1), (4, 1), (5, 1), (6, 2), (7, 1), (8, 1), (9, 1), (10, 1), (11, 1), (12, 1), (13, 1), (14, 1), (15, 1), (16, 2), (17, 1), (18, 1)]]\n",
      "[(0,\n",
      "  '0.120*\"virus\" + 0.085*\"infection\" + 0.076*\"variant\" + 0.071*\"antibody\" + '\n",
      "  '0.047*\"immune\" + 0.045*\"immunity\" + 0.034*\"response\" + 0.026*\"reduce\" + '\n",
      "  '0.026*\"infect\" + 0.017*\"result\"'),\n",
      " (1,\n",
      "  '0.341*\"vaccine\" + 0.221*\"covid\" + 0.061*\"health\" + 0.046*\"new\" + '\n",
      "  '0.043*\"dose\" + 0.023*\"life\" + 0.022*\"term\" + 0.019*\"first\" + 0.013*\"chance\" '\n",
      "  '+ 0.013*\"research\"'),\n",
      " (2,\n",
      "  '0.084*\"get\" + 0.031*\"go\" + 0.029*\"work\" + 0.027*\"time\" + 0.026*\"know\" + '\n",
      "  '0.024*\"take\" + 0.023*\"be\" + 0.022*\"see\" + 0.021*\"make\" + 0.021*\"could\"'),\n",
      " (3,\n",
      "  '0.063*\"s\" + 0.056*\"help\" + 0.040*\"law\" + 0.030*\"always\" + 0.025*\"instead\" + '\n",
      "  '0.022*\"refuse\" + 0.020*\"physician\" + 0.019*\"catch\" + 0.017*\"money\" + '\n",
      "  '0.017*\"pregnant\"'),\n",
      " (4,\n",
      "  '0.082*\"government\" + 0.049*\"federal\" + 0.026*\"event\" + 0.025*\"cost\" + '\n",
      "  '0.024*\"account\" + 0.022*\"regard\" + 0.021*\"pandemic\" + 0.020*\"spare\" + '\n",
      "  '0.017*\"submit\" + 0.015*\"combat\"'),\n",
      " (5,\n",
      "  '0.097*\"need\" + 0.088*\"death\" + 0.062*\"datum\" + 0.048*\"receive\" + '\n",
      "  '0.048*\"point\" + 0.042*\"gt\" + 0.041*\"use\" + 0.031*\"show\" + 0.026*\"medicine\" '\n",
      "  '+ 0.026*\"effective\"'),\n",
      " (6,\n",
      "  '0.081*\"case\" + 0.057*\"long\" + 0.052*\"protect\" + 0.047*\"shot\" + '\n",
      "  '0.028*\"protection\" + 0.028*\"severe\" + 0.026*\"illness\" + 0.025*\"age\" + '\n",
      "  '0.022*\"due\" + 0.020*\"amp\"'),\n",
      " (7,\n",
      "  '0.083*\"hold\" + 0.041*\"pregnancy\" + 0.031*\"dangerous\" + 0.028*\"autoimmune\" + '\n",
      "  '0.025*\"relationship\" + 0.023*\"terrible\" + 0.021*\"pet\" + 0.018*\"pandemic\" + '\n",
      "  '0.014*\"swab\" + 0.014*\"license\"'),\n",
      " (8,\n",
      "  '0.068*\"patient\" + 0.044*\"care\" + 0.041*\"state\" + 0.040*\"mask\" + '\n",
      "  '0.030*\"hospital\" + 0.020*\"mandate\" + 0.019*\"cause\" + 0.019*\"available\" + '\n",
      "  '0.019*\"treatment\" + 0.019*\"school\"'),\n",
      " (9,\n",
      "  '0.042*\"staff\" + 0.042*\"employee\" + 0.031*\"third\" + 0.028*\"face\" + '\n",
      "  '0.023*\"room\" + 0.022*\"administration\" + 0.020*\"avoid\" + 0.020*\"range\" + '\n",
      "  '0.019*\"advocate\" + 0.019*\"glad\"'),\n",
      " (10,\n",
      "  '0.144*\"test\" + 0.052*\"live\" + 0.046*\"positive\" + 0.039*\"end\" + '\n",
      "  '0.031*\"result\" + 0.030*\"remain\" + 0.029*\"fight\" + 0.027*\"community\" + '\n",
      "  '0.024*\"multiple\" + 0.023*\"phase\"'),\n",
      " (11,\n",
      "  '0.167*\"people\" + 0.114*\"say\" + 0.037*\"also\" + 0.031*\"require\" + '\n",
      "  '0.030*\"unvaccinated\" + 0.022*\"public\" + 0.022*\"thing\" + 0.019*\"tell\" + '\n",
      "  '0.016*\"mutation\" + 0.016*\"worker\"'),\n",
      " (12,\n",
      "  '0.119*\"country\" + 0.053*\"place\" + 0.040*\"global\" + 0.033*\"control\" + '\n",
      "  '0.025*\"farm\" + 0.024*\"allocation\" + 0.023*\"factor\" + 0.019*\"scientific\" + '\n",
      "  '0.016*\"evolution\" + 0.014*\"international\"'),\n",
      " (13,\n",
      "  '0.104*\"vaccination\" + 0.059*\"vaccinate\" + 0.057*\"risk\" + 0.045*\"rate\" + '\n",
      "  '0.045*\"high\" + 0.036*\"year\" + 0.030*\"likely\" + 0.028*\"less\" + 0.026*\"child\" '\n",
      "  '+ 0.024*\"die\"'),\n",
      " (14,\n",
      "  '0.106*\"family\" + 0.070*\"nurse\" + 0.030*\"pre\" + 0.028*\"present\" + '\n",
      "  '0.028*\"pharmacy\" + 0.026*\"hurt\" + 0.022*\"explain\" + 0.020*\"form\" + '\n",
      "  '0.019*\"season\" + 0.015*\"adequate\"'),\n",
      " (15,\n",
      "  '0.074*\"would\" + 0.051*\"feel\" + 0.039*\"really\" + 0.037*\"already\" + '\n",
      "  '0.032*\"make\" + 0.025*\"adult\" + 0.025*\"vulnerable\" + 0.020*\"able\" + '\n",
      "  '0.019*\"even\" + 0.017*\"course\"'),\n",
      " (16,\n",
      "  '0.156*\"effect\" + 0.083*\"side\" + 0.045*\"reaction\" + 0.037*\"medium\" + '\n",
      "  '0.035*\"plenty\" + 0.034*\"benefit\" + 0.018*\"elder\" + 0.014*\"myocarditis\" + '\n",
      "  '0.014*\"moment\" + 0.014*\"bell_palsy\"'),\n",
      " (17,\n",
      "  '0.052*\"week\" + 0.048*\"day\" + 0.042*\"year\" + 0.039*\"spread\" + '\n",
      "  '0.039*\"medical\" + 0.039*\"last\" + 0.034*\"report\" + 0.031*\"bad\" + '\n",
      "  '0.030*\"start\" + 0.025*\"support\"'),\n",
      " (18,\n",
      "  '0.044*\"study\" + 0.033*\"find\" + 0.030*\"com\" + 0.027*\"trial\" + 0.023*\"accord\" '\n",
      "  '+ 0.022*\"breakthrough\" + 0.020*\"change\" + 0.020*\"ask\" + 0.019*\"condition\" + '\n",
      "  '0.018*\"least\"'),\n",
      " (19,\n",
      "  '0.058*\"symptom\" + 0.053*\"booster\" + 0.039*\"lead\" + 0.037*\"happen\" + '\n",
      "  '0.033*\"could\" + 0.026*\"big\" + 0.020*\"mild\" + 0.019*\"parent\" + '\n",
      "  '0.017*\"possible\" + 0.017*\"literally\"')]\n",
      "\n",
      "Perplexity:  -7.555340835513148\n",
      "\n",
      "Coherence Score:  0.35271991719179585\n"
     ]
    }
   ],
   "source": [
    "\n",
    "\n",
    "\n",
    "def sent_to_words(sentences):\n",
    "    for sentence in sentences:\n",
    "        yield(gensim.utils.simple_preprocess(str(sentence), deacc=True))  # deacc=True removes punctuations\n",
    "\n",
    "data_words = list(sent_to_words(data))\n",
    "\n",
    "print(data_words[:1])\n",
    "\n",
    "\n",
    "# Build the bigram and trigram models\n",
    "bigram = gensim.models.Phrases(data_words, min_count=5, threshold=100) # higher threshold fewer phrases.\n",
    "trigram = gensim.models.Phrases(bigram[data_words], threshold=100)  \n",
    "\n",
    "# Faster way to get a sentence clubbed as a trigram/bigram\n",
    "bigram_mod = gensim.models.phrases.Phraser(bigram)\n",
    "trigram_mod = gensim.models.phrases.Phraser(trigram)\n",
    "\n",
    "# See trigram example\n",
    "print(trigram_mod[bigram_mod[data_words[0]]])\n",
    "\n",
    "\n",
    "# Define functions for stopwords, bigrams, trigrams and lemmatization\n",
    "def remove_stopwords(texts):\n",
    "    return [[word for word in simple_preprocess(str(doc)) if word not in stop_words] for doc in texts]\n",
    "\n",
    "def make_bigrams(texts):\n",
    "    return [bigram_mod[doc] for doc in texts]\n",
    "\n",
    "def make_trigrams(texts):\n",
    "    return [trigram_mod[bigram_mod[doc]] for doc in texts]\n",
    "\n",
    "def lemmatization(texts, allowed_postags=['NOUN', 'ADJ', 'VERB', 'ADV']):\n",
    "    \"\"\"https://spacy.io/api/annotation\"\"\"\n",
    "    texts_out = []\n",
    "    for sent in texts:\n",
    "        doc = nlp(\" \".join(sent)) \n",
    "        texts_out.append([token.lemma_ for token in doc if token.pos_ in allowed_postags])\n",
    "    return texts_out\n",
    "\n",
    "\n",
    "# Remove Stop Words\n",
    "data_words_nostops = remove_stopwords(data_words)\n",
    "\n",
    "# Form Bigrams\n",
    "data_words_bigrams = make_bigrams(data_words_nostops)\n",
    "\n",
    "# Initialize spacy 'en' model, keeping only tagger component (for efficiency)\n",
    "# python3 -m spacy download en\n",
    "nlp = spacy.load('en', disable=['parser', 'ner'])\n",
    "\n",
    "# Do lemmatization keeping only noun, adj, vb, adv\n",
    "data_lemmatized = lemmatization(data_words_bigrams, allowed_postags=['NOUN', 'ADJ', 'VERB', 'ADV'])\n",
    "\n",
    "print(data_lemmatized[:1])\n",
    "\n",
    "\n",
    "# Create Dictionary\n",
    "id2word = corpora.Dictionary(data_lemmatized)\n",
    "\n",
    "# Create Corpus\n",
    "texts = data_lemmatized\n",
    "\n",
    "# Term Document Frequency\n",
    "corpus = [id2word.doc2bow(text) for text in texts]\n",
    "\n",
    "# View\n",
    "print(corpus[:1])\n",
    "\n",
    "\n",
    "# Human readable format of corpus (term-frequency)\n",
    "[[(id2word[id], freq) for id, freq in cp] for cp in corpus[:1]]\n",
    "\n",
    "\n",
    "# Build LDA model\n",
    "lda_model = gensim.models.ldamodel.LdaModel(corpus=corpus,\n",
    "                                           id2word=id2word,\n",
    "                                           num_topics=20, \n",
    "                                           random_state=100,\n",
    "                                           update_every=1,\n",
    "                                           chunksize=100,\n",
    "                                           passes=10,\n",
    "                                           alpha='auto',\n",
    "                                           per_word_topics=True)\n",
    "\n",
    "# Print the Keyword in the 10 topics\n",
    "pprint(lda_model.print_topics())\n",
    "doc_lda = lda_model[corpus]\n",
    "\n",
    "# Compute Perplexity\n",
    "print('\\nPerplexity: ', lda_model.log_perplexity(corpus))  # a measure of how good the model is. lower the better.\n",
    "\n",
    "# Compute Coherence Score\n",
    "coherence_model_lda = CoherenceModel(model=lda_model, texts=data_lemmatized, dictionary=id2word, coherence='c_v')\n",
    "coherence_lda = coherence_model_lda.get_coherence()\n",
    "print('\\nCoherence Score: ', coherence_lda)\n",
    "\n",
    "# Visualize the topics\n",
    "\n",
    "#import pyLDAvis\n",
    "#import pyLDAvis.gensim_models as gensimvis\n",
    "#pyLDAvis.enable_notebook()\n",
    "\n",
    "# feed the LDA model into the pyLDAvis instance\n",
    "#lda_viz = gensimvis.prepare(lda_model, corpus, id2word)\n",
    "#lda_viz\n",
    "\n"
   ]
  },
  {
   "cell_type": "code",
   "execution_count": null,
   "metadata": {
    "id": "Q6fNqe4g0WKQ"
   },
   "outputs": [],
   "source": []
  },
  {
   "cell_type": "code",
   "execution_count": null,
   "metadata": {
    "colab": {
     "base_uri": "https://localhost:8080/",
     "height": 916
    },
    "executionInfo": {
     "elapsed": 6783,
     "status": "ok",
     "timestamp": 1637870953912,
     "user": {
      "displayName": "gurneet singh",
      "photoUrl": "https://lh3.googleusercontent.com/a-/AOh14Ggcya01yjyrc6tr-pEuKhQEbhpHFxL2PI6oSJ5u=s64",
      "userId": "09363295176528521202"
     },
     "user_tz": 300
    },
    "id": "g0qRXg1f-FKx",
    "outputId": "eabfee65-cb90-4276-f269-d0bd74cf0b4f"
   },
   "outputs": [
    {
     "name": "stderr",
     "output_type": "stream",
     "text": [
      "/usr/local/lib/python3.7/dist-packages/pyLDAvis/_prepare.py:248: FutureWarning: In a future version of pandas all arguments of DataFrame.drop except for the argument 'labels' will be keyword-only\n",
      "  by='saliency', ascending=False).head(R).drop('saliency', 1)\n"
     ]
    },
    {
     "data": {
      "text/html": [
       "\n",
       "<link rel=\"stylesheet\" type=\"text/css\" href=\"https://cdn.jsdelivr.net/gh/bmabey/pyLDAvis/pyLDAvis/js/ldavis.v1.0.0.css\">\n",
       "\n",
       "\n",
       "<div id=\"ldavis_el410140404803541584477855941\"></div>\n",
       "<script type=\"text/javascript\">\n",
       "\n",
       "var ldavis_el410140404803541584477855941_data = {\"mdsDat\": {\"x\": [0.23424998822005352, 0.20934967924291217, 0.06685106290745972, 0.013104536736029198, 0.1216126836669122, 0.09641095884225266, 0.08795296490055002, 0.1525776822248938, -0.0410312052808793, 0.08230546368832102, -0.06175886837332887, -0.09001104459404324, -0.09079932083503951, -0.03970038537336431, -0.1014022817391341, -0.14791524817955348, -0.08013592975564285, -0.13858654504459736, -0.13332674427086036, -0.13974744698293978], \"y\": [-0.22141439667680854, 0.1140252867046531, 0.1732823716216735, 0.14595403311542787, 0.11718666042516193, 0.13770580489147802, -0.040106135305795605, -0.13041255550679035, 0.11719128595111594, -0.18040950731585298, 0.10269762745840183, 0.0858748336000608, -0.05438752260682065, -0.08426873074846312, 0.016849418277726187, -0.07676788441385442, -0.07981867970216586, -0.04093730650299194, -0.025391326969828546, -0.07685327629632718], \"topics\": [1, 2, 3, 4, 5, 6, 7, 8, 9, 10, 11, 12, 13, 14, 15, 16, 17, 18, 19, 20], \"cluster\": [1, 1, 1, 1, 1, 1, 1, 1, 1, 1, 1, 1, 1, 1, 1, 1, 1, 1, 1, 1], \"Freq\": [14.552494636312913, 9.656069793482962, 8.145540720495674, 7.991704529830054, 7.9189800251490015, 7.873653239926126, 5.567621284524525, 5.523079072995564, 5.086507363609979, 4.29110093028812, 4.287755861721205, 2.835973763340707, 2.6418743677752343, 2.6073057737316043, 2.191162032606057, 2.0357691418340162, 1.9864738134448803, 1.8418834716979395, 1.7856523721510489, 1.1793978050823908]}, \"tinfo\": {\"Term\": [\"vaccine\", \"covid\", \"people\", \"vaccination\", \"say\", \"get\", \"virus\", \"test\", \"vaccinate\", \"patient\", \"would\", \"need\", \"case\", \"infection\", \"risk\", \"effect\", \"health\", \"death\", \"variant\", \"year\", \"antibody\", \"rate\", \"high\", \"new\", \"long\", \"could\", \"care\", \"study\", \"make\", \"country\", \"go\", \"know\", \"take\", \"month\", \"still\", \"good\", \"come\", \"right\", \"flu\", \"fully\", \"person\", \"sick\", \"yet\", \"system\", \"mean\", \"can\", \"have\", \"keep\", \"vaccinated\", \"body\", \"shoot\", \"provide\", \"kid\", \"do\", \"save\", \"understand\", \"potential\", \"will\", \"reason\", \"base\", \"get\", \"time\", \"work\", \"want\", \"be\", \"think\", \"try\", \"much\", \"see\", \"other\", \"could\", \"give\", \"even\", \"make\", \"way\", \"well\", \"would\", \"vaccinate\", \"many\", \"may\", \"pandemic\", \"vaccination\", \"risk\", \"rate\", \"high\", \"likely\", \"less\", \"child\", \"low\", \"increase\", \"individual\", \"group\", \"become\", \"old\", \"safe\", \"young\", \"add\", \"social\", \"level\", \"member\", \"soon\", \"transmission\", \"clear\", \"limit\", \"drop\", \"recover\", \"agency\", \"top\", \"predict\", \"worry\", \"associate\", \"population\", \"number\", \"disease\", \"die\", \"compare\", \"vaccinate\", \"year\", \"may\", \"also\", \"reach\", \"say\", \"require\", \"unvaccinated\", \"public\", \"tell\", \"mutation\", \"worker\", \"look\", \"friend\", \"expect\", \"unvaccinate\", \"stop\", \"choice\", \"hear\", \"human\", \"team\", \"job\", \"stay\", \"suggest\", \"process\", \"nearly\", \"believe\", \"better\", \"author\", \"widely\", \"finding\", \"recommend\", \"love\", \"statement\", \"choose\", \"people\", \"thing\", \"leave\", \"also\", \"least\", \"patient\", \"care\", \"state\", \"mask\", \"hospital\", \"mandate\", \"cause\", \"available\", \"treatment\", \"school\", \"include\", \"follow\", \"cell\", \"wear\", \"early\", \"talk\", \"hope\", \"full\", \"home\", \"allow\", \"expert\", \"exemption\", \"let\", \"order\", \"create\", \"else\", \"area\", \"matter\", \"evidence\", \"exposure\", \"back\", \"prevent\", \"world\", \"wait\", \"health\", \"new\", \"dose\", \"life\", \"term\", \"chance\", \"put\", \"normal\", \"anti\", \"probably\", \"rest\", \"recipient\", \"produce\", \"design\", \"winter\", \"minute\", \"anxiety\", \"clearly\", \"tracking\", \"key\", \"instantly\", \"adverse\", \"coworker\", \"convince\", \"slightly\", \"diagnose\", \"vaccine\", \"win\", \"leg\", \"page\", \"covid\", \"cover\", \"first\", \"hard\", \"research\", \"rather\", \"die\", \"even\", \"study\", \"find\", \"com\", \"trial\", \"breakthrough\", \"ask\", \"condition\", \"emergency\", \"site\", \"safety\", \"clinical\", \"concern\", \"supply\", \"researcher\", \"percent\", \"efficacy\", \"authorization\", \"occur\", \"single\", \"treat\", \"serious\", \"local\", \"record\", \"publish\", \"prior\", \"strong\", \"next\", \"director\", \"development\", \"prevention\", \"policy\", \"change\", \"article\", \"accord\", \"news\", \"least\", \"may\", \"long\", \"protect\", \"shot\", \"protection\", \"severe\", \"illness\", \"age\", \"amp\", \"question\", \"issue\", \"post\", \"highly\", \"hospitalize\", \"woman\", \"general\", \"influenza\", \"difference\", \"nursing\", \"travel\", \"blood\", \"wane\", \"longer\", \"relate\", \"agree\", \"contracting\", \"extra\", \"comment\", \"sign\", \"estimate\", \"ca\", \"case\", \"due\", \"different\", \"day\", \"similar\", \"many\", \"week\", \"spread\", \"last\", \"bad\", \"start\", \"support\", \"approve\", \"never\", \"bed\", \"important\", \"continue\", \"student\", \"currently\", \"experience\", \"outbreak\", \"plan\", \"learn\", \"story\", \"example\", \"check\", \"promote\", \"write\", \"misinformation\", \"close\", \"infectious\", \"immunize\", \"list\", \"grow\", \"decade\", \"serve\", \"resident\", \"medical\", \"report\", \"doctor\", \"day\", \"lot\", \"year\", \"call\", \"well\", \"make\", \"offer\", \"see\", \"begin\", \"virus\", \"infection\", \"variant\", \"antibody\", \"immunity\", \"reduce\", \"delta\", \"identify\", \"memory\", \"circulate\", \"symptomatic\", \"cent\", \"natural\", \"indicate\", \"strain\", \"previously\", \"reinfection\", \"viral\", \"future\", \"specific\", \"presence\", \"original\", \"shed\", \"pattern\", \"exhibit\", \"reactivity\", \"transmissible\", \"alpha\", \"cohort\", \"interfere\", \"infect\", \"immune\", \"response\", \"develop\", \"measure\", \"result\", \"show\", \"reach\", \"however\", \"feel\", \"really\", \"already\", \"adult\", \"vulnerable\", \"able\", \"decision\", \"pay\", \"acute\", \"animal\", \"step\", \"drug\", \"cancer\", \"half\", \"million\", \"seek\", \"ability\", \"specie\", \"wish\", \"describe\", \"trust\", \"citizen\", \"topic\", \"summer\", \"additional\", \"option\", \"therapy\", \"limited\", \"leader\", \"fill\", \"course\", \"would\", \"alone\", \"second\", \"make\", \"even\", \"first\", \"lot\", \"need\", \"death\", \"receive\", \"point\", \"gt\", \"use\", \"medicine\", \"effective\", \"healthy\", \"pill\", \"hospitalization\", \"https\", \"short\", \"related\", \"period\", \"real\", \"unlikely\", \"encourage\", \"appointment\", \"pfizer\", \"request\", \"wonder\", \"heart\", \"select\", \"cautious\", \"stuff\", \"hesitant\", \"sub\", \"org\", \"willing\", \"globe\", \"datum\", \"consider\", \"show\", \"affect\", \"test\", \"live\", \"positive\", \"end\", \"remain\", \"fight\", \"community\", \"multiple\", \"phase\", \"monoclonal\", \"requirement\", \"whole\", \"county\", \"decide\", \"cut\", \"action\", \"contact\", \"break\", \"represent\", \"platform\", \"conversation\", \"eligible\", \"together\", \"around\", \"submission\", \"survive\", \"appreciate\", \"caretaker\", \"reality\", \"method\", \"result\", \"wait\", \"s\", \"law\", \"always\", \"instead\", \"refuse\", \"physician\", \"catch\", \"money\", \"pregnant\", \"company\", \"late\", \"bill\", \"misery\", \"drive\", \"resource\", \"necessarily\", \"insurance\", \"quick\", \"unfortunately\", \"transplant\", \"transmit\", \"opening\", \"donor\", \"trauma\", \"car\", \"fast\", \"preserve\", \"book\", \"permanent\", \"coverage\", \"help\", \"none\", \"society\", \"develop\", \"way\", \"claim\", \"accept\", \"symptom\", \"booster\", \"lead\", \"happen\", \"big\", \"mild\", \"parent\", \"literally\", \"entire\", \"sound\", \"visit\", \"mom\", \"wave\", \"isolate\", \"relative\", \"asymptomatic\", \"epidemiologist\", \"fourth\", \"injection\", \"initial\", \"model\", \"decrease\", \"tissue\", \"fuck\", \"night\", \"tired\", \"super\", \"minor\", \"burden\", \"quarantine\", \"possible\", \"part\", \"could\", \"second\", \"disease\", \"staff\", \"employee\", \"face\", \"room\", \"administration\", \"avoid\", \"range\", \"advocate\", \"glad\", \"problematic\", \"answer\", \"access\", \"position\", \"office\", \"harm\", \"watch\", \"respond\", \"monitor\", \"buy\", \"celebrate\", \"mostly\", \"front\", \"head\", \"notice\", \"drain\", \"pressure\", \"remarkable\", \"suck\", \"vote\", \"bar\", \"third\", \"almost\", \"government\", \"federal\", \"event\", \"cost\", \"account\", \"regard\", \"spare\", \"submit\", \"combat\", \"burn\", \"economic\", \"executive\", \"abortion\", \"domestically\", \"factory\", \"denmark\", \"fire\", \"collectively\", \"middle\", \"former\", \"inoculation\", \"daily\", \"police\", \"ongoing\", \"minded\", \"destroy\", \"culture\", \"independent\", \"charge\", \"establish\", \"pandemic\", \"effect\", \"side\", \"reaction\", \"medium\", \"plenty\", \"benefit\", \"elder\", \"myocarditis\", \"attention\", \"discussion\", \"risky\", \"draw\", \"enter\", \"communication\", \"icus\", \"toxic\", \"match\", \"safely\", \"trigger\", \"energy\", \"upper\", \"sex\", \"image\", \"headache\", \"detectable\", \"house\", \"transient\", \"psychology\", \"criticize\", \"immunologist\", \"bell_palsy\", \"moment\", \"society\", \"actually\", \"much\", \"immune\", \"country\", \"place\", \"global\", \"control\", \"farm\", \"allocation\", \"factor\", \"scientific\", \"evolution\", \"international\", \"decline\", \"preventive\", \"nation\", \"used\", \"centralize\", \"manage\", \"usually\", \"few\", \"name\", \"arrive\", \"bias\", \"urgent\", \"mix\", \"circumstance\", \"rd\", \"sentiment\", \"priority\", \"hire\", \"boost\", \"code\", \"uncontrolle\", \"hospitisation\", \"nearly_disappear\", \"amda\", \"chuk\", \"depleting_supplies\", \"ensure_consistent\", \"mab\", \"placing_direct\", \"medical\", \"family\", \"nurse\", \"pre\", \"present\", \"pharmacy\", \"hurt\", \"explain\", \"form\", \"season\", \"adequate\", \"sometimes\", \"shortage\", \"worried\", \"spike\", \"careful\", \"teach\", \"proof\", \"tend\", \"worthy\", \"allergy\", \"quit\", \"bear\", \"household\", \"additionally\", \"html\", \"math\", \"block\", \"actively\", \"physically\", \"burnout\", \"help\", \"hold\", \"pregnancy\", \"dangerous\", \"autoimmune\", \"relationship\", \"terrible\", \"pet\", \"swab\", \"license\", \"planning\", \"holiday\", \"lady\", \"chart\", \"standard\", \"intention\", \"needle\", \"lean\", \"nasal\", \"upstairs\", \"alter\", \"reward\", \"interested\", \"behaviour\", \"subject\", \"containment\", \"guarantee\", \"writer\", \"qualify\", \"statewide\", \"regulate\", \"tourist\", \"signing\", \"fmla\", \"pandemic\"], \"Freq\": [36838.0, 24579.0, 18536.0, 13556.0, 12573.0, 16727.0, 8240.0, 5529.0, 11307.0, 7388.0, 7274.0, 5608.0, 6268.0, 5838.0, 7409.0, 4198.0, 6493.0, 5110.0, 5252.0, 7808.0, 4923.0, 5877.0, 5841.0, 4891.0, 4273.0, 5223.0, 4761.0, 4713.0, 7152.0, 2967.0, 6077.447144149369, 5135.558013426303, 4788.772081610011, 4003.019256491009, 3404.4846316867106, 3251.9542063632725, 2818.620536909027, 2313.561692386152, 2241.8670009255175, 2153.593450348201, 2050.7443278807937, 1778.990675328171, 1767.1753390511424, 1669.8371387278366, 1597.3436298287866, 1596.7561776482141, 1571.7293191207611, 1536.3747611136594, 1432.3602833671296, 1426.0050020088138, 1421.4645053252423, 1417.7717651254509, 1405.4939410970087, 1326.2617184692035, 1314.8392718265402, 1311.9300154430705, 1300.2907862748787, 1236.058243324295, 1185.499618557453, 1147.849332686823, 16542.52118686259, 5310.334861682931, 5638.732566975481, 3142.8812860515504, 4462.379683542172, 3654.160439331078, 1741.648255534668, 3422.0391498954154, 4359.518073813659, 1597.501006045964, 4065.601736431735, 2213.43075284367, 3638.502148448598, 4120.0362785006255, 1947.3237295815825, 2314.4708751764038, 2986.7086204813245, 3577.8592339755824, 2118.250094148856, 2234.8625656258687, 1972.409351690712, 13555.1127444276, 7408.066846175577, 5876.31055444629, 5840.495295282266, 3886.8273255553427, 3657.5261761132347, 3340.3786273907967, 3103.0037769831315, 3062.6603730065203, 2818.3284439642425, 2803.1621685072396, 2475.59386738552, 1996.264845264914, 1968.8749426804925, 1682.8390460488442, 1567.328462553041, 1502.0872074883498, 1358.8382338626752, 1263.2388396376348, 1192.9804605575978, 869.7137264195271, 823.4361644181107, 796.9511718883332, 726.6525217825022, 725.674563376985, 625.474950778821, 580.1978892094631, 552.9442744990225, 528.8669531770465, 522.5284399356066, 2785.9395728345, 2309.646778915822, 3019.635808208205, 3183.3074923339427, 1104.5097080664686, 7728.434614776037, 4677.819482265279, 1343.834139147978, 1224.7394952808963, 881.4793848617809, 12572.493169860985, 3455.9030996206166, 3365.482898331076, 2420.282815311591, 2117.459221253378, 1790.759094185949, 1780.523093225125, 1627.8221340409468, 1203.5925009115697, 1187.5634932614073, 1145.5112334496869, 1067.694334475894, 1023.63771634621, 909.6920017221117, 901.2138743999448, 877.4479408548376, 862.3654014811781, 839.579496365949, 827.47928798801, 795.4256411609423, 751.7497483240654, 711.549412810537, 699.3075117176589, 688.5232930599705, 639.35998108654, 637.5659262105537, 589.2892601269053, 551.5222670051876, 543.2092165783358, 540.7623062225267, 18426.20950853558, 2393.5886684453485, 1275.2086347628263, 4036.006745332917, 1341.832271800657, 7387.437578199796, 4759.990404737908, 4455.306104283791, 4304.296336238012, 3270.9052746930674, 2118.45640586168, 2087.6391684072, 2086.0762514343364, 2076.421422091968, 2065.400729574966, 1841.0819062691796, 1793.7052922104854, 1651.6583457468616, 1553.6874126447547, 1452.2834675675397, 1406.0305845598596, 1405.8934335027493, 1402.8286116081629, 1339.9199428708293, 1309.3753939887215, 1248.378469802593, 1157.976560664758, 1122.839972528595, 1115.153966780317, 966.2787129071822, 940.5433255040991, 910.9315046567065, 864.9634117852612, 857.198342486414, 828.1983061154621, 1724.7076207692844, 2044.8700230964862, 1869.5361116867425, 1489.2175413227712, 6491.968762256145, 4890.3241322564245, 4630.071519430699, 2492.993520569919, 2370.615682738689, 1426.4498966958622, 1182.3225724706122, 981.0186777781565, 972.8585031021684, 900.3472668771219, 858.0121887237248, 667.9566141652464, 536.4141686950633, 459.9330664480602, 422.88906114344525, 308.58618382025134, 287.2942835216048, 281.6614046787102, 275.08767248511634, 270.14777394266633, 273.9761909411861, 222.4344851457592, 217.27806617128374, 212.23903839446464, 198.52101881092145, 194.70300688450726, 36595.60340638339, 159.17198400339996, 146.49954301009106, 139.5263459834423, 23709.431289838307, 442.59109640296646, 1985.564959847439, 888.5478901272893, 1421.8773609032603, 260.79812340074676, 733.9587970242649, 389.49207733060763, 4712.113051585264, 3573.049402601046, 3186.4539113016845, 2883.3432765261587, 2315.882840315223, 2121.520487728053, 2070.9266699896925, 1804.150975601811, 1794.9582958938915, 1776.9202874676425, 1743.7436975539972, 1692.2658039845794, 1369.7555766977512, 1297.153556541996, 1144.741883839794, 1085.2278224385527, 1072.414386219576, 1055.650826060912, 1049.8183896218563, 1011.0210923763688, 958.4685568437328, 949.2887935055634, 896.9929956608856, 894.2357481459759, 877.2653273579276, 836.2861571915572, 830.3680256070434, 819.6791831769419, 748.9160566468562, 681.3058159727983, 786.9836286798018, 2179.1839314141594, 1111.271694906057, 2441.8351308707256, 1170.9329035657604, 1920.916547850817, 1115.8180583447527, 4272.030873245115, 3942.8143066844827, 3556.9606425099155, 2144.5172541508555, 2076.1363931526944, 1933.2839384469823, 1863.642523692167, 1509.7298668962478, 1415.7850993657205, 1354.5755260193935, 1308.877466411871, 1252.740459180271, 1060.7058226205625, 1025.5211129572767, 1010.0644700513752, 985.4059673904839, 946.5173008633695, 878.4852666070313, 851.4902922188356, 831.6056925348084, 828.8513312888007, 756.2107091257915, 678.3387396926635, 665.0658294734372, 639.1242205112542, 606.1852805966837, 596.4269842263386, 528.0484768426489, 484.09247835836356, 477.38457172882414, 6138.216986738079, 1659.7781992557352, 1250.0579007399315, 1209.448566391269, 830.9614344839491, 999.0223648082545, 3858.776024747728, 2945.771092564358, 2927.4493723226897, 2347.8352945318115, 2222.785184001188, 1888.3614485890007, 1451.8420939500159, 1298.9793271790709, 1203.2216387329097, 1183.173292689492, 1077.307169875278, 970.1510609076544, 830.191849509814, 819.4045154108001, 808.9848925304036, 703.433373287236, 594.0419341614017, 588.6287873382777, 575.1872905245176, 536.6811446044144, 532.8758631742975, 532.0147456683027, 500.91220308157864, 482.68356061331133, 425.10208159958546, 412.55560894607663, 406.21816603096903, 377.79867476780794, 374.1500678675341, 361.0612629836098, 807.8425205470148, 2940.5796457765678, 2511.8481582700233, 1322.6713317723982, 3615.5254357118274, 1163.4499347833778, 3129.8455444103424, 1049.0316686382096, 1141.380222463697, 1181.3444939069818, 655.0270070372949, 849.8794538421696, 606.7509008835623, 8239.767512398545, 5837.323975635069, 5251.24442335343, 4922.768567432336, 3083.905582484592, 1805.5257883244078, 1031.6628827812212, 960.0188862187708, 851.9964305943897, 793.8777141184831, 790.0096714369371, 643.8019842128683, 636.4393973540643, 629.1526141958213, 627.9618991669419, 565.6089587125372, 522.9911683039252, 497.6562365070394, 480.42122858012965, 391.84585610220364, 358.8496798523477, 358.320273482977, 340.9424516409544, 338.19445517006795, 305.87422199439294, 296.0987539234906, 252.6771939634182, 250.98924581233666, 247.0401843153519, 237.78532912781122, 1760.1671902801868, 3253.0953342308103, 2311.7494476455686, 1092.9504635218993, 851.3570093708602, 1204.5501991152598, 1020.7083815387656, 477.85715717609963, 434.913012901694, 2962.150072126448, 2282.990646286891, 2168.8842056595486, 1436.2919543202524, 1427.93981286527, 1157.5153806739784, 947.2410521376446, 824.3942225109594, 765.3761555592631, 750.0386447925596, 742.8973266764094, 718.1918412703177, 713.9268039158553, 685.0425403377509, 637.976433076607, 613.2449020542199, 613.1181395017309, 571.2282329742602, 545.1130353547986, 490.9642532258367, 478.8751343958334, 460.56869411592197, 431.55967149427437, 428.11339243750956, 425.6191591722277, 379.0508426607768, 358.8664105630851, 340.98027397066596, 328.862645749853, 326.2490412556254, 1006.4267640541021, 4286.323066693581, 373.52752046502303, 883.2694988386004, 1850.1566889542046, 1104.2831226643796, 775.0051819993987, 575.0287269977515, 5607.700660035435, 5109.046576976757, 2812.7902684425767, 2805.287619849453, 2417.132145313727, 2363.612198739418, 1523.9324806681398, 1485.0034823291892, 1043.7538807860778, 911.7255752474102, 861.425138417784, 811.1175053997968, 635.999181449156, 630.2152856340364, 595.135544681372, 550.3020467389064, 541.6503345952419, 537.3791533229493, 533.4689177089725, 519.9676238901676, 465.0819706209775, 440.9974644170803, 424.7456034440029, 400.84008213558013, 383.8476089347963, 367.26997164501665, 363.6926273760841, 349.58844988200013, 307.38250755817785, 287.39371466526046, 288.65945926993965, 3621.5018121292364, 1224.8905989003829, 1812.9935197126292, 470.0635184871887, 5528.756489681871, 1979.5858588584822, 1779.9734497614, 1503.8336578676303, 1148.1635400072335, 1130.419363823239, 1042.767077181255, 904.1635282580361, 873.6493283707732, 771.4131275508375, 729.5812760359189, 641.8442462174353, 589.704253322273, 559.0294422119825, 514.1787939683447, 456.08162058770114, 443.70568128460616, 439.33875947062137, 399.51114849617954, 391.7026803149674, 382.93398032977217, 373.1310414084145, 362.745457361809, 290.99924664919456, 287.5329000195879, 285.44976744676615, 264.51032975224604, 277.10820098484317, 237.47240733558579, 225.07309924268753, 1185.5722128359303, 238.6978015408663, 2254.7602936409326, 1428.8240648236308, 1084.9423795371317, 888.0920589515188, 782.1039540220604, 712.266231060838, 692.4076839963486, 606.9398754527124, 598.1933163120506, 536.2310436871362, 534.4861924161421, 516.5313164597667, 446.53267339909473, 428.6145353647399, 374.37449393855934, 374.31938705552847, 355.1648612589436, 318.73207735111015, 316.5247016426264, 279.2211756429094, 273.9572181573117, 262.86479934439706, 243.8601255981593, 218.30700059549514, 218.0113136632251, 213.70734274977335, 213.12605347816537, 206.40141354852773, 205.4793483795564, 188.33887414463373, 1988.542108780992, 410.72573432800584, 318.31689215978133, 373.6166659500185, 381.76144992698374, 287.0040477492253, 237.27707001953928, 2049.9341436109044, 1867.8468769894093, 1393.8036506692727, 1296.251749293008, 929.6542341610677, 712.63936315189, 687.584314349043, 595.3307693552765, 579.932641145953, 571.0133014549671, 521.1140681549364, 494.7823180699915, 461.44081860467185, 424.76474147617586, 407.84453423602025, 405.07418062929935, 368.58787808577245, 312.1619849045176, 307.41268508824055, 300.00262583003655, 299.82841355066563, 290.3587999460861, 288.3111229619112, 287.25443254140987, 256.4634896795369, 250.3117069864434, 228.9915128233215, 217.3744984538734, 214.32135834267794, 201.5875593641976, 599.5331182872737, 533.8079743310111, 1156.849287726208, 442.86765104051375, 291.9519786437209, 1260.4690479613146, 1257.1558023067591, 816.5229968635732, 675.410275113364, 665.7051208526827, 606.7184098567958, 603.7310472453071, 563.7879503097995, 551.8320850610286, 549.6534300045723, 496.86612823030185, 448.6802032260919, 440.08497575268206, 400.66977284892636, 398.09987012070764, 392.6349558215435, 385.44468076492484, 383.56749379081685, 374.4029802174834, 338.56002063198616, 316.1897783111764, 305.6889120011678, 303.57246947202367, 283.65995378018596, 264.35065075316595, 253.37257288365564, 240.16537868553598, 226.49349838341345, 221.38478536562602, 214.4882087379446, 920.1425233538116, 383.9464925072019, 2271.0898842401657, 1341.9354023588169, 714.4676150635119, 696.9074007306622, 654.6447266196, 596.5362278084624, 559.4322388289138, 463.33198615976, 414.5677534506347, 407.5851402454131, 377.13070492917586, 372.75767039313007, 303.9907781474376, 300.43005952151464, 280.3269041169989, 276.78917726045586, 276.0136738704685, 271.9203939361506, 271.41655307263466, 263.4610412194204, 232.31328203302397, 229.42739110524525, 216.82954558927142, 209.96643820656934, 203.65577551717843, 188.17274552444033, 180.8481586499623, 177.10174616374644, 176.58981322497385, 164.64232651291593, 567.4862427981083, 4196.903116492512, 2236.689463240786, 1222.8943916574515, 991.7313321511739, 930.4537620792665, 913.0014622042208, 478.7441513345658, 389.1462250127608, 363.9698315606524, 360.45810969183606, 337.3038020540924, 310.2920725033272, 293.85554067927745, 268.3233702184383, 251.3476455910491, 247.17167127705875, 220.67030739230898, 218.67875327643176, 213.1815936582661, 200.14786725809964, 159.79184276988414, 155.09234257501305, 151.59248996665144, 145.11588449051817, 135.44401644569683, 133.99001323968542, 126.11334890495061, 123.73202682537624, 119.46997217262867, 118.89280274924924, 374.3479018022232, 377.31616946479124, 307.89896889806386, 330.9592248669033, 257.94607705622144, 155.81442476436672, 2966.7774336373523, 1314.095497267303, 993.5423620460383, 819.8349254378534, 621.6272360989177, 610.829603765405, 566.0027089213089, 482.18985438078425, 400.3590279243829, 361.688701482122, 338.85328633331306, 321.904803254852, 306.04551057085354, 305.7150253542844, 300.5357346724774, 270.02650346360025, 265.89379965969545, 262.8799901750562, 243.4955993226793, 229.72457622536663, 181.93421516824594, 175.08556623675526, 168.58313769952676, 160.89139004479054, 158.86849001092844, 157.2690452243181, 157.1127974665021, 154.8732423973879, 131.22564106053545, 129.56961238900087, 265.6290907398343, 259.37839018193284, 259.37839018193284, 216.60078723915885, 216.60078723915885, 216.60078723915885, 216.60078723915885, 216.60076399665118, 216.60076399665118, 324.79417235342254, 2569.042011922915, 1704.9203917230434, 726.1338072060463, 687.0251509923237, 676.9879456124784, 626.7993950246282, 539.2210455049378, 476.7456464588154, 465.4331220726517, 371.55958901240854, 354.1260156007073, 351.99243966602296, 325.55567468911545, 324.3097836947808, 322.47465647274856, 300.4626612395021, 296.8458323822779, 279.8454996952397, 261.76782236121596, 238.37153885216185, 233.18806268315456, 223.24950648896353, 216.781067217827, 198.53423514723247, 194.66465436778705, 178.0822738095997, 175.83563887788006, 162.90212900926056, 159.1308143555891, 137.81160544886944, 323.519869155654, 1326.9217814051794, 662.1444878804334, 494.51395610210795, 446.8801822152042, 397.4100641933998, 369.0442414226003, 336.6752753525694, 228.52270496144666, 219.0131188438547, 186.89738157610063, 176.6623243332788, 166.0269081124935, 165.15202976151824, 163.54129217458794, 159.2837592240302, 159.26025947211747, 157.8980328778653, 147.1698082638388, 131.9295717518475, 119.60079674543425, 118.86359062692813, 117.77286132480262, 117.75699638779251, 115.7265746627602, 115.59331514494728, 114.02243337538386, 113.88827345542356, 107.34967956389792, 106.97719584580302, 102.91423161382102, 124.26492451692664, 134.5706819316683, 166.72800140768342, 285.8440171721618], \"Total\": [36838.0, 24579.0, 18536.0, 13556.0, 12573.0, 16727.0, 8240.0, 5529.0, 11307.0, 7388.0, 7274.0, 5608.0, 6268.0, 5838.0, 7409.0, 4198.0, 6493.0, 5110.0, 5252.0, 7808.0, 4923.0, 5877.0, 5841.0, 4891.0, 4273.0, 5223.0, 4761.0, 4713.0, 7152.0, 2967.0, 6078.598057913273, 5136.708927190207, 4789.922995373915, 4004.1701702549117, 3405.6355454506133, 3253.1052624762265, 2819.77145067293, 2314.7126061597037, 2243.01791468942, 2154.744364116021, 2051.8952416446964, 1780.1415890920741, 1768.3262528603734, 1670.9880524917398, 1598.4945435926898, 1597.9070914121173, 1572.8802328846643, 1537.5256748775626, 1433.5111971310328, 1427.155915772717, 1422.6154190891455, 1418.9226788950286, 1406.644854860912, 1327.4126322331067, 1315.9901856147674, 1313.0809292069737, 1301.4417000792496, 1237.2091570881983, 1186.6505323213562, 1149.0002464567904, 16727.411181841, 5329.381816815929, 5700.518928683642, 3160.564111351977, 4679.298090806311, 3861.662460221045, 1775.6271212731638, 3681.0533478907437, 5211.23990200756, 1634.5280760104672, 5223.544015502973, 2503.839540592413, 5149.747781568579, 7152.581804339272, 2330.1887158989875, 3456.9500569790375, 7274.127984581249, 11307.374931756625, 3290.7105177010276, 5080.280467234495, 3013.594842639697, 13556.24232604925, 7409.196427797227, 5877.44013606794, 5841.624876903917, 3887.9569071769924, 3658.6557577348844, 3341.5082090124465, 3104.1333586047813, 3063.78995462817, 2819.4580255858923, 2804.2917501288894, 2476.7234490071696, 1997.3944268865644, 1970.004524302143, 1683.9686276704947, 1568.4580441976661, 1503.2167891100003, 1359.9678154843257, 1264.3684212592852, 1194.1100421901826, 870.8433080411777, 824.5657460397613, 798.0807535099838, 727.7821034234322, 726.8041449986356, 626.6045324067434, 581.3274708882554, 554.0738561206731, 529.9965347986971, 523.6580215572571, 2892.377087153174, 2480.8325959499043, 3312.659446054702, 3918.3350743662377, 1196.61202241271, 11307.374931756625, 7808.7426538683885, 5080.280467234495, 6532.57272876237, 1360.4006669192024, 12573.64262463557, 3457.0525544008765, 3366.6323531056614, 2421.4322700861767, 2118.6086760279636, 1791.9085489947101, 1781.6725479997108, 1628.9715888155326, 1204.7419556916566, 1188.7129480497001, 1146.6606882242727, 1068.8437892504799, 1024.787171120796, 910.8414564966979, 902.3633291784485, 878.5973956474343, 863.5148562557642, 840.7289511405352, 828.6287427625962, 796.5750959691907, 752.8992030986516, 712.6988675851231, 700.4569665005495, 689.6727478345566, 640.5094358751679, 638.7153809851399, 590.4387149014915, 552.6717217797737, 544.3586713605509, 541.9117610010304, 18536.15871317921, 2518.119076304069, 1345.9110592236416, 6532.57272876237, 3263.827495330302, 7388.5853735123965, 4761.138200050508, 4456.453899602066, 4305.444131550613, 3272.0530700056665, 2119.604201180551, 2088.786963719799, 2087.2240467469355, 2077.5692174102414, 2066.5485248875652, 1842.2297015817794, 1794.8530875270028, 1652.8061410594614, 1554.8352079573544, 1453.4312628801395, 1407.178379878731, 1407.041228825782, 1403.9764069207627, 1341.0677381834291, 1310.523189339385, 1249.5262651425487, 1159.1243560798928, 1123.9877678411947, 1116.3017620985913, 967.4265082197822, 941.6911208166991, 912.0792999749809, 866.1112071552869, 858.3461377990141, 829.3461014362678, 1755.462402954532, 2134.897849591917, 1974.6706295798317, 1729.003763745883, 6493.107378023071, 4891.46274802335, 4631.210135197624, 2494.1321363368443, 2371.7542985112887, 1427.5885124627878, 1183.4611882375377, 982.1572935450822, 973.9971188753658, 901.4858826440476, 859.150804542611, 669.0952299382363, 537.5527844659065, 461.07168223504664, 424.02767707985663, 309.72479961129744, 288.43289929254667, 282.8000204580293, 276.22635426338945, 271.2863897095919, 275.35730736451677, 223.57310091268477, 218.41668196691487, 213.3776541613902, 199.65963457784702, 195.84162265143283, 36838.55890617598, 160.31059990327452, 147.63815984613157, 140.66496175036787, 24579.863671235988, 447.4734133042513, 2990.4053953804155, 1267.8927141530723, 2292.889327827152, 302.0443728956007, 3918.3350743662377, 5149.747781568579, 4713.241684852653, 3574.178035868434, 3187.5825445690725, 2884.4719097935467, 2317.0114736289315, 2122.649121009273, 2072.0553032633543, 1805.2796088691994, 1796.0869291646552, 1778.0489207350308, 1744.8723308213855, 1693.3944372519677, 1370.8842099801632, 1298.2821898093844, 1145.8705171071822, 1086.356455705941, 1073.5430195037602, 1056.7794593349051, 1050.9470228931623, 1012.149725643757, 959.5971901111211, 950.4174267729517, 898.1216289282739, 895.3643814133642, 878.3939606292334, 837.4147904589455, 831.4966588744317, 820.8078164533798, 750.0446899142445, 682.4344492441041, 789.7041531301911, 2305.8541703135343, 1136.591440947902, 3255.928902129182, 1439.8358392441703, 3263.827495330302, 5080.280467234495, 4273.172143628676, 3943.955577068043, 3558.1019129063543, 2145.6585245383335, 2077.2776635362547, 1934.4252088362175, 1864.7837940757277, 1510.8711372798084, 1416.926369749281, 1355.7167964084551, 1310.0187367954316, 1253.8817295677493, 1061.847093004123, 1026.6623833408373, 1011.205740434936, 986.5472377797191, 947.6585712469304, 879.6265370138441, 852.6315626080709, 832.7469629253644, 829.9926017192269, 757.3519795093523, 679.4800100762243, 666.2070998632718, 640.2654909542449, 607.3265510468925, 597.5682546280984, 529.1897472262098, 485.2337487419242, 478.52584212956157, 6268.941182024544, 1676.1625415784536, 1275.2154710631469, 4826.063318057774, 1643.217602253623, 3290.7105177010276, 3859.9234826993898, 2946.9185505160194, 2928.5968302743513, 2348.982752483473, 2223.9326419528497, 1889.508906540663, 1452.989551914049, 1300.1267851307332, 1204.369096684572, 1184.3207506411543, 1078.4546278269404, 971.2985188593166, 831.3393074614762, 820.5519733624623, 810.1323505484704, 704.5808312388982, 595.189392113064, 589.7762452899399, 576.3347484761798, 537.8286025594517, 534.0233211451164, 533.1622036325103, 502.05966103324073, 483.8310185649734, 426.24953955516514, 413.7030669525497, 407.3656239826311, 378.946132745019, 375.29752583293396, 362.20872429896997, 816.1217031245344, 3266.4548438707097, 2868.9301290276767, 1459.2910808694285, 4826.063318057774, 1739.5715033752317, 7808.7426538683885, 1783.2860534102263, 3456.9500569790375, 7152.581804339272, 1086.0307898773435, 5211.23990200756, 916.1653206075498, 8240.901468008262, 5838.457931244789, 5252.37837896315, 4923.902523042056, 3085.039538094311, 1806.6597439341272, 1032.7968383909406, 961.1528418284902, 853.1303862074842, 795.0116697282025, 791.1436270466564, 644.9359398225877, 637.5733529637837, 630.2865698055407, 629.0958547766612, 566.7606425620056, 524.1251239136445, 498.7901921167587, 481.5551842260435, 392.97981171192293, 359.983635462067, 359.45422911212614, 342.07640726556775, 339.32841089323784, 307.01927004886574, 297.23481803867173, 253.81114957313747, 252.12320142205593, 248.17413992507116, 238.91928490554562, 1802.5566391754662, 3409.9609217801003, 2485.6909076806305, 1546.630413145997, 1363.1925060548813, 2391.1969931250537, 2834.771724039647, 1360.4006669192024, 1067.6079203110842, 2963.294868149433, 2284.1354423098765, 2170.0439351387404, 1437.4367503432384, 1429.0846089419465, 1158.6601767003397, 948.3858481606303, 825.5390185339451, 766.5209516131263, 751.1834408759586, 744.0421227054594, 719.3366373136189, 715.071599938841, 686.1873363607366, 639.1212291450001, 614.3896981149524, 614.2629355247166, 572.3730291289403, 546.2578314028698, 492.1090492488225, 480.0199304188192, 461.7134901903602, 432.7044675172601, 429.258188471843, 426.76395519521344, 380.19563870163233, 360.01120658607084, 342.1250700147398, 330.00744177911054, 327.39383727861116, 1116.8393268504553, 7274.127984581249, 389.14240884974384, 1420.294422624893, 7152.581804339272, 5149.747781568579, 2990.4053953804155, 1739.5715033752317, 5608.8359395945145, 5110.181856535836, 2813.925548001655, 2806.4228994085315, 2418.2674249355537, 2364.7474782984964, 1525.067760232893, 1486.138761888268, 1044.8891603484615, 912.8608558793035, 862.5604179768626, 812.2527849588754, 637.1344610082347, 631.3505652124983, 596.2708242404507, 551.4373263042587, 542.7856141679581, 538.5144328820279, 534.6041973049361, 521.1029034492462, 466.2172502343794, 442.132743976159, 425.88088300709785, 401.97536171583357, 384.9828885425374, 368.4052512081116, 364.8279069351628, 350.72372950387125, 308.5177871248856, 288.5289942277144, 289.8034796477771, 3832.225400056647, 1332.1845000771243, 2834.771724039647, 533.5199228240994, 5529.896527626562, 1980.725896809444, 1781.1134877060902, 1504.9736958123206, 1149.3035779558413, 1131.5594017886872, 1043.9071151259452, 905.3035662129175, 874.7893663154634, 772.5531656541194, 730.7213139862836, 642.9842841621255, 590.8442912774777, 560.1694801566728, 515.3188319528458, 457.2216585323913, 444.8457192292963, 440.47879741531153, 400.6511864447873, 392.84271825965754, 384.0740182912616, 374.2710793593764, 363.8854953095767, 292.139284616894, 288.6729381031327, 286.5898053914563, 265.6503677656791, 278.3187578492469, 238.61244533897528, 226.21313718737773, 2391.1969931250537, 1729.003763745883, 2255.912328647996, 1429.9760998369663, 1086.0944145441956, 889.2440939749993, 783.2559890291244, 713.4182660782201, 693.5597190073302, 608.0919104660481, 599.3453513191146, 537.3830786942002, 535.6382274298109, 517.6833514839166, 447.69429868655493, 429.7665703718038, 375.5265289456233, 375.47142210035105, 356.3168962722793, 319.88411240050397, 317.6767366496903, 280.37321070202313, 275.1092532185312, 264.0168343569622, 245.01225771445624, 219.4590357050752, 219.16334867855917, 214.85937776625613, 214.27808868757998, 207.55344861128782, 206.6313841648062, 189.49090915169768, 2656.1760317752833, 459.8608024093702, 627.2851032986472, 1546.630413145997, 2330.1887158989875, 868.28222431634, 577.145645385001, 2051.075633572576, 1868.9883669510814, 1394.9451406520327, 1297.39323925468, 930.7957241227397, 713.780853113562, 688.7258043107149, 596.4722593453481, 581.0741311076249, 572.1547914425776, 522.2555581166083, 495.92380803166344, 462.5823085663438, 425.90623149601515, 408.98602420589793, 406.2156705909713, 369.72936805833734, 313.3034748959909, 308.5541750499125, 301.1441157917085, 300.96990351233757, 291.50028990775803, 289.4526129902493, 288.3959225030818, 257.60497964120884, 251.453196954389, 230.13300278836869, 218.51598842497023, 215.46284832141743, 202.72904932586954, 691.4642657842373, 1161.7250977309275, 5223.544015502973, 1420.294422624893, 3312.659446054702, 1261.6152762455627, 1258.3020305910072, 817.6692251478211, 676.5565033976119, 666.8513491656119, 607.8646381484807, 604.8772755295549, 564.9341785940474, 552.9783133642738, 550.7996583463538, 498.01235652468586, 449.8264315103398, 441.23120404260436, 401.8160011555855, 399.2460984049555, 393.78118410579134, 386.59090905529257, 384.7137221241795, 375.54920850173124, 339.7062489877129, 317.33600659542424, 306.8351403162117, 304.7186977605254, 284.8061820644338, 265.4968792064406, 254.51880123546482, 241.31160712337422, 227.63972666766136, 222.53101368060678, 215.63443703787033, 955.212529684273, 693.7576630631769, 2272.2319128039667, 1343.0774309313701, 715.609643627313, 698.0494292944633, 655.7867551890755, 597.678256376181, 560.574267527394, 464.47401475621075, 415.7097820783919, 408.72716883500067, 378.2727334929769, 373.8996989717474, 305.1328068581724, 301.57237785369017, 281.46893277440455, 277.9312058880947, 277.15570245405354, 273.0624225548957, 272.558581736805, 264.60306978322143, 233.4553105968251, 230.56941966904637, 217.97157420562226, 211.1084667805617, 204.79780416240175, 189.31477411761793, 181.99018728182418, 178.24377472754756, 177.73184180137005, 165.78435507671705, 3013.594842639697, 4198.019736048261, 2237.806082796536, 1224.0110112132013, 992.8479517069236, 931.57038168992, 914.1180817599706, 479.8607709714811, 390.26284456851045, 365.08645111640203, 361.57472925195424, 338.4204216711848, 311.4086920590768, 294.9721602452184, 269.43998977418795, 252.46426523336262, 248.28829250307754, 221.7869269480587, 219.79537283845323, 214.29821322028758, 201.26448683428666, 160.90846238384623, 156.20896213076276, 152.70910954085628, 146.23250404626788, 136.56063603355904, 135.1066328255902, 127.23317428023341, 124.84864638112595, 120.58659177699708, 120.00942917979893, 389.6552813307321, 504.1087192387517, 627.2851032986472, 1004.7358412287014, 3681.0533478907437, 3409.9609217801003, 2967.9104138069556, 1315.2284774369064, 994.6753422156415, 820.9679056074566, 622.7604969458845, 611.9625839580149, 567.1356890909121, 483.32283457632855, 401.492008141584, 362.8216816727636, 339.98626650291624, 323.0377835306678, 307.1784907534087, 306.84800556348193, 301.66900967114566, 271.1594836429585, 267.0267798333149, 264.0129703446594, 244.62857949536013, 230.85755641023516, 183.0671953568249, 176.21854640635848, 169.7161179353741, 162.02437021439377, 160.00147018053167, 158.40202664490548, 158.2457776484413, 156.0062243502474, 132.35862123013868, 130.7025926024926, 297.9471483536751, 296.2493902827428, 296.2493902827428, 292.770525135338, 292.770525135338, 292.770525135338, 292.770525135338, 292.77050585947495, 292.77050585947495, 3266.4548438707097, 2570.1848813985075, 1706.0632611986357, 727.2766766855561, 688.168020467916, 678.1308151675995, 627.942264516893, 540.3639149805301, 477.8885159344077, 466.5759915953246, 372.7024584981921, 355.2688850762996, 353.13530914161527, 326.69854422458326, 325.4526531845806, 323.6175259585321, 301.60553077051213, 297.9887018641438, 280.9883692283433, 262.91069250339814, 239.51440832775415, 234.3309323033763, 224.39237596455584, 217.9239366934193, 199.67710462282477, 195.8075238621476, 179.22514332752795, 176.97850835347236, 164.04499848485287, 160.27368410006636, 138.9545550051437, 2656.1760317752833, 1328.048573654986, 663.2712801143194, 495.640748335994, 448.0069744594982, 398.53685643153966, 370.17103368561544, 337.8023046103255, 229.6494972242135, 220.13991107774072, 188.0241738627952, 177.78912054765215, 167.15370046644927, 166.27882200200906, 164.66808441474572, 160.41055145791623, 160.38705191481338, 159.02482809703454, 148.29660052588744, 133.08067410317443, 120.72758898812646, 119.99038286081414, 118.89965362639751, 118.88378862559613, 116.85336689664621, 116.72010737883329, 115.14922560926986, 115.0161523609929, 108.47647503591011, 108.10398807968903, 104.04102386323106, 126.01369717758482, 138.62074157683955, 251.94417880655124, 3013.594842639697], \"Category\": [\"Default\", \"Default\", \"Default\", \"Default\", \"Default\", \"Default\", \"Default\", \"Default\", \"Default\", \"Default\", \"Default\", \"Default\", \"Default\", \"Default\", \"Default\", \"Default\", \"Default\", \"Default\", \"Default\", \"Default\", \"Default\", \"Default\", \"Default\", \"Default\", \"Default\", \"Default\", \"Default\", \"Default\", \"Default\", \"Default\", \"Topic1\", \"Topic1\", \"Topic1\", \"Topic1\", \"Topic1\", \"Topic1\", \"Topic1\", \"Topic1\", \"Topic1\", \"Topic1\", \"Topic1\", \"Topic1\", \"Topic1\", \"Topic1\", \"Topic1\", \"Topic1\", \"Topic1\", \"Topic1\", \"Topic1\", \"Topic1\", \"Topic1\", \"Topic1\", \"Topic1\", \"Topic1\", \"Topic1\", \"Topic1\", \"Topic1\", \"Topic1\", \"Topic1\", \"Topic1\", \"Topic1\", \"Topic1\", \"Topic1\", \"Topic1\", \"Topic1\", \"Topic1\", \"Topic1\", \"Topic1\", \"Topic1\", \"Topic1\", \"Topic1\", \"Topic1\", \"Topic1\", \"Topic1\", \"Topic1\", \"Topic1\", \"Topic1\", \"Topic1\", \"Topic1\", \"Topic1\", \"Topic1\", \"Topic2\", \"Topic2\", \"Topic2\", \"Topic2\", \"Topic2\", \"Topic2\", \"Topic2\", \"Topic2\", \"Topic2\", \"Topic2\", \"Topic2\", \"Topic2\", \"Topic2\", \"Topic2\", \"Topic2\", \"Topic2\", \"Topic2\", \"Topic2\", \"Topic2\", \"Topic2\", \"Topic2\", \"Topic2\", \"Topic2\", \"Topic2\", \"Topic2\", \"Topic2\", \"Topic2\", \"Topic2\", \"Topic2\", \"Topic2\", \"Topic2\", \"Topic2\", \"Topic2\", \"Topic2\", \"Topic2\", \"Topic2\", \"Topic2\", \"Topic2\", \"Topic2\", \"Topic2\", \"Topic3\", \"Topic3\", \"Topic3\", \"Topic3\", \"Topic3\", \"Topic3\", \"Topic3\", \"Topic3\", \"Topic3\", \"Topic3\", \"Topic3\", \"Topic3\", \"Topic3\", \"Topic3\", \"Topic3\", \"Topic3\", \"Topic3\", \"Topic3\", \"Topic3\", \"Topic3\", \"Topic3\", \"Topic3\", \"Topic3\", \"Topic3\", \"Topic3\", \"Topic3\", \"Topic3\", \"Topic3\", \"Topic3\", \"Topic3\", \"Topic3\", \"Topic3\", \"Topic3\", \"Topic3\", \"Topic3\", \"Topic4\", \"Topic4\", \"Topic4\", \"Topic4\", \"Topic4\", \"Topic4\", \"Topic4\", \"Topic4\", \"Topic4\", \"Topic4\", \"Topic4\", \"Topic4\", \"Topic4\", \"Topic4\", \"Topic4\", \"Topic4\", \"Topic4\", \"Topic4\", \"Topic4\", \"Topic4\", \"Topic4\", \"Topic4\", \"Topic4\", \"Topic4\", \"Topic4\", \"Topic4\", \"Topic4\", \"Topic4\", \"Topic4\", \"Topic4\", \"Topic4\", \"Topic4\", \"Topic4\", \"Topic4\", \"Topic5\", \"Topic5\", \"Topic5\", \"Topic5\", \"Topic5\", \"Topic5\", \"Topic5\", \"Topic5\", \"Topic5\", \"Topic5\", \"Topic5\", \"Topic5\", \"Topic5\", \"Topic5\", \"Topic5\", \"Topic5\", \"Topic5\", \"Topic5\", \"Topic5\", \"Topic5\", \"Topic5\", \"Topic5\", \"Topic5\", \"Topic5\", \"Topic5\", \"Topic5\", \"Topic5\", \"Topic5\", \"Topic5\", \"Topic5\", \"Topic5\", \"Topic5\", \"Topic5\", \"Topic5\", \"Topic5\", \"Topic5\", \"Topic5\", \"Topic5\", \"Topic6\", \"Topic6\", \"Topic6\", \"Topic6\", \"Topic6\", \"Topic6\", \"Topic6\", \"Topic6\", \"Topic6\", \"Topic6\", \"Topic6\", \"Topic6\", \"Topic6\", \"Topic6\", \"Topic6\", \"Topic6\", \"Topic6\", \"Topic6\", \"Topic6\", \"Topic6\", \"Topic6\", \"Topic6\", \"Topic6\", \"Topic6\", \"Topic6\", \"Topic6\", \"Topic6\", \"Topic6\", \"Topic6\", \"Topic6\", \"Topic6\", \"Topic6\", \"Topic6\", \"Topic6\", \"Topic6\", \"Topic6\", \"Topic6\", \"Topic7\", \"Topic7\", \"Topic7\", \"Topic7\", \"Topic7\", \"Topic7\", \"Topic7\", \"Topic7\", \"Topic7\", \"Topic7\", \"Topic7\", \"Topic7\", \"Topic7\", \"Topic7\", \"Topic7\", \"Topic7\", \"Topic7\", \"Topic7\", \"Topic7\", \"Topic7\", \"Topic7\", \"Topic7\", \"Topic7\", \"Topic7\", \"Topic7\", \"Topic7\", \"Topic7\", \"Topic7\", \"Topic7\", \"Topic7\", \"Topic7\", \"Topic7\", \"Topic7\", \"Topic7\", \"Topic7\", \"Topic7\", \"Topic8\", \"Topic8\", \"Topic8\", \"Topic8\", \"Topic8\", \"Topic8\", \"Topic8\", \"Topic8\", \"Topic8\", \"Topic8\", \"Topic8\", \"Topic8\", \"Topic8\", \"Topic8\", \"Topic8\", \"Topic8\", \"Topic8\", \"Topic8\", \"Topic8\", \"Topic8\", \"Topic8\", \"Topic8\", \"Topic8\", \"Topic8\", \"Topic8\", \"Topic8\", \"Topic8\", \"Topic8\", \"Topic8\", \"Topic8\", \"Topic8\", \"Topic8\", \"Topic8\", \"Topic8\", \"Topic8\", \"Topic8\", \"Topic8\", \"Topic8\", \"Topic8\", \"Topic8\", \"Topic8\", \"Topic8\", \"Topic8\", \"Topic9\", \"Topic9\", \"Topic9\", \"Topic9\", \"Topic9\", \"Topic9\", \"Topic9\", \"Topic9\", \"Topic9\", \"Topic9\", \"Topic9\", \"Topic9\", \"Topic9\", \"Topic9\", \"Topic9\", \"Topic9\", \"Topic9\", \"Topic9\", \"Topic9\", \"Topic9\", \"Topic9\", \"Topic9\", \"Topic9\", \"Topic9\", \"Topic9\", \"Topic9\", \"Topic9\", \"Topic9\", \"Topic9\", \"Topic9\", \"Topic9\", \"Topic9\", \"Topic9\", \"Topic9\", \"Topic9\", \"Topic9\", \"Topic9\", \"Topic9\", \"Topic9\", \"Topic10\", \"Topic10\", \"Topic10\", \"Topic10\", \"Topic10\", \"Topic10\", \"Topic10\", \"Topic10\", \"Topic10\", \"Topic10\", \"Topic10\", \"Topic10\", \"Topic10\", \"Topic10\", \"Topic10\", \"Topic10\", \"Topic10\", \"Topic10\", \"Topic10\", \"Topic10\", \"Topic10\", \"Topic10\", \"Topic10\", \"Topic10\", \"Topic10\", \"Topic10\", \"Topic10\", \"Topic10\", \"Topic10\", \"Topic10\", \"Topic10\", \"Topic10\", \"Topic10\", \"Topic10\", \"Topic10\", \"Topic10\", \"Topic10\", \"Topic10\", \"Topic11\", \"Topic11\", \"Topic11\", \"Topic11\", \"Topic11\", \"Topic11\", \"Topic11\", \"Topic11\", \"Topic11\", \"Topic11\", \"Topic11\", \"Topic11\", \"Topic11\", \"Topic11\", \"Topic11\", \"Topic11\", \"Topic11\", \"Topic11\", \"Topic11\", \"Topic11\", \"Topic11\", \"Topic11\", \"Topic11\", \"Topic11\", \"Topic11\", \"Topic11\", \"Topic11\", \"Topic11\", \"Topic11\", \"Topic11\", \"Topic11\", \"Topic11\", \"Topic11\", \"Topic11\", \"Topic11\", \"Topic12\", \"Topic12\", \"Topic12\", \"Topic12\", \"Topic12\", \"Topic12\", \"Topic12\", \"Topic12\", \"Topic12\", \"Topic12\", \"Topic12\", \"Topic12\", \"Topic12\", \"Topic12\", \"Topic12\", \"Topic12\", \"Topic12\", \"Topic12\", \"Topic12\", \"Topic12\", \"Topic12\", \"Topic12\", \"Topic12\", \"Topic12\", \"Topic12\", \"Topic12\", \"Topic12\", \"Topic12\", \"Topic12\", \"Topic12\", \"Topic12\", \"Topic12\", \"Topic13\", \"Topic13\", \"Topic13\", \"Topic13\", \"Topic13\", \"Topic13\", \"Topic13\", \"Topic13\", \"Topic13\", \"Topic13\", \"Topic13\", \"Topic13\", \"Topic13\", \"Topic13\", \"Topic13\", \"Topic13\", \"Topic13\", \"Topic13\", \"Topic13\", \"Topic13\", \"Topic13\", \"Topic13\", \"Topic13\", \"Topic13\", \"Topic13\", \"Topic13\", \"Topic13\", \"Topic13\", \"Topic13\", \"Topic13\", \"Topic13\", \"Topic13\", \"Topic13\", \"Topic13\", \"Topic13\", \"Topic13\", \"Topic13\", \"Topic14\", \"Topic14\", \"Topic14\", \"Topic14\", \"Topic14\", \"Topic14\", \"Topic14\", \"Topic14\", \"Topic14\", \"Topic14\", \"Topic14\", \"Topic14\", \"Topic14\", \"Topic14\", \"Topic14\", \"Topic14\", \"Topic14\", \"Topic14\", \"Topic14\", \"Topic14\", \"Topic14\", \"Topic14\", \"Topic14\", \"Topic14\", \"Topic14\", \"Topic14\", \"Topic14\", \"Topic14\", \"Topic14\", \"Topic14\", \"Topic14\", \"Topic14\", \"Topic14\", \"Topic14\", \"Topic14\", \"Topic15\", \"Topic15\", \"Topic15\", \"Topic15\", \"Topic15\", \"Topic15\", \"Topic15\", \"Topic15\", \"Topic15\", \"Topic15\", \"Topic15\", \"Topic15\", \"Topic15\", \"Topic15\", \"Topic15\", \"Topic15\", \"Topic15\", \"Topic15\", \"Topic15\", \"Topic15\", \"Topic15\", \"Topic15\", \"Topic15\", \"Topic15\", \"Topic15\", \"Topic15\", \"Topic15\", \"Topic15\", \"Topic15\", \"Topic15\", \"Topic15\", \"Topic15\", \"Topic16\", \"Topic16\", \"Topic16\", \"Topic16\", \"Topic16\", \"Topic16\", \"Topic16\", \"Topic16\", \"Topic16\", \"Topic16\", \"Topic16\", \"Topic16\", \"Topic16\", \"Topic16\", \"Topic16\", \"Topic16\", \"Topic16\", \"Topic16\", \"Topic16\", \"Topic16\", \"Topic16\", \"Topic16\", \"Topic16\", \"Topic16\", \"Topic16\", \"Topic16\", \"Topic16\", \"Topic16\", \"Topic16\", \"Topic16\", \"Topic16\", \"Topic17\", \"Topic17\", \"Topic17\", \"Topic17\", \"Topic17\", \"Topic17\", \"Topic17\", \"Topic17\", \"Topic17\", \"Topic17\", \"Topic17\", \"Topic17\", \"Topic17\", \"Topic17\", \"Topic17\", \"Topic17\", \"Topic17\", \"Topic17\", \"Topic17\", \"Topic17\", \"Topic17\", \"Topic17\", \"Topic17\", \"Topic17\", \"Topic17\", \"Topic17\", \"Topic17\", \"Topic17\", \"Topic17\", \"Topic17\", \"Topic17\", \"Topic17\", \"Topic17\", \"Topic17\", \"Topic17\", \"Topic17\", \"Topic18\", \"Topic18\", \"Topic18\", \"Topic18\", \"Topic18\", \"Topic18\", \"Topic18\", \"Topic18\", \"Topic18\", \"Topic18\", \"Topic18\", \"Topic18\", \"Topic18\", \"Topic18\", \"Topic18\", \"Topic18\", \"Topic18\", \"Topic18\", \"Topic18\", \"Topic18\", \"Topic18\", \"Topic18\", \"Topic18\", \"Topic18\", \"Topic18\", \"Topic18\", \"Topic18\", \"Topic18\", \"Topic18\", \"Topic18\", \"Topic18\", \"Topic18\", \"Topic18\", \"Topic18\", \"Topic18\", \"Topic18\", \"Topic18\", \"Topic18\", \"Topic18\", \"Topic18\", \"Topic19\", \"Topic19\", \"Topic19\", \"Topic19\", \"Topic19\", \"Topic19\", \"Topic19\", \"Topic19\", \"Topic19\", \"Topic19\", \"Topic19\", \"Topic19\", \"Topic19\", \"Topic19\", \"Topic19\", \"Topic19\", \"Topic19\", \"Topic19\", \"Topic19\", \"Topic19\", \"Topic19\", \"Topic19\", \"Topic19\", \"Topic19\", \"Topic19\", \"Topic19\", \"Topic19\", \"Topic19\", \"Topic19\", \"Topic19\", \"Topic19\", \"Topic20\", \"Topic20\", \"Topic20\", \"Topic20\", \"Topic20\", \"Topic20\", \"Topic20\", \"Topic20\", \"Topic20\", \"Topic20\", \"Topic20\", \"Topic20\", \"Topic20\", \"Topic20\", \"Topic20\", \"Topic20\", \"Topic20\", \"Topic20\", \"Topic20\", \"Topic20\", \"Topic20\", \"Topic20\", \"Topic20\", \"Topic20\", \"Topic20\", \"Topic20\", \"Topic20\", \"Topic20\", \"Topic20\", \"Topic20\", \"Topic20\", \"Topic20\", \"Topic20\", \"Topic20\"], \"logprob\": [30.0, 29.0, 28.0, 27.0, 26.0, 25.0, 24.0, 23.0, 22.0, 21.0, 20.0, 19.0, 18.0, 17.0, 16.0, 15.0, 14.0, 13.0, 12.0, 11.0, 10.0, 9.0, 8.0, 7.0, 6.0, 5.0, 4.0, 3.0, 2.0, 1.0, -3.4795, -3.6479, -3.7178, -3.8971, -4.059, -4.1049, -4.2479, -4.4453, -4.4768, -4.517, -4.5659, -4.7081, -4.7147, -4.7714, -4.8158, -4.8161, -4.8319, -4.8547, -4.9248, -4.9292, -4.9324, -4.935, -4.9437, -5.0017, -5.0104, -5.0126, -5.0215, -5.0722, -5.1139, -5.1462, -2.4782, -3.6145, -3.5544, -4.139, -3.7884, -3.9882, -4.7293, -4.0539, -3.8117, -4.8157, -3.8815, -4.4896, -3.9925, -3.8682, -4.6177, -4.4449, -4.1899, -4.0093, -4.5335, -4.4799, -4.6049, -2.2672, -2.8714, -3.103, -3.1091, -3.5163, -3.5771, -3.6678, -3.7416, -3.7546, -3.8378, -3.8432, -3.9675, -4.1827, -4.1965, -4.3534, -4.4246, -4.4671, -4.5673, -4.6403, -4.6975, -5.0135, -5.0682, -5.1009, -5.1932, -5.1946, -5.3432, -5.4183, -5.4664, -5.5109, -5.523, -3.8493, -4.0368, -3.7688, -3.716, -4.7745, -2.829, -3.3311, -4.5784, -4.6712, -5.0001, -2.1723, -3.4637, -3.4902, -3.8199, -3.9536, -4.1212, -4.1269, -4.2166, -4.5185, -4.5319, -4.568, -4.6383, -4.6805, -4.7985, -4.8078, -4.8346, -4.8519, -4.8787, -4.8932, -4.9327, -4.9892, -5.0441, -5.0615, -5.077, -5.1511, -5.1539, -5.2327, -5.2989, -5.3141, -5.3186, -1.79, -3.831, -4.4607, -3.3086, -4.4098, -2.685, -3.1245, -3.1907, -3.2251, -3.4997, -3.9341, -3.9487, -3.9495, -3.9541, -3.9594, -4.0744, -4.1005, -4.183, -4.2441, -4.3116, -4.344, -4.3441, -4.3463, -4.3921, -4.4152, -4.4629, -4.5381, -4.5689, -4.5758, -4.7191, -4.746, -4.778, -4.8298, -4.8388, -4.8733, -4.1397, -3.9694, -4.0591, -4.2865, -2.805, -3.0883, -3.143, -3.7621, -3.8125, -4.3204, -4.5081, -4.6948, -4.7031, -4.7806, -4.8287, -5.0791, -5.2985, -5.4523, -5.5363, -5.8514, -5.9229, -5.9427, -5.9663, -5.9844, -5.9703, -6.1787, -6.2022, -6.2256, -6.2925, -6.3119, -1.0757, -6.5134, -6.5963, -6.6451, -1.5097, -5.4907, -3.9897, -4.7938, -4.3236, -6.0196, -4.9849, -5.6185, -3.1197, -3.3964, -3.511, -3.6109, -3.8301, -3.9177, -3.9419, -4.0798, -4.0849, -4.095, -4.1138, -4.1438, -4.3552, -4.4097, -4.5347, -4.5881, -4.6, -4.6157, -4.6212, -4.6589, -4.7123, -4.7219, -4.7786, -4.7817, -4.8008, -4.8487, -4.8558, -4.8687, -4.959, -5.0536, -4.9094, -3.8909, -4.5644, -3.7771, -4.5121, -4.0171, -4.5603, -2.8712, -2.9514, -3.0544, -3.5604, -3.5928, -3.6641, -3.7008, -3.9114, -3.9756, -4.0198, -4.0541, -4.098, -4.2644, -4.2981, -4.3133, -4.338, -4.3783, -4.4529, -4.4841, -4.5077, -4.511, -4.6027, -4.7114, -4.7312, -4.771, -4.8239, -4.8401, -4.9619, -5.0488, -5.0627, -2.5088, -3.8166, -4.1001, -4.1331, -4.5085, -4.3243, -2.9649, -3.2349, -3.2411, -3.4618, -3.5165, -3.6796, -3.9424, -4.0537, -4.1303, -4.1471, -4.2408, -4.3456, -4.5014, -4.5145, -4.5273, -4.6671, -4.8361, -4.8452, -4.8683, -4.9376, -4.9447, -4.9464, -5.0066, -5.0437, -5.1707, -5.2007, -5.2161, -5.2887, -5.2984, -5.334, -4.5287, -3.2367, -3.3943, -4.0356, -3.03, -4.1639, -3.1743, -4.2674, -4.183, -4.1486, -4.7384, -4.4779, -4.8149, -2.124, -2.4687, -2.5745, -2.6391, -3.1067, -3.6421, -4.2018, -4.2737, -4.3931, -4.4638, -4.4686, -4.6733, -4.6848, -4.6963, -4.6982, -4.8028, -4.8811, -4.9308, -4.966, -5.1698, -5.2578, -5.2593, -5.309, -5.3171, -5.4175, -5.45, -5.6086, -5.6153, -5.6311, -5.6693, -3.6675, -3.0533, -3.3949, -4.1441, -4.3939, -4.0468, -4.2124, -4.9714, -5.0655, -2.977, -3.2374, -3.2887, -3.7008, -3.7067, -3.9166, -4.1171, -4.256, -4.3303, -4.3505, -4.3601, -4.3939, -4.3999, -4.4412, -4.5123, -4.5519, -4.5521, -4.6229, -4.6696, -4.7743, -4.7992, -4.8382, -4.9032, -4.9113, -4.9171, -5.033, -5.0877, -5.1388, -5.175, -5.183, -4.0565, -2.6075, -5.0477, -4.187, -3.4476, -3.9637, -4.3178, -4.6162, -2.338, -2.4311, -3.0279, -3.0306, -3.1795, -3.2019, -3.6408, -3.6667, -4.0193, -4.1545, -4.2113, -4.2714, -4.5147, -4.5238, -4.5811, -4.6594, -4.6752, -4.6832, -4.6905, -4.7161, -4.8276, -4.8808, -4.9184, -4.9763, -5.0196, -5.0638, -5.0736, -5.1131, -5.2418, -5.309, -5.3046, -2.7752, -3.8593, -3.4671, -4.817, -1.9388, -2.9658, -3.0721, -3.2407, -3.5106, -3.5261, -3.6069, -3.7495, -3.7838, -3.9083, -3.964, -4.0921, -4.1769, -4.2303, -4.3139, -4.4338, -4.4613, -4.4712, -4.5662, -4.586, -4.6086, -4.6346, -4.6628, -4.8832, -4.8951, -4.9024, -4.9786, -4.9321, -5.0864, -5.1401, -3.4785, -5.0813, -2.7648, -3.221, -3.4963, -3.6965, -3.8236, -3.9171, -3.9454, -4.0772, -4.0917, -4.201, -4.2043, -4.2385, -4.3841, -4.425, -4.5603, -4.5605, -4.613, -4.7212, -4.7282, -4.8536, -4.8726, -4.9139, -4.989, -5.0997, -5.101, -5.121, -5.1237, -5.1558, -5.1602, -5.2473, -2.8904, -4.4677, -4.7225, -4.5624, -4.5408, -4.8261, -5.0164, -2.8469, -2.9399, -3.2326, -3.3052, -3.6376, -3.9034, -3.9392, -4.0833, -4.1095, -4.125, -4.2164, -4.2683, -4.3381, -4.4209, -4.4615, -4.4683, -4.5627, -4.7289, -4.7442, -4.7686, -4.7692, -4.8013, -4.8084, -4.812, -4.9254, -4.9497, -5.0387, -5.0908, -5.1049, -5.1662, -4.0763, -4.1924, -3.419, -4.3791, -4.7958, -3.1593, -3.1619, -3.5935, -3.7832, -3.7977, -3.8905, -3.8954, -3.9639, -3.9853, -3.9892, -4.0902, -4.1922, -4.2116, -4.3054, -4.3118, -4.3257, -4.3441, -4.349, -4.3732, -4.4738, -4.5422, -4.576, -4.5829, -4.6508, -4.7213, -4.7637, -4.8172, -4.8758, -4.8986, -4.9303, -3.474, -4.348, -2.497, -3.0231, -3.6534, -3.6783, -3.7409, -3.8338, -3.8981, -4.0865, -4.1977, -4.2147, -4.2924, -4.304, -4.508, -4.5198, -4.589, -4.6017, -4.6045, -4.6195, -4.6213, -4.6511, -4.7769, -4.7894, -4.8459, -4.878, -4.9085, -4.9876, -5.0273, -5.0482, -5.0511, -5.1212, -3.8838, -1.8584, -2.4877, -3.0915, -3.301, -3.3648, -3.3837, -4.0293, -4.2365, -4.3034, -4.3131, -4.3795, -4.4629, -4.5174, -4.6083, -4.6736, -4.6904, -4.8038, -4.8129, -4.8383, -4.9014, -5.1266, -5.1564, -5.1793, -5.2229, -5.2919, -5.3027, -5.3633, -5.3823, -5.4174, -5.4222, -4.2753, -4.2674, -4.4707, -4.3985, -4.6477, -5.1518, -2.1297, -2.944, -3.2236, -3.4158, -3.6925, -3.7101, -3.7863, -3.9465, -4.1325, -4.2341, -4.2993, -4.3506, -4.4012, -4.4022, -4.4193, -4.5264, -4.5418, -4.5532, -4.6298, -4.688, -4.9212, -4.9596, -4.9975, -5.0442, -5.0568, -5.0669, -5.0679, -5.0823, -5.248, -5.2607, -4.5428, -4.5666, -4.5666, -4.7468, -4.7468, -4.7468, -4.7468, -4.7468, -4.7468, -4.3417, -2.2426, -2.6526, -3.5061, -3.5615, -3.5762, -3.6533, -3.8038, -3.9269, -3.9509, -4.1762, -4.2242, -4.2303, -4.3083, -4.3122, -4.3179, -4.3886, -4.4007, -4.4596, -4.5264, -4.6201, -4.642, -4.6856, -4.715, -4.8029, -4.8226, -4.9116, -4.9243, -5.0007, -5.0242, -5.168, -4.3146, -2.4885, -3.1836, -3.4755, -3.5768, -3.6941, -3.7682, -3.86, -4.2475, -4.29, -4.4485, -4.5049, -4.567, -4.5722, -4.582, -4.6084, -4.6086, -4.6172, -4.6875, -4.7968, -4.8949, -4.9011, -4.9103, -4.9105, -4.9279, -4.929, -4.9427, -4.9439, -5.003, -5.0065, -5.0452, -4.8567, -4.777, -4.5627, -4.0237], \"loglift\": [30.0, 29.0, 28.0, 27.0, 26.0, 25.0, 24.0, 23.0, 22.0, 21.0, 20.0, 19.0, 18.0, 17.0, 16.0, 15.0, 14.0, 13.0, 12.0, 11.0, 10.0, 9.0, 8.0, 7.0, 6.0, 5.0, 4.0, 3.0, 2.0, 1.0, 1.9272, 1.9272, 1.9272, 1.9271, 1.9271, 1.9271, 1.927, 1.9269, 1.9269, 1.9269, 1.9268, 1.9268, 1.9268, 1.9267, 1.9267, 1.9267, 1.9267, 1.9267, 1.9266, 1.9266, 1.9266, 1.9266, 1.9266, 1.9265, 1.9265, 1.9265, 1.9265, 1.9265, 1.9264, 1.9264, 1.9163, 1.9238, 1.9165, 1.9218, 1.8799, 1.8722, 1.9081, 1.8544, 1.749, 1.9045, 1.6768, 1.8041, 1.58, 1.3758, 1.7479, 1.5262, 1.0373, 0.7767, 1.4869, 1.1062, 1.5035, 2.3375, 2.3374, 2.3374, 2.3374, 2.3373, 2.3373, 2.3372, 2.3372, 2.3372, 2.3372, 2.3372, 2.3371, 2.337, 2.337, 2.3369, 2.3369, 2.3368, 2.3368, 2.3367, 2.3366, 2.3363, 2.3362, 2.3362, 2.336, 2.336, 2.3358, 2.3356, 2.3355, 2.3354, 2.3354, 2.3001, 2.2661, 2.245, 2.1298, 2.2575, 1.957, 1.8252, 1.0077, 0.6635, 1.9037, 2.5076, 2.5074, 2.5074, 2.5072, 2.5072, 2.5071, 2.5071, 2.507, 2.5067, 2.5067, 2.5067, 2.5066, 2.5066, 2.5064, 2.5064, 2.5064, 2.5064, 2.5063, 2.5063, 2.5063, 2.5062, 2.5061, 2.5061, 2.506, 2.5059, 2.5059, 2.5058, 2.5056, 2.5056, 2.5056, 2.5018, 2.457, 2.4537, 2.0262, 1.6188, 2.5266, 2.5265, 2.5265, 2.5265, 2.5264, 2.5262, 2.5262, 2.5262, 2.5262, 2.5262, 2.5261, 2.5261, 2.5261, 2.526, 2.526, 2.526, 2.526, 2.5259, 2.5259, 2.5259, 2.5258, 2.5258, 2.5257, 2.5257, 2.5256, 2.5255, 2.5255, 2.5254, 2.5254, 2.5254, 2.5091, 2.4837, 2.4721, 2.3775, 2.5357, 2.5357, 2.5357, 2.5355, 2.5354, 2.5351, 2.5349, 2.5347, 2.5347, 2.5346, 2.5346, 2.5342, 2.5338, 2.5334, 2.5332, 2.5322, 2.532, 2.5319, 2.5318, 2.5317, 2.5309, 2.5308, 2.5307, 2.5306, 2.5302, 2.5301, 2.5293, 2.5288, 2.5282, 2.5278, 2.4999, 2.5249, 2.1264, 2.1804, 2.0581, 2.3891, 0.8609, -0.046, 2.5414, 2.5413, 2.5413, 2.5413, 2.5412, 2.5411, 2.5411, 2.541, 2.541, 2.541, 2.541, 2.541, 2.5408, 2.5408, 2.5407, 2.5406, 2.5406, 2.5406, 2.5406, 2.5405, 2.5405, 2.5405, 2.5404, 2.5404, 2.5404, 2.5403, 2.5403, 2.5403, 2.5401, 2.54, 2.5382, 2.4851, 2.5191, 2.2539, 2.3349, 2.0115, 1.0259, 2.8879, 2.8879, 2.8879, 2.8877, 2.8877, 2.8876, 2.8876, 2.8874, 2.8874, 2.8874, 2.8873, 2.8873, 2.8871, 2.8871, 2.8871, 2.887, 2.887, 2.8869, 2.8869, 2.8868, 2.8868, 2.8867, 2.8865, 2.8865, 2.8864, 2.8863, 2.8863, 2.886, 2.8858, 2.8858, 2.8671, 2.8784, 2.8683, 1.5043, 2.2064, 1.6961, 2.8959, 2.8958, 2.8958, 2.8957, 2.8957, 2.8956, 2.8954, 2.8954, 2.8953, 2.8953, 2.8952, 2.8951, 2.8949, 2.8948, 2.8948, 2.8946, 2.8943, 2.8943, 2.8942, 2.8941, 2.8941, 2.8941, 2.8939, 2.8939, 2.8935, 2.8935, 2.8934, 2.8932, 2.8932, 2.8931, 2.886, 2.7911, 2.7633, 2.7979, 2.6074, 2.494, 1.982, 2.3656, 1.7881, 1.0954, 2.3906, 1.0828, 2.4842, 2.9784, 2.9784, 2.9784, 2.9783, 2.9782, 2.978, 2.9775, 2.9774, 2.9772, 2.9772, 2.9771, 2.9768, 2.9768, 2.9768, 2.9768, 2.9765, 2.9764, 2.9763, 2.9762, 2.9757, 2.9754, 2.9754, 2.9753, 2.9752, 2.9748, 2.9747, 2.9741, 2.9741, 2.974, 2.9738, 2.9548, 2.9315, 2.906, 2.6314, 2.5078, 2.2929, 1.9571, 1.9324, 2.0805, 3.1482, 3.1481, 3.1481, 3.1478, 3.1478, 3.1476, 3.1474, 3.1472, 3.1471, 3.1471, 3.1471, 3.147, 3.147, 3.147, 3.1468, 3.1468, 3.1468, 3.1466, 3.1465, 3.1463, 3.1462, 3.1461, 3.146, 3.146, 3.1459, 3.1456, 3.1454, 3.1453, 3.1452, 3.1451, 3.0445, 2.6197, 3.1077, 2.6736, 1.7964, 1.6089, 1.7983, 2.0417, 3.1492, 3.1492, 3.149, 3.149, 3.1489, 3.1489, 3.1487, 3.1486, 3.1483, 3.1482, 3.1481, 3.148, 3.1476, 3.1476, 3.1475, 3.1473, 3.1473, 3.1473, 3.1473, 3.1472, 3.147, 3.1468, 3.1467, 3.1466, 3.1465, 3.1463, 3.1463, 3.1462, 3.1457, 3.1455, 3.1455, 3.0928, 3.0654, 2.7024, 3.0228, 3.5626, 3.5622, 3.5621, 3.562, 3.5618, 3.5618, 3.5617, 3.5615, 3.5615, 3.5613, 3.5612, 3.561, 3.5609, 3.5607, 3.5606, 3.5603, 3.5602, 3.5602, 3.5599, 3.5599, 3.5598, 3.5597, 3.5596, 3.5589, 3.5588, 3.5588, 3.5585, 3.5584, 3.558, 3.5577, 2.8612, 1.5827, 3.6332, 3.6329, 3.6326, 3.6324, 3.6322, 3.6321, 3.632, 3.6318, 3.6318, 3.6315, 3.6315, 3.6315, 3.6311, 3.631, 3.6306, 3.6306, 3.6304, 3.6301, 3.63, 3.6296, 3.6295, 3.6293, 3.629, 3.6284, 3.6284, 3.6283, 3.6283, 3.6281, 3.6281, 3.6276, 3.3442, 3.5207, 2.9553, 2.2131, 1.8248, 2.5267, 2.7448, 3.6463, 3.6462, 3.646, 3.646, 3.6456, 3.6453, 3.6452, 3.6449, 3.6449, 3.6449, 3.6447, 3.6445, 3.6444, 3.6442, 3.6441, 3.644, 3.6438, 3.6432, 3.6431, 3.6431, 3.6431, 3.6429, 3.6429, 3.6429, 3.6424, 3.6423, 3.6419, 3.6416, 3.6415, 3.6412, 3.5042, 2.8692, 2.1394, 2.4815, 1.2179, 3.8198, 3.8198, 3.8193, 3.819, 3.819, 3.8189, 3.8188, 3.8187, 3.8187, 3.8187, 3.8184, 3.8182, 3.8181, 3.8179, 3.8179, 3.8178, 3.8178, 3.8178, 3.8177, 3.8174, 3.8171, 3.817, 3.817, 3.8167, 3.8164, 3.8162, 3.816, 3.8157, 3.8156, 3.8154, 3.7833, 3.2291, 3.8938, 3.8934, 3.8927, 3.8927, 3.8926, 3.8924, 3.8923, 3.8918, 3.8915, 3.8915, 3.8913, 3.8912, 3.8905, 3.8905, 3.8902, 3.8902, 3.8902, 3.8901, 3.8901, 3.89, 3.8894, 3.8893, 3.889, 3.8889, 3.8887, 3.8882, 3.888, 3.8879, 3.8879, 3.8874, 2.2246, 3.9185, 3.9183, 3.9179, 3.9177, 3.9176, 3.9176, 3.9165, 3.9159, 3.9157, 3.9157, 3.9155, 3.9152, 3.915, 3.9147, 3.9144, 3.9143, 3.9138, 3.9137, 3.9136, 3.9132, 3.9118, 3.9116, 3.9115, 3.9111, 3.9106, 3.9105, 3.91, 3.9098, 3.9095, 3.9095, 3.8787, 3.6291, 3.2072, 2.8083, 1.2606, 0.833, 3.994, 3.9935, 3.9932, 3.993, 3.9926, 3.9925, 3.9924, 3.992, 3.9916, 3.9913, 3.991, 3.9909, 3.9907, 3.9907, 3.9906, 3.9902, 3.9901, 3.9901, 3.9897, 3.9895, 3.9882, 3.9879, 3.9877, 3.9874, 3.9873, 3.9872, 3.9872, 3.9871, 3.9858, 3.9857, 3.8796, 3.8615, 3.8615, 3.693, 3.693, 3.693, 3.693, 3.693, 3.693, 1.6861, 4.0249, 4.0247, 4.0238, 4.0237, 4.0237, 4.0236, 4.0233, 4.023, 4.0229, 4.0223, 4.0222, 4.0221, 4.0219, 4.0219, 4.0218, 4.0216, 4.0215, 4.0213, 4.021, 4.0206, 4.0205, 4.0203, 4.0201, 4.0196, 4.0195, 4.019, 4.0189, 4.0184, 4.0182, 4.0171, 1.92, 4.4393, 4.4385, 4.4379, 4.4376, 4.4373, 4.4371, 4.4368, 4.4352, 4.435, 4.4342, 4.4338, 4.4334, 4.4334, 4.4333, 4.4331, 4.4331, 4.4331, 4.4325, 4.4315, 4.4308, 4.4307, 4.4306, 4.4306, 4.4305, 4.4305, 4.4303, 4.4303, 4.4297, 4.4297, 4.4293, 4.4262, 4.4105, 4.0273, 2.0847]}, \"token.table\": {\"Topic\": [10, 10, 16, 2, 13, 15, 2, 6, 16, 12, 19, 1, 7, 17, 10, 2, 10, 19, 19, 15, 10, 5, 15, 6, 11, 14, 7, 2, 7, 19, 18, 4, 2, 15, 10, 14, 9, 10, 1, 2, 3, 5, 7, 9, 19, 20, 13, 1, 2, 3, 4, 5, 6, 7, 8, 9, 10, 11, 12, 13, 14, 15, 16, 17, 18, 19, 7, 10, 15, 5, 9, 5, 11, 12, 8, 4, 12, 18, 6, 7, 6, 2, 14, 17, 3, 6, 20, 4, 15, 4, 5, 8, 15, 1, 1, 14, 17, 19, 2, 8, 8, 9, 20, 3, 1, 2, 6, 7, 11, 17, 17, 3, 18, 14, 13, 19, 7, 1, 13, 18, 14, 12, 6, 14, 16, 19, 15, 7, 1, 8, 1, 10, 13, 4, 19, 12, 7, 9, 13, 4, 11, 15, 4, 9, 18, 5, 3, 6, 16, 20, 8, 2, 3, 3, 1, 2, 3, 4, 5, 6, 7, 8, 9, 10, 11, 12, 13, 14, 15, 16, 17, 18, 19, 9, 18, 10, 6, 13, 2, 5, 6, 8, 18, 9, 16, 6, 16, 1, 7, 17, 12, 13, 2, 8, 6, 6, 11, 14, 12, 20, 8, 7, 18, 12, 5, 16, 1, 14, 18, 12, 10, 19, 5, 10, 13, 2, 5, 5, 4, 17, 16, 8, 12, 16, 20, 11, 18, 7, 8, 11, 8, 12, 10, 18, 14, 9, 16, 1, 2, 3, 4, 5, 6, 7, 8, 9, 10, 11, 12, 13, 14, 15, 16, 17, 18, 19, 10, 5, 16, 17, 7, 9, 13, 17, 6, 5, 2, 5, 7, 1, 7, 6, 17, 2, 14, 1, 8, 13, 16, 13, 5, 15, 17, 13, 2, 10, 7, 16, 4, 16, 17, 11, 6, 17, 12, 4, 6, 15, 11, 12, 17, 1, 2, 3, 4, 5, 6, 7, 8, 9, 10, 11, 12, 13, 14, 15, 16, 17, 18, 19, 17, 14, 14, 16, 7, 1, 5, 10, 20, 16, 4, 18, 8, 16, 4, 9, 3, 8, 4, 19, 4, 7, 15, 18, 16, 19, 18, 13, 16, 10, 18, 12, 10, 6, 3, 16, 5, 6, 10, 14, 1, 1, 2, 3, 4, 5, 6, 7, 8, 9, 10, 11, 12, 13, 14, 15, 16, 17, 18, 19, 20, 4, 19, 16, 14, 3, 15, 14, 4, 1, 9, 7, 1, 5, 1, 7, 15, 18, 11, 1, 1, 16, 2, 8, 11, 20, 10, 14, 4, 5, 15, 1, 15, 17, 5, 11, 3, 11, 9, 13, 19, 11, 2, 7, 18, 20, 20, 4, 4, 4, 11, 7, 1, 2, 3, 5, 7, 10, 11, 12, 18, 17, 19, 1, 8, 9, 19, 11, 3, 19, 17, 9, 7, 17, 9, 17, 9, 8, 17, 8, 4, 2, 16, 9, 2, 1, 9, 9, 8, 7, 14, 14, 16, 5, 13, 13, 20, 20, 9, 18, 14, 7, 3, 1, 5, 1, 1, 20, 8, 13, 13, 14, 10, 20, 8, 3, 6, 3, 14, 5, 2, 4, 2, 20, 5, 2, 2, 10, 8, 14, 12, 6, 7, 7, 3, 8, 10, 3, 2, 1, 2, 3, 4, 5, 6, 7, 8, 9, 10, 11, 12, 13, 14, 15, 16, 17, 18, 19, 1, 8, 10, 18, 4, 1, 7, 13, 17, 4, 17, 19, 4, 1, 2, 6, 7, 1, 2, 9, 8, 18, 11, 17, 2, 9, 12, 16, 14, 10, 16, 14, 5, 13, 8, 18, 14, 14, 7, 17, 13, 15, 12, 1, 15, 1, 17, 12, 3, 17, 18, 20, 18, 9, 3, 1, 2, 3, 5, 7, 10, 11, 12, 18, 13, 11, 20, 8, 5, 3, 6, 6, 14, 7, 13, 5, 15, 2, 11, 19, 7, 6, 1, 6, 8, 15, 2, 16, 13, 10, 4, 11, 9, 1, 9, 8, 5, 1, 7, 16, 20, 14, 7, 10, 14, 4, 9, 10, 2, 3, 6, 11, 13, 1, 20, 11, 19, 12, 19, 13, 11, 18, 1, 2, 3, 4, 5, 6, 7, 8, 9, 10, 11, 12, 13, 14, 15, 16, 17, 18, 19, 8, 20, 12, 17, 11, 16, 6, 8, 2, 6, 15, 12, 14, 18, 7, 1, 19, 2, 20, 13, 9, 19, 13, 15, 2, 4, 6, 18, 9, 6, 18, 5, 15, 3, 5, 8, 19, 7, 7, 1, 17, 3, 6, 5, 20, 14, 7, 13, 19, 15, 2, 5, 13, 16, 18, 2, 9, 17, 9, 11, 12, 10, 1, 11, 5, 3, 6, 2, 9, 13, 16, 20, 9, 7, 11, 20, 14, 12, 15, 7, 8, 12, 11, 3, 12, 5, 6, 6, 2, 8, 13, 15, 6, 9, 17, 5, 9, 12, 20, 1, 2, 17, 15, 13, 2, 17, 6, 1, 3, 4, 18, 19, 10, 14, 16, 1, 7, 8, 10, 11, 18, 6, 8, 7, 17, 9, 1, 11, 19, 7, 9, 11, 1, 17, 7, 4, 19, 20, 6, 7, 6, 6, 5, 2, 13, 17, 19, 2, 14, 16, 10, 9, 19, 8, 15, 20, 8, 4, 3, 20, 3, 10, 1, 3, 8, 9, 6, 8, 6, 11, 11, 20, 12, 16, 15, 3, 10, 14, 6, 8, 12, 20, 14, 9, 1, 1, 4, 19, 3, 3, 19, 5, 20, 12, 10, 3, 14, 1, 7, 15, 19, 1, 20, 14, 14, 12, 2, 10, 20, 17, 5, 17, 9, 2, 13, 13, 13, 7, 6, 4, 6, 17, 10, 1, 8, 1, 2, 3, 4, 5, 6, 7, 8, 9, 10, 11, 12, 14, 15, 16, 17, 18, 19, 1, 13, 11, 3, 3, 17, 20, 18, 11, 18, 18, 1, 2, 1, 2, 5, 6, 9, 9, 9, 14, 15, 10, 4, 12, 7, 1, 16, 15, 14, 1, 13, 4, 8, 1, 8, 12, 3, 1, 11, 5, 5, 10, 7, 11, 1, 13, 3, 2, 4, 19, 2, 19, 1, 10, 8, 20, 2, 8, 1, 2], \"Freq\": [0.9979439822074927, 0.9994302240522155, 0.9962874956979014, 0.587373399956714, 0.41064158050071153, 0.9981627769013819, 0.2496983270944113, 0.7500163773241727, 0.9988002880771072, 0.9973280825402877, 0.9936298058794559, 0.6121011859673587, 0.057726615912368794, 0.32943982529300125, 0.998015772941463, 0.9990703964297547, 0.9982098881924928, 0.9966090021983053, 0.9981152297706255, 0.9987233299195134, 0.9990004775216055, 0.9929638185172414, 0.9983463939173016, 0.09934024528916048, 0.8809417978472722, 0.016869098256649895, 0.9995796863538724, 0.9974393220544057, 0.9981881011722639, 0.9936771723324394, 0.9984270542297061, 0.9988377242373309, 0.445400485575409, 0.5535073995500229, 0.961087744472511, 0.0385462999119991, 0.9955450295104905, 0.9995189336391599, 0.04485216042217877, 0.18752183111661774, 0.617827028887077, 0.00275542282457071, 0.09904214263873606, 0.033677390078086455, 0.014083272214472517, 0.9939732997716204, 0.9989923394048068, 0.0034156443840708812, 0.010246933152212643, 0.0068312887681417625, 0.03757208822477969, 0.010246933152212643, 0.047819021376992336, 0.017078221920354405, 0.0034156443840708812, 0.0068312887681417625, 0.017078221920354405, 0.0068312887681417625, 0.013662577536283525, 0.0034156443840708812, 0.0034156443840708812, 0.0034156443840708812, 0.0546503101451341, 0.010246933152212643, 0.7411948313433812, 0.0034156443840708812, 0.9994234205298429, 0.9984245647446933, 0.9979672060112114, 0.9989762609600764, 0.9998167057455276, 0.9950321225627825, 0.9969992803778511, 0.9975517904561955, 0.9993189545563178, 0.9988166599384389, 0.996100200565672, 0.9962853439862662, 0.977484045694943, 0.02111576696370714, 0.9996941929766685, 0.998743413582589, 0.997007327193452, 0.9970241264416146, 0.9990245404988541, 0.9985626849825977, 0.9977523241447008, 0.9994135527765488, 0.9985775811024074, 0.9826470775430666, 0.01708951439205333, 0.9995816263519031, 0.992420333874671, 0.9991294636708087, 0.9535618191896666, 0.02243926288994061, 0.02350779921803302, 0.9937949052031261, 0.9997079007721029, 0.9988632249961071, 0.6625441788142247, 0.33618386668003497, 0.9925659449802743, 0.9990194069095534, 0.010265483856241832, 0.01283185482030229, 0.002566370964060458, 0.002566370964060458, 0.005132741928120916, 0.9598227405586113, 0.998776873817201, 0.9979199771431664, 0.9941704719147263, 0.9991451141189012, 0.9986799817263627, 0.9944710328809077, 0.999103013329835, 0.9991900564192447, 0.9925154285718607, 0.9897353023360951, 0.9994711754398484, 0.996642750062003, 0.9995634576520472, 0.9932106702718642, 0.9982208943020027, 0.993130451858103, 0.9958748188874852, 0.9968113694283026, 0.41103893489116017, 0.5882398945441024, 0.999432325310406, 0.9985014088953712, 0.9946918648324478, 0.9997609395059156, 0.995001735602109, 0.9952616997164051, 0.9791127116649295, 0.02073715420600209, 0.9977511395708468, 0.9996232436655973, 0.9974469292745493, 0.9979210008946923, 0.9995122591576622, 0.9985487863758297, 0.997782305607477, 0.9988872756757846, 0.05464352499918387, 0.9449860394700131, 0.9958823259020297, 0.9923091709057597, 0.9984593557213051, 0.9995486442294594, 0.9992318686816355, 0.9983175102172609, 0.0034156443840708812, 0.010246933152212643, 0.0068312887681417625, 0.03757208822477969, 0.010246933152212643, 0.047819021376992336, 0.017078221920354405, 0.0034156443840708812, 0.0068312887681417625, 0.017078221920354405, 0.0068312887681417625, 0.013662577536283525, 0.0034156443840708812, 0.0034156443840708812, 0.0034156443840708812, 0.0546503101451341, 0.010246933152212643, 0.7411948313433812, 0.0034156443840708812, 0.9987274781406059, 0.993677678160154, 0.9984546906132935, 0.6679855739954541, 0.3305376892011988, 0.9981011265053378, 0.997171073549664, 0.9995000603734859, 0.9982824198261654, 0.9946244937571408, 0.9952688868976209, 0.9961092319296255, 0.9995035282861086, 0.9982926019329079, 0.9997264137585528, 0.9973756058559796, 0.9946556196970064, 0.9991310384680769, 0.9974262704781085, 0.9234404964208915, 0.07604804088172049, 0.9991765431483107, 0.9994906973468843, 0.9195423005815493, 0.07956855825440345, 0.9980988482236908, 0.9938304770702783, 0.9986511923734136, 0.9980234902987527, 0.9988210189450215, 0.9972036163861333, 0.9935435874632486, 0.9984966260977766, 0.7783987246843342, 0.2214971284947798, 0.9996932475445619, 0.9985710426758084, 0.9007562465023254, 0.09759684977013268, 0.9900029517480858, 0.008939078571088811, 0.992132028083183, 0.035354142383504226, 0.9645700365598409, 0.9935138563860728, 0.9985254608927274, 0.9868427181362651, 0.9945591171886053, 0.9983889761383161, 0.99744074566837, 0.9931932878553493, 0.998707232328768, 0.9451427361100578, 0.05479844687551412, 0.25051474054976886, 0.7492649312059257, 0.9997687251512734, 0.9965426741621751, 0.9979122744131906, 0.9985387296074503, 0.9970990989928478, 0.9948532129822829, 0.9992284655013255, 0.9966495094168387, 0.0034156443840708812, 0.010246933152212643, 0.0068312887681417625, 0.03757208822477969, 0.010246933152212643, 0.047819021376992336, 0.017078221920354405, 0.0034156443840708812, 0.0068312887681417625, 0.017078221920354405, 0.0068312887681417625, 0.013662577536283525, 0.0034156443840708812, 0.0034156443840708812, 0.0034156443840708812, 0.0546503101451341, 0.010246933152212643, 0.7411948313433812, 0.0034156443840708812, 0.9977463343734171, 0.9976756711020471, 0.9930550897374704, 0.988571845599961, 0.043319980927903436, 0.7066975993163949, 0.2418160129408341, 0.007758802554251361, 0.998607163108689, 0.9957025343232027, 0.8123348155759311, 0.18732445951389678, 0.9993050543023487, 0.018820348830924396, 0.9802265016106456, 0.9990158275333314, 0.9956448027902499, 0.9116542310429004, 0.08814670048494269, 0.9989358002185573, 0.9066045954394323, 0.09319593724849795, 0.9947860680580864, 0.9958685425623237, 0.999738700002311, 0.9943619706155691, 0.9954763881195404, 0.9982163099118188, 0.9989253604619387, 0.9981418473016881, 0.9903574139276294, 0.008949012776454483, 0.9990152524466116, 0.9966354077883847, 0.9997570911733682, 0.9992337445752232, 0.9987513714317097, 0.9982062068342481, 0.9966038536518717, 0.9992660854483796, 0.9992911852197783, 0.9989652479616554, 0.997187758044064, 0.9993530147304036, 0.9937172878624743, 0.0034156443840708812, 0.010246933152212643, 0.0068312887681417625, 0.03757208822477969, 0.010246933152212643, 0.047819021376992336, 0.017078221920354405, 0.0034156443840708812, 0.0068312887681417625, 0.017078221920354405, 0.0068312887681417625, 0.013662577536283525, 0.0034156443840708812, 0.0034156443840708812, 0.0034156443840708812, 0.0546503101451341, 0.010246933152212643, 0.7411948313433812, 0.0034156443840708812, 0.9967042305131094, 0.9981514731940012, 0.9980272920645507, 0.9952688233075184, 0.997457413576193, 0.7066365488858145, 0.07553767999906069, 0.21437943115414654, 0.003301132544946097, 0.9977506680609363, 0.998431707513165, 0.9962838409947681, 0.9976840742646372, 0.9975937424549374, 0.9990299952942967, 0.996680110506733, 0.999400235312596, 0.9981086227163618, 0.9987785249617185, 0.9974759325285826, 0.9983769123241352, 0.997815753247399, 0.9991815453887236, 0.9979975002230373, 0.9947811903788973, 0.9995389898185602, 0.9987788291813401, 0.9960002780647021, 0.9991977894151471, 0.9995630309479658, 0.996163179622058, 0.9986219001970006, 0.9957426282357752, 0.9996704036965669, 0.9988799690653504, 0.995830132868202, 0.6641240024071575, 0.01571693258466083, 0.25916218623642856, 0.06086131341294193, 0.9995461852164649, 0.063506130904835, 0.011907399544656564, 0.01587653272620875, 0.027783932270865314, 0.01587653272620875, 0.011907399544656564, 0.01587653272620875, 0.0317530654524175, 0.003969133181552188, 0.023814799089313127, 0.023814799089313127, 0.051598731360178444, 0.003969133181552188, 0.003969133181552188, 0.023814799089313127, 0.003969133181552188, 0.003969133181552188, 0.003969133181552188, 0.003969133181552188, 0.6628452413192154, 0.9995247034239564, 0.9981407464193393, 0.9939416054978698, 0.9958395772775146, 0.9993841372518395, 0.9972782116306788, 0.9951597009730022, 0.9993045417886302, 0.9996545464378896, 0.9967704963481122, 0.9988076210540325, 0.9889755097285352, 0.010999908951825574, 0.8838425802143856, 0.11542273189424195, 0.9982308286950317, 0.9993210425683849, 0.9972275017237416, 0.9997371009074711, 0.9996602438633095, 0.99945784019799, 0.9995393667121725, 0.9975032526703325, 0.9994758954603263, 0.9900196844295812, 0.9982696615081331, 0.9989261241599497, 0.2981324805959601, 0.701163426586795, 0.9968788714280895, 0.9994403687793507, 0.9976414385930127, 0.9915716136141803, 0.9998294533020016, 0.9991490385945195, 0.9990761767696276, 0.9979316211592358, 0.1291330077136312, 0.7488208523102404, 0.12197986734465456, 0.9977306918702633, 0.9997218450451447, 0.9992968000514265, 0.9935501012575733, 0.9992104402837464, 0.9955614801106987, 0.9992038148759916, 0.9992599869822928, 0.9996781623087596, 0.9981909464608606, 0.9992022457755886, 0.003375534373406109, 0.03375534373406109, 0.013502137493624436, 0.003375534373406109, 0.03375534373406109, 0.003375534373406109, 0.010126603120218326, 0.013502137493624436, 0.8742634027121822, 0.9918091895087138, 0.9957602789879887, 0.5910409505168681, 0.0009366734556527229, 0.40745295320893443, 0.9958759303717251, 0.9984576415346623, 0.9984891571561427, 0.9984994408401257, 0.9942001089460754, 0.9988005634709491, 0.9992632391111802, 0.9953564686285689, 0.953969876669976, 0.04574832485721373, 0.9996630389719565, 0.9983005517514562, 0.9915887510948278, 0.998884803259219, 0.9993324928043862, 0.9997421642345368, 0.9930220579683711, 0.9979587542124884, 0.9994828702634829, 0.022745471131910954, 0.9763909559064216, 0.9997502883018157, 0.997068525736194, 0.9984316637658412, 0.9962007698915165, 0.9949630399599646, 0.9937662133574747, 0.9950707414395218, 0.9986009533451743, 0.9963041430646248, 0.9912066167400073, 0.9924335050695406, 0.9961523202034149, 0.9977353016253734, 0.9978722276665641, 0.999471278654691, 0.9982457090983556, 0.9990077077069403, 0.9952581855987358, 0.998830653767916, 0.9998619880549481, 0.9930979663433724, 0.9994547456113303, 0.9969415412382502, 0.9993174012928764, 0.9993224531743299, 0.996947214966792, 0.9935555465816369, 0.998001657743191, 0.4111736915998339, 0.5885727731470052, 0.9473137108595088, 0.052009380204051464, 0.9889042247083081, 0.9998207653908138, 0.9991211934244695, 0.9992883541262475, 0.9948218790851688, 0.9995460800491079, 0.9997538791710304, 0.9986458093304085, 0.9967115241958407, 0.9966476700481498, 0.9975317220167724, 0.999633519806747, 0.9985086271221221, 0.9997256970725077, 0.998214859740344, 0.9994035569299038, 0.6685554446847803, 0.3305411699860264, 0.9987845917326644, 0.9996348872700203, 0.0034156446089551916, 0.010246933826865576, 0.006831289217910383, 0.03757209069850711, 0.010246933826865576, 0.047819024525372684, 0.017078223044775957, 0.0034156446089551916, 0.006831289217910383, 0.017078223044775957, 0.006831289217910383, 0.013662578435820767, 0.0034156446089551916, 0.0034156446089551916, 0.0034156446089551916, 0.054650313743283066, 0.010246933826865576, 0.7411948801432766, 0.0034156446089551916, 0.5760157818118922, 0.16511520347569045, 0.25864786319223315, 0.9957239790127156, 0.9992431600297557, 0.6436299968067952, 0.303581854017936, 0.029476916756496288, 0.02309531622158472, 0.9996645801207754, 0.9964518785715311, 0.9931642218006821, 0.998717015614038, 0.43993634099824536, 0.26455232317746835, 0.21967291120986213, 0.07578321757687896, 0.999065030532209, 0.37485534708435925, 0.6242698637354006, 0.9003645054266081, 0.09949624762449767, 0.9992998604647376, 0.9991459400148172, 0.99891770370386, 0.9986750135433469, 0.9946371939204713, 0.9942816633148244, 0.9989060324185556, 0.998245670627308, 0.9961044300955049, 0.9930623455249328, 0.9976598592937761, 0.9984491679063329, 0.9978893722888234, 0.9957804954291567, 0.9967774069731933, 0.998137197656773, 0.24994608343666627, 0.7478545512351046, 0.998204366071551, 0.9981447968108891, 0.9979895679376262, 0.9997077621067145, 0.9957899306487223, 0.9296252122944151, 0.07008863377322007, 0.9985600783410469, 0.9994929713376166, 0.9967641178603444, 0.9933426441885094, 0.9912567076973481, 0.9961634984581171, 0.9975322792954412, 0.9988056793061398, 0.003375534373406109, 0.03375534373406109, 0.013502137493624436, 0.003375534373406109, 0.03375534373406109, 0.003375534373406109, 0.010126603120218326, 0.013502137493624436, 0.8742634027121822, 0.9960811342388721, 0.9998509602342595, 0.9913518460608024, 0.9991333267311927, 0.9997009589771605, 0.18613233029446213, 0.8132871596075193, 0.9982000422269193, 0.9937696094095532, 0.1043794116578568, 0.8937487123203989, 0.9988216820740545, 0.9971693659927248, 0.9311390070298181, 0.06852538146972688, 0.9993767750453235, 0.9981508777357196, 0.9992624200555567, 0.2034933098213171, 0.1924438993332818, 0.6031136558052611, 0.9979692168723028, 0.9993018770515256, 0.9947493021124827, 0.9961486002987696, 0.9968552014280978, 0.9988338618259062, 0.995080390213381, 0.9959543413476643, 0.9776522186760938, 0.02202470580246519, 0.998602264743898, 0.9952727264693823, 0.6543679900489432, 0.06205213698739979, 0.1881473886195491, 0.09490326833367027, 0.9989461636166787, 0.48118096190900456, 0.058533641162454936, 0.4596612408933961, 0.9997854293572787, 0.9960851763348051, 0.9981357410135766, 0.005880398505786476, 0.9940570905286386, 0.9992403006324136, 0.9978687130263845, 0.9921048577814053, 0.9995637001214649, 0.9976249285473319, 0.9978835208133634, 0.9983324527623478, 0.9990976498505141, 0.992053067805747, 0.9980120132247012, 0.999056969226187, 0.9990659589128572, 0.0034156446089551916, 0.010246933826865576, 0.006831289217910383, 0.03757209069850711, 0.010246933826865576, 0.047819024525372684, 0.017078223044775957, 0.0034156446089551916, 0.006831289217910383, 0.017078223044775957, 0.006831289217910383, 0.013662578435820767, 0.0034156446089551916, 0.0034156446089551916, 0.0034156446089551916, 0.054650313743283066, 0.010246933826865576, 0.7411948801432766, 0.0034156446089551916, 0.997756352190112, 0.9945529670905904, 0.9978548202105135, 0.9983142640418953, 0.9994929846785274, 0.9955426563800208, 0.9965757390036857, 0.0025325940000093666, 0.9632215703734965, 0.03630232049146344, 0.9972096170186425, 0.9993748361832214, 0.867723799608789, 0.13160477627399966, 0.999222349446754, 0.9988922284577467, 0.9982445790900729, 0.9980618899289136, 0.9980833180141611, 0.9977552986501796, 0.9972675550631505, 0.9983027103364643, 0.9940353738666978, 0.994032656023475, 0.04168817726666044, 0.9578912641609055, 0.9978980409829941, 0.9967874236898072, 0.9986579121680589, 0.9984130575895184, 0.9921275773233652, 0.9983517405289926, 0.9985481865606914, 0.9980226648094311, 0.9971113823409002, 0.9980837519550232, 0.9966820827166978, 0.9997577109961382, 0.999693089776028, 0.9993497327875912, 0.9932025984604168, 0.9994085029328011, 0.9984761718896943, 0.9987653264407312, 0.9863889840131573, 0.9964038240780301, 0.9993462117940222, 0.9972361478228183, 0.99432028759373, 0.9985496636011215, 0.9997549722269219, 0.8641114465993135, 0.11256624208573432, 0.019864630956306056, 0.9937408688845065, 0.6476033285069867, 0.3513670726746193, 0.9991740178773398, 0.9958456480744087, 0.9973934910901087, 0.9932424088916041, 0.9995029006210209, 0.9986090830649801, 0.9996710829814555, 0.9983631179999035, 0.9975633120505462, 0.9987511391640658, 0.9988935877647793, 0.999634826681481, 0.9983964514198209, 0.9988651814434518, 0.9899941020899644, 0.9978533295537462, 0.9978218489811669, 0.9978608315460307, 0.9961437533148113, 0.9975891004886721, 0.9988657670776943, 0.9945646745342688, 0.12408806906728458, 0.8755877233062328, 0.9983746798541503, 0.9973890922445117, 0.9996955341626101, 0.9990128740294318, 0.6201782104099864, 0.3794339262002027, 0.9990123951330083, 0.008577152124738741, 0.9900484166841289, 0.9959349637696453, 0.9958847737543021, 0.03137960546863845, 0.9301236903011809, 0.038218750250264784, 0.9986605325438487, 0.5039317143106584, 0.49598590304766876, 0.9917461480061869, 0.9996921405457388, 0.9998385212473597, 0.9958027897247735, 0.9976993741250062, 0.9995955832873421, 0.999490090357788, 0.9963813030812172, 0.9994100720611235, 0.9992475737086863, 0.9998693596848099, 0.9992506709284025, 0.9972630414255347, 0.9966222188374161, 0.6217020822824175, 0.3119071601937837, 0.06547938125964307, 0.8366530963812218, 0.0001918929120140417, 0.16310897521193546, 0.9977380836312585, 0.9975735783614442, 0.9911489349309373, 0.9983355619132898, 0.9966629067223343, 0.9993849336760885, 0.9922606096713533, 0.9968533133454828, 0.9988644723883425, 0.9982194323527259, 0.9967850591197609, 0.9996903087844794, 0.36017009459408605, 0.6395576704202527, 0.9993587088245849, 0.9996397888080059, 0.9977517568462996, 0.007213927646215087, 0.007213927646215087, 0.9738802322390367, 0.4935438854158683, 0.505715127966198, 0.9990988861735816, 0.9993948348785319, 0.9966962046222226, 0.9991905431612956, 0.5069465197368187, 0.49100480527968604, 0.9964283810668443, 0.9990704020978279, 0.9979816800281162, 0.9971916878483598, 0.997601163823128, 0.9975067123482638, 0.9955365145425418, 0.9996883013560526, 0.9987196760565792, 0.9959428421292432, 0.9995806339026388, 0.9996737541473961, 0.9975040879625282, 0.9897877210702419, 0.9991329534452854, 0.998599376737341, 0.9995197532358393, 0.999210558868409, 0.9986838308661308, 0.998258048009154, 0.9983105260677685, 0.9986631104299001, 0.9997365539610151, 0.9961855831221097, 0.9979364683852586, 0.9926971133197986, 0.99766885629268, 0.9968264860694426, 0.9927968343150612, 0.9980344119404233, 0.9970689237721424, 0.9950767479038606, 0.9993550075391299, 0.9992014292520983, 0.9944526798876018, 0.9971717890434597, 0.9994755758612849, 0.9985544634279295, 0.9994087016419618, 0.9998073047573403, 0.9991625938149842, 0.9946767197325246, 0.9981818798287501, 0.9992406922306296, 0.9964825261947404, 0.9996819659980116, 0.996836506427972, 0.9998378762383558, 0.9971911802533595, 0.9507096080276541, 0.048845982367335616, 0.9462245956605027, 0.05334490057637207, 0.9631364449376393, 0.03559417296508667, 0.9963632148188796, 0.0033775024231148462, 0.9942208054143269, 0.9949815170944812, 0.9975665550812258, 0.997716483471481, 0.9983719430462501, 0.9840200135168876, 0.9948113038674122, 0.995560328533243, 0.9903077614214252, 0.9968041215900023, 0.9990316190830305, 0.9959679538017936, 0.9951022043133695, 0.9933516717578402, 0.9980864388797898, 0.9988640755269427, 0.999244685858314, 0.9994897125575919, 0.9939420249904133, 0.9978752331847361, 0.9810618339457147, 0.018584983077042816, 0.0033562999529465547, 0.0033562999529465547, 0.0033562999529465547, 0.013425199811786219, 0.0033562999529465547, 0.016781499764732775, 0.006712599905893109, 0.0033562999529465547, 0.0033562999529465547, 0.006712599905893109, 0.0033562999529465547, 0.006712599905893109, 0.0033562999529465547, 0.0033562999529465547, 0.02013779971767933, 0.006712599905893109, 0.8927757874837836, 0.0033562999529465547, 0.9991767992490558, 0.9978697318008634, 0.9985526252954173, 0.9994238154049775, 0.999515137700095, 0.9943541665218384, 0.9918795564385509, 0.9930850274774794, 0.9996839077722437, 0.9972363986465393, 0.9961547683196575, 0.31643065004868903, 0.6834477539341165, 0.9989458072360669, 0.9999083576392801, 0.9934156244603989, 0.0065692037687019485, 0.9997375705130707, 0.998415782569009, 0.9998906105100562, 0.9975958932421204, 0.9931199986227349, 0.9992410463767086, 0.8611895654721333, 0.13822988995825378, 0.998804083654275, 0.994442728977118, 0.005378786634620111, 0.9980161974788987, 0.9965794010340608, 0.8355546427272295, 0.16393522009337527, 0.9994628318466935, 0.9997607510346956, 0.6693761731756577, 0.33005972929707234, 0.9984691940590614, 0.9976433822975528, 0.999022673667366, 0.9947007258947859, 0.991824621053971, 0.9975763915060123, 0.9976973668283354, 0.9993548187295205, 0.9974380002576329, 0.9892081879819583, 0.010700780185653389, 0.9996225187392229, 0.05266701111674964, 0.9469933729646329, 0.9978618079666034, 0.9981197333694349, 0.9965361146223204, 0.41063341287525523, 0.5892115191105939, 0.9978201687505377, 0.9911651334170563, 0.5990721179270208, 0.40083277663778855, 0.9992499953794001, 0.9994247947054485], \"Term\": [\"ability\", \"able\", \"abortion\", \"accept\", \"accept\", \"access\", \"accord\", \"accord\", \"account\", \"action\", \"actively\", \"actually\", \"actually\", \"actually\", \"acute\", \"add\", \"additional\", \"additionally\", \"adequate\", \"administration\", \"adult\", \"adverse\", \"advocate\", \"affect\", \"affect\", \"affect\", \"age\", \"agency\", \"agree\", \"allergy\", \"allocation\", \"allow\", \"almost\", \"almost\", \"alone\", \"alone\", \"alpha\", \"already\", \"also\", \"also\", \"also\", \"also\", \"also\", \"also\", \"also\", \"alter\", \"always\", \"amda\", \"amda\", \"amda\", \"amda\", \"amda\", \"amda\", \"amda\", \"amda\", \"amda\", \"amda\", \"amda\", \"amda\", \"amda\", \"amda\", \"amda\", \"amda\", \"amda\", \"amda\", \"amda\", \"amp\", \"animal\", \"answer\", \"anti\", \"antibody\", \"anxiety\", \"appointment\", \"appreciate\", \"approve\", \"area\", \"around\", \"arrive\", \"article\", \"article\", \"ask\", \"associate\", \"asymptomatic\", \"attention\", \"author\", \"authorization\", \"autoimmune\", \"available\", \"avoid\", \"back\", \"back\", \"bad\", \"bar\", \"base\", \"be\", \"be\", \"be\", \"bear\", \"become\", \"bed\", \"begin\", \"begin\", \"behaviour\", \"believe\", \"bell_palsy\", \"bell_palsy\", \"bell_palsy\", \"bell_palsy\", \"bell_palsy\", \"bell_palsy\", \"benefit\", \"better\", \"bias\", \"big\", \"bill\", \"block\", \"blood\", \"body\", \"book\", \"boost\", \"booster\", \"break\", \"breakthrough\", \"burden\", \"burn\", \"burnout\", \"buy\", \"ca\", \"call\", \"call\", \"can\", \"cancer\", \"car\", \"care\", \"careful\", \"caretaker\", \"case\", \"case\", \"catch\", \"cause\", \"cautious\", \"celebrate\", \"cell\", \"cent\", \"centralize\", \"chance\", \"change\", \"change\", \"charge\", \"chart\", \"check\", \"child\", \"choice\", \"choose\", \"chuk\", \"chuk\", \"chuk\", \"chuk\", \"chuk\", \"chuk\", \"chuk\", \"chuk\", \"chuk\", \"chuk\", \"chuk\", \"chuk\", \"chuk\", \"chuk\", \"chuk\", \"chuk\", \"chuk\", \"chuk\", \"chuk\", \"circulate\", \"circumstance\", \"citizen\", \"claim\", \"claim\", \"clear\", \"clearly\", \"clinical\", \"close\", \"code\", \"cohort\", \"collectively\", \"com\", \"combat\", \"come\", \"comment\", \"communication\", \"community\", \"company\", \"compare\", \"compare\", \"concern\", \"condition\", \"consider\", \"consider\", \"contact\", \"containment\", \"continue\", \"contracting\", \"control\", \"conversation\", \"convince\", \"cost\", \"could\", \"could\", \"country\", \"county\", \"course\", \"course\", \"cover\", \"cover\", \"coverage\", \"covid\", \"covid\", \"coworker\", \"create\", \"criticize\", \"culture\", \"currently\", \"cut\", \"daily\", \"dangerous\", \"datum\", \"datum\", \"day\", \"day\", \"death\", \"decade\", \"decide\", \"decision\", \"decline\", \"decrease\", \"delta\", \"denmark\", \"depleting_supplies\", \"depleting_supplies\", \"depleting_supplies\", \"depleting_supplies\", \"depleting_supplies\", \"depleting_supplies\", \"depleting_supplies\", \"depleting_supplies\", \"depleting_supplies\", \"depleting_supplies\", \"depleting_supplies\", \"depleting_supplies\", \"depleting_supplies\", \"depleting_supplies\", \"depleting_supplies\", \"depleting_supplies\", \"depleting_supplies\", \"depleting_supplies\", \"depleting_supplies\", \"describe\", \"design\", \"destroy\", \"detectable\", \"develop\", \"develop\", \"develop\", \"develop\", \"development\", \"diagnose\", \"die\", \"die\", \"difference\", \"different\", \"different\", \"director\", \"discussion\", \"disease\", \"disease\", \"do\", \"doctor\", \"doctor\", \"domestically\", \"donor\", \"dose\", \"drain\", \"draw\", \"drive\", \"drop\", \"drug\", \"due\", \"due\", \"early\", \"economic\", \"effect\", \"effective\", \"efficacy\", \"elder\", \"eligible\", \"else\", \"emergency\", \"employee\", \"encourage\", \"end\", \"energy\", \"ensure_consistent\", \"ensure_consistent\", \"ensure_consistent\", \"ensure_consistent\", \"ensure_consistent\", \"ensure_consistent\", \"ensure_consistent\", \"ensure_consistent\", \"ensure_consistent\", \"ensure_consistent\", \"ensure_consistent\", \"ensure_consistent\", \"ensure_consistent\", \"ensure_consistent\", \"ensure_consistent\", \"ensure_consistent\", \"ensure_consistent\", \"ensure_consistent\", \"ensure_consistent\", \"enter\", \"entire\", \"epidemiologist\", \"establish\", \"estimate\", \"even\", \"even\", \"even\", \"even\", \"event\", \"evidence\", \"evolution\", \"example\", \"executive\", \"exemption\", \"exhibit\", \"expect\", \"experience\", \"expert\", \"explain\", \"exposure\", \"extra\", \"face\", \"factor\", \"factory\", \"family\", \"farm\", \"fast\", \"federal\", \"feel\", \"few\", \"fight\", \"fill\", \"find\", \"finding\", \"fire\", \"first\", \"first\", \"first\", \"first\", \"flu\", \"fmla\", \"fmla\", \"fmla\", \"fmla\", \"fmla\", \"fmla\", \"fmla\", \"fmla\", \"fmla\", \"fmla\", \"fmla\", \"fmla\", \"fmla\", \"fmla\", \"fmla\", \"fmla\", \"fmla\", \"fmla\", \"fmla\", \"fmla\", \"follow\", \"form\", \"former\", \"fourth\", \"friend\", \"front\", \"fuck\", \"full\", \"fully\", \"future\", \"general\", \"get\", \"get\", \"give\", \"give\", \"glad\", \"global\", \"globe\", \"go\", \"good\", \"government\", \"group\", \"grow\", \"gt\", \"guarantee\", \"half\", \"happen\", \"hard\", \"hard\", \"harm\", \"have\", \"head\", \"headache\", \"health\", \"healthy\", \"hear\", \"heart\", \"help\", \"help\", \"help\", \"hesitant\", \"high\", \"highly\", \"hire\", \"hold\", \"holiday\", \"home\", \"hope\", \"hospital\", \"hospitalization\", \"hospitalize\", \"hospitisation\", \"hospitisation\", \"hospitisation\", \"hospitisation\", \"hospitisation\", \"hospitisation\", \"hospitisation\", \"hospitisation\", \"hospitisation\", \"house\", \"household\", \"however\", \"however\", \"however\", \"html\", \"https\", \"human\", \"hurt\", \"icus\", \"identify\", \"illness\", \"image\", \"immune\", \"immune\", \"immunity\", \"immunize\", \"immunologist\", \"important\", \"include\", \"increase\", \"independent\", \"indicate\", \"individual\", \"infect\", \"infect\", \"infection\", \"infectious\", \"influenza\", \"initial\", \"injection\", \"inoculation\", \"instantly\", \"instead\", \"insurance\", \"intention\", \"interested\", \"interfere\", \"international\", \"isolate\", \"issue\", \"job\", \"keep\", \"key\", \"kid\", \"know\", \"lady\", \"last\", \"late\", \"law\", \"lead\", \"leader\", \"lean\", \"learn\", \"least\", \"least\", \"leave\", \"leave\", \"leg\", \"less\", \"let\", \"level\", \"license\", \"life\", \"likely\", \"limit\", \"limited\", \"list\", \"literally\", \"live\", \"local\", \"long\", \"longer\", \"look\", \"lot\", \"lot\", \"love\", \"low\", \"mab\", \"mab\", \"mab\", \"mab\", \"mab\", \"mab\", \"mab\", \"mab\", \"mab\", \"mab\", \"mab\", \"mab\", \"mab\", \"mab\", \"mab\", \"mab\", \"mab\", \"mab\", \"mab\", \"make\", \"make\", \"make\", \"manage\", \"mandate\", \"many\", \"many\", \"many\", \"many\", \"mask\", \"match\", \"math\", \"matter\", \"may\", \"may\", \"may\", \"may\", \"mean\", \"measure\", \"measure\", \"medical\", \"medical\", \"medicine\", \"medium\", \"member\", \"memory\", \"method\", \"middle\", \"mild\", \"million\", \"minded\", \"minor\", \"minute\", \"misery\", \"misinformation\", \"mix\", \"model\", \"mom\", \"moment\", \"moment\", \"money\", \"monitor\", \"monoclonal\", \"month\", \"mostly\", \"much\", \"much\", \"multiple\", \"mutation\", \"myocarditis\", \"name\", \"nasal\", \"nation\", \"natural\", \"nearly\", \"nearly_disappear\", \"nearly_disappear\", \"nearly_disappear\", \"nearly_disappear\", \"nearly_disappear\", \"nearly_disappear\", \"nearly_disappear\", \"nearly_disappear\", \"nearly_disappear\", \"necessarily\", \"need\", \"needle\", \"never\", \"new\", \"news\", \"news\", \"next\", \"night\", \"none\", \"none\", \"normal\", \"notice\", \"number\", \"number\", \"nurse\", \"nursing\", \"occur\", \"offer\", \"offer\", \"offer\", \"office\", \"old\", \"ongoing\", \"opening\", \"option\", \"order\", \"org\", \"original\", \"other\", \"other\", \"outbreak\", \"page\", \"pandemic\", \"pandemic\", \"pandemic\", \"pandemic\", \"parent\", \"part\", \"part\", \"part\", \"patient\", \"pattern\", \"pay\", \"people\", \"people\", \"percent\", \"period\", \"permanent\", \"person\", \"pet\", \"pfizer\", \"pharmacy\", \"phase\", \"physically\", \"physician\", \"pill\", \"place\", \"placing_direct\", \"placing_direct\", \"placing_direct\", \"placing_direct\", \"placing_direct\", \"placing_direct\", \"placing_direct\", \"placing_direct\", \"placing_direct\", \"placing_direct\", \"placing_direct\", \"placing_direct\", \"placing_direct\", \"placing_direct\", \"placing_direct\", \"placing_direct\", \"placing_direct\", \"placing_direct\", \"placing_direct\", \"plan\", \"planning\", \"platform\", \"plenty\", \"point\", \"police\", \"policy\", \"policy\", \"population\", \"population\", \"position\", \"positive\", \"possible\", \"possible\", \"post\", \"potential\", \"pre\", \"predict\", \"pregnancy\", \"pregnant\", \"presence\", \"present\", \"preserve\", \"pressure\", \"prevent\", \"prevent\", \"prevention\", \"preventive\", \"previously\", \"prior\", \"priority\", \"probably\", \"problematic\", \"process\", \"produce\", \"promote\", \"proof\", \"protect\", \"protection\", \"provide\", \"psychology\", \"public\", \"publish\", \"put\", \"qualify\", \"quarantine\", \"question\", \"quick\", \"quit\", \"range\", \"rate\", \"rather\", \"rather\", \"rather\", \"rd\", \"reach\", \"reach\", \"reaction\", \"reactivity\", \"real\", \"reality\", \"really\", \"reason\", \"receive\", \"recipient\", \"recommend\", \"record\", \"recover\", \"reduce\", \"refuse\", \"regard\", \"regulate\", \"reinfection\", \"relate\", \"related\", \"relationship\", \"relative\", \"remain\", \"remarkable\", \"report\", \"report\", \"represent\", \"request\", \"require\", \"requirement\", \"research\", \"research\", \"researcher\", \"resident\", \"resident\", \"resource\", \"respond\", \"response\", \"response\", \"response\", \"rest\", \"result\", \"result\", \"reward\", \"right\", \"risk\", \"risky\", \"room\", \"s\", \"safe\", \"safely\", \"safety\", \"save\", \"say\", \"school\", \"scientific\", \"season\", \"second\", \"second\", \"second\", \"see\", \"see\", \"see\", \"seek\", \"select\", \"sentiment\", \"serious\", \"serve\", \"severe\", \"sex\", \"shed\", \"shoot\", \"short\", \"shortage\", \"shot\", \"show\", \"show\", \"sick\", \"side\", \"sign\", \"signing\", \"signing\", \"signing\", \"similar\", \"similar\", \"single\", \"site\", \"slightly\", \"social\", \"society\", \"society\", \"sometimes\", \"soon\", \"sound\", \"spare\", \"specie\", \"specific\", \"spike\", \"spread\", \"staff\", \"standard\", \"start\", \"state\", \"statement\", \"statewide\", \"stay\", \"step\", \"still\", \"stop\", \"story\", \"strain\", \"strong\", \"student\", \"study\", \"stuff\", \"sub\", \"subject\", \"submission\", \"submit\", \"suck\", \"suggest\", \"summer\", \"super\", \"supply\", \"support\", \"survive\", \"swab\", \"symptom\", \"symptomatic\", \"system\", \"take\", \"talk\", \"teach\", \"team\", \"tell\", \"tend\", \"term\", \"terrible\", \"test\", \"therapy\", \"thing\", \"thing\", \"think\", \"think\", \"third\", \"third\", \"time\", \"time\", \"tired\", \"tissue\", \"together\", \"top\", \"topic\", \"tourist\", \"toxic\", \"tracking\", \"transient\", \"transmissible\", \"transmission\", \"transmit\", \"transplant\", \"trauma\", \"travel\", \"treat\", \"treatment\", \"trial\", \"trigger\", \"trust\", \"try\", \"try\", \"uncontrolle\", \"uncontrolle\", \"uncontrolle\", \"uncontrolle\", \"uncontrolle\", \"uncontrolle\", \"uncontrolle\", \"uncontrolle\", \"uncontrolle\", \"uncontrolle\", \"uncontrolle\", \"uncontrolle\", \"uncontrolle\", \"uncontrolle\", \"uncontrolle\", \"uncontrolle\", \"uncontrolle\", \"uncontrolle\", \"understand\", \"unfortunately\", \"unlikely\", \"unvaccinate\", \"unvaccinated\", \"upper\", \"upstairs\", \"urgent\", \"use\", \"used\", \"usually\", \"vaccinate\", \"vaccinate\", \"vaccinated\", \"vaccination\", \"vaccine\", \"vaccine\", \"variant\", \"viral\", \"virus\", \"visit\", \"vote\", \"vulnerable\", \"wait\", \"wait\", \"wane\", \"want\", \"want\", \"watch\", \"wave\", \"way\", \"way\", \"wear\", \"week\", \"well\", \"well\", \"whole\", \"widely\", \"will\", \"willing\", \"win\", \"winter\", \"wish\", \"woman\", \"wonder\", \"work\", \"work\", \"worker\", \"world\", \"world\", \"worried\", \"worry\", \"worthy\", \"would\", \"would\", \"write\", \"writer\", \"year\", \"year\", \"yet\", \"young\"]}, \"R\": 30, \"lambda.step\": 0.01, \"plot.opts\": {\"xlab\": \"PC1\", \"ylab\": \"PC2\"}, \"topic.order\": [3, 14, 12, 9, 2, 19, 7, 18, 1, 16, 6, 11, 4, 20, 10, 5, 17, 13, 15, 8]};\n",
       "\n",
       "function LDAvis_load_lib(url, callback){\n",
       "  var s = document.createElement('script');\n",
       "  s.src = url;\n",
       "  s.async = true;\n",
       "  s.onreadystatechange = s.onload = callback;\n",
       "  s.onerror = function(){console.warn(\"failed to load library \" + url);};\n",
       "  document.getElementsByTagName(\"head\")[0].appendChild(s);\n",
       "}\n",
       "\n",
       "if(typeof(LDAvis) !== \"undefined\"){\n",
       "   // already loaded: just create the visualization\n",
       "   !function(LDAvis){\n",
       "       new LDAvis(\"#\" + \"ldavis_el410140404803541584477855941\", ldavis_el410140404803541584477855941_data);\n",
       "   }(LDAvis);\n",
       "}else if(typeof define === \"function\" && define.amd){\n",
       "   // require.js is available: use it to load d3/LDAvis\n",
       "   require.config({paths: {d3: \"https://d3js.org/d3.v5\"}});\n",
       "   require([\"d3\"], function(d3){\n",
       "      window.d3 = d3;\n",
       "      LDAvis_load_lib(\"https://cdn.jsdelivr.net/gh/bmabey/pyLDAvis/pyLDAvis/js/ldavis.v3.0.0.js\", function(){\n",
       "        new LDAvis(\"#\" + \"ldavis_el410140404803541584477855941\", ldavis_el410140404803541584477855941_data);\n",
       "      });\n",
       "    });\n",
       "}else{\n",
       "    // require.js not available: dynamically load d3 & LDAvis\n",
       "    LDAvis_load_lib(\"https://d3js.org/d3.v5.js\", function(){\n",
       "         LDAvis_load_lib(\"https://cdn.jsdelivr.net/gh/bmabey/pyLDAvis/pyLDAvis/js/ldavis.v3.0.0.js\", function(){\n",
       "                 new LDAvis(\"#\" + \"ldavis_el410140404803541584477855941\", ldavis_el410140404803541584477855941_data);\n",
       "            })\n",
       "         });\n",
       "}\n",
       "</script>"
      ],
      "text/plain": [
       "PreparedData(topic_coordinates=              x         y  topics  cluster       Freq\n",
       "topic                                                \n",
       "2      0.234250 -0.221414       1        1  14.552495\n",
       "13     0.209350  0.114025       2        1   9.656070\n",
       "11     0.066851  0.173282       3        1   8.145541\n",
       "8      0.013105  0.145954       4        1   7.991705\n",
       "1      0.121613  0.117187       5        1   7.918980\n",
       "18     0.096411  0.137706       6        1   7.873653\n",
       "6      0.087953 -0.040106       7        1   5.567621\n",
       "17     0.152578 -0.130413       8        1   5.523079\n",
       "0     -0.041031  0.117191       9        1   5.086507\n",
       "15     0.082305 -0.180410      10        1   4.291101\n",
       "5     -0.061759  0.102698      11        1   4.287756\n",
       "10    -0.090011  0.085875      12        1   2.835974\n",
       "3     -0.090799 -0.054388      13        1   2.641874\n",
       "19    -0.039700 -0.084269      14        1   2.607306\n",
       "9     -0.101402  0.016849      15        1   2.191162\n",
       "4     -0.147915 -0.076768      16        1   2.035769\n",
       "16    -0.080136 -0.079819      17        1   1.986474\n",
       "12    -0.138587 -0.040937      18        1   1.841883\n",
       "14    -0.133327 -0.025391      19        1   1.785652\n",
       "7     -0.139747 -0.076853      20        1   1.179398, topic_info=              Term          Freq         Total Category  logprob  loglift\n",
       "66         vaccine  36838.000000  36838.000000  Default  30.0000  30.0000\n",
       "124          covid  24579.000000  24579.000000  Default  29.0000  29.0000\n",
       "47          people  18536.000000  18536.000000  Default  28.0000  28.0000\n",
       "478    vaccination  13556.000000  13556.000000  Default  27.0000  27.0000\n",
       "268            say  12573.000000  12573.000000  Default  26.0000  26.0000\n",
       "...            ...           ...           ...      ...      ...      ...\n",
       "1447      regulate    102.914232    104.041024  Topic20  -5.0452   4.4293\n",
       "2032       tourist    124.264925    126.013697  Topic20  -4.8567   4.4262\n",
       "2467       signing    134.570682    138.620742  Topic20  -4.7770   4.4105\n",
       "14009         fmla    166.728001    251.944179  Topic20  -4.5627   4.0273\n",
       "46        pandemic    285.844017   3013.594843  Topic20  -4.0237   2.0847\n",
       "\n",
       "[764 rows x 6 columns], token_table=      Topic      Freq      Term\n",
       "term                           \n",
       "1427     10  0.997944   ability\n",
       "70       10  0.999430      able\n",
       "5915     16  0.996287  abortion\n",
       "1216      2  0.587373    accept\n",
       "1216     13  0.410642    accept\n",
       "...     ...       ...       ...\n",
       "3604     20  0.991165    writer\n",
       "140       2  0.599072      year\n",
       "140       8  0.400833      year\n",
       "69        1  0.999250       yet\n",
       "370       2  0.999425     young\n",
       "\n",
       "[983 rows x 3 columns], R=30, lambda_step=0.01, plot_opts={'xlab': 'PC1', 'ylab': 'PC2'}, topic_order=[3, 14, 12, 9, 2, 19, 7, 18, 1, 16, 6, 11, 4, 20, 10, 5, 17, 13, 15, 8])"
      ]
     },
     "execution_count": 17,
     "metadata": {},
     "output_type": "execute_result"
    }
   ],
   "source": [
    "# Visualize the topics\n",
    "import pyLDAvis.gensim\n",
    "pyLDAvis.enable_notebook()\n",
    "vis = pyLDAvis.gensim.prepare(lda_model, corpus, dictionary=lda_model.id2word)\n",
    "vis\n"
   ]
  },
  {
   "cell_type": "code",
   "execution_count": null,
   "metadata": {
    "colab": {
     "base_uri": "https://localhost:8080/"
    },
    "executionInfo": {
     "elapsed": 175,
     "status": "ok",
     "timestamp": 1637871858068,
     "user": {
      "displayName": "gurneet singh",
      "photoUrl": "https://lh3.googleusercontent.com/a-/AOh14Ggcya01yjyrc6tr-pEuKhQEbhpHFxL2PI6oSJ5u=s64",
      "userId": "09363295176528521202"
     },
     "user_tz": 300
    },
    "id": "oE81KS72vACN",
    "outputId": "f9af3a76-c132-4457-e24f-1c9ba3f1a88d"
   },
   "outputs": [
    {
     "name": "stdout",
     "output_type": "stream",
     "text": [
      "[(0,\n",
      "  '0.120*\"virus\" + 0.085*\"infection\" + 0.076*\"variant\" + 0.071*\"antibody\" + '\n",
      "  '0.047*\"immune\" + 0.045*\"immunity\" + 0.034*\"response\" + 0.026*\"reduce\" + '\n",
      "  '0.026*\"infect\" + 0.017*\"result\"'),\n",
      " (1,\n",
      "  '0.341*\"vaccine\" + 0.221*\"covid\" + 0.061*\"health\" + 0.046*\"new\" + '\n",
      "  '0.043*\"dose\" + 0.023*\"life\" + 0.022*\"term\" + 0.019*\"first\" + 0.013*\"chance\" '\n",
      "  '+ 0.013*\"research\"'),\n",
      " (2,\n",
      "  '0.084*\"get\" + 0.031*\"go\" + 0.029*\"work\" + 0.027*\"time\" + 0.026*\"know\" + '\n",
      "  '0.024*\"take\" + 0.023*\"be\" + 0.022*\"see\" + 0.021*\"make\" + 0.021*\"could\"'),\n",
      " (3,\n",
      "  '0.063*\"s\" + 0.056*\"help\" + 0.040*\"law\" + 0.030*\"always\" + 0.025*\"instead\" + '\n",
      "  '0.022*\"refuse\" + 0.020*\"physician\" + 0.019*\"catch\" + 0.017*\"money\" + '\n",
      "  '0.017*\"pregnant\"'),\n",
      " (4,\n",
      "  '0.082*\"government\" + 0.049*\"federal\" + 0.026*\"event\" + 0.025*\"cost\" + '\n",
      "  '0.024*\"account\" + 0.022*\"regard\" + 0.021*\"pandemic\" + 0.020*\"spare\" + '\n",
      "  '0.017*\"submit\" + 0.015*\"combat\"'),\n",
      " (5,\n",
      "  '0.097*\"need\" + 0.088*\"death\" + 0.062*\"datum\" + 0.048*\"receive\" + '\n",
      "  '0.048*\"point\" + 0.042*\"gt\" + 0.041*\"use\" + 0.031*\"show\" + 0.026*\"medicine\" '\n",
      "  '+ 0.026*\"effective\"'),\n",
      " (6,\n",
      "  '0.081*\"case\" + 0.057*\"long\" + 0.052*\"protect\" + 0.047*\"shot\" + '\n",
      "  '0.028*\"protection\" + 0.028*\"severe\" + 0.026*\"illness\" + 0.025*\"age\" + '\n",
      "  '0.022*\"due\" + 0.020*\"amp\"'),\n",
      " (7,\n",
      "  '0.083*\"hold\" + 0.041*\"pregnancy\" + 0.031*\"dangerous\" + 0.028*\"autoimmune\" + '\n",
      "  '0.025*\"relationship\" + 0.023*\"terrible\" + 0.021*\"pet\" + 0.018*\"pandemic\" + '\n",
      "  '0.014*\"swab\" + 0.014*\"license\"'),\n",
      " (8,\n",
      "  '0.068*\"patient\" + 0.044*\"care\" + 0.041*\"state\" + 0.040*\"mask\" + '\n",
      "  '0.030*\"hospital\" + 0.020*\"mandate\" + 0.019*\"cause\" + 0.019*\"available\" + '\n",
      "  '0.019*\"treatment\" + 0.019*\"school\"'),\n",
      " (9,\n",
      "  '0.042*\"staff\" + 0.042*\"employee\" + 0.031*\"third\" + 0.028*\"face\" + '\n",
      "  '0.023*\"room\" + 0.022*\"administration\" + 0.020*\"avoid\" + 0.020*\"range\" + '\n",
      "  '0.019*\"advocate\" + 0.019*\"glad\"'),\n",
      " (10,\n",
      "  '0.144*\"test\" + 0.052*\"live\" + 0.046*\"positive\" + 0.039*\"end\" + '\n",
      "  '0.031*\"result\" + 0.030*\"remain\" + 0.029*\"fight\" + 0.027*\"community\" + '\n",
      "  '0.024*\"multiple\" + 0.023*\"phase\"'),\n",
      " (11,\n",
      "  '0.167*\"people\" + 0.114*\"say\" + 0.037*\"also\" + 0.031*\"require\" + '\n",
      "  '0.030*\"unvaccinated\" + 0.022*\"public\" + 0.022*\"thing\" + 0.019*\"tell\" + '\n",
      "  '0.016*\"mutation\" + 0.016*\"worker\"'),\n",
      " (12,\n",
      "  '0.119*\"country\" + 0.053*\"place\" + 0.040*\"global\" + 0.033*\"control\" + '\n",
      "  '0.025*\"farm\" + 0.024*\"allocation\" + 0.023*\"factor\" + 0.019*\"scientific\" + '\n",
      "  '0.016*\"evolution\" + 0.014*\"international\"'),\n",
      " (13,\n",
      "  '0.104*\"vaccination\" + 0.059*\"vaccinate\" + 0.057*\"risk\" + 0.045*\"rate\" + '\n",
      "  '0.045*\"high\" + 0.036*\"year\" + 0.030*\"likely\" + 0.028*\"less\" + 0.026*\"child\" '\n",
      "  '+ 0.024*\"die\"'),\n",
      " (14,\n",
      "  '0.106*\"family\" + 0.070*\"nurse\" + 0.030*\"pre\" + 0.028*\"present\" + '\n",
      "  '0.028*\"pharmacy\" + 0.026*\"hurt\" + 0.022*\"explain\" + 0.020*\"form\" + '\n",
      "  '0.019*\"season\" + 0.015*\"adequate\"'),\n",
      " (15,\n",
      "  '0.074*\"would\" + 0.051*\"feel\" + 0.039*\"really\" + 0.037*\"already\" + '\n",
      "  '0.032*\"make\" + 0.025*\"adult\" + 0.025*\"vulnerable\" + 0.020*\"able\" + '\n",
      "  '0.019*\"even\" + 0.017*\"course\"'),\n",
      " (16,\n",
      "  '0.156*\"effect\" + 0.083*\"side\" + 0.045*\"reaction\" + 0.037*\"medium\" + '\n",
      "  '0.035*\"plenty\" + 0.034*\"benefit\" + 0.018*\"elder\" + 0.014*\"myocarditis\" + '\n",
      "  '0.014*\"moment\" + 0.014*\"bell_palsy\"'),\n",
      " (17,\n",
      "  '0.052*\"week\" + 0.048*\"day\" + 0.042*\"year\" + 0.039*\"spread\" + '\n",
      "  '0.039*\"medical\" + 0.039*\"last\" + 0.034*\"report\" + 0.031*\"bad\" + '\n",
      "  '0.030*\"start\" + 0.025*\"support\"'),\n",
      " (18,\n",
      "  '0.044*\"study\" + 0.033*\"find\" + 0.030*\"com\" + 0.027*\"trial\" + 0.023*\"accord\" '\n",
      "  '+ 0.022*\"breakthrough\" + 0.020*\"change\" + 0.020*\"ask\" + 0.019*\"condition\" + '\n",
      "  '0.018*\"least\"'),\n",
      " (19,\n",
      "  '0.058*\"symptom\" + 0.053*\"booster\" + 0.039*\"lead\" + 0.037*\"happen\" + '\n",
      "  '0.033*\"could\" + 0.026*\"big\" + 0.020*\"mild\" + 0.019*\"parent\" + '\n",
      "  '0.017*\"possible\" + 0.017*\"literally\"')]\n"
     ]
    }
   ],
   "source": [
    "#View the topics from lda model\n",
    "\n",
    "from pprint import pprint\n",
    "# Print the Keyword in the 10 topics\n",
    "pprint(lda_model.print_topics())\n",
    "doc_lda = lda_model[corpus]"
   ]
  },
  {
   "cell_type": "code",
   "execution_count": null,
   "metadata": {
    "colab": {
     "base_uri": "https://localhost:8080/"
    },
    "executionInfo": {
     "elapsed": 36114,
     "status": "ok",
     "timestamp": 1637871925499,
     "user": {
      "displayName": "gurneet singh",
      "photoUrl": "https://lh3.googleusercontent.com/a-/AOh14Ggcya01yjyrc6tr-pEuKhQEbhpHFxL2PI6oSJ5u=s64",
      "userId": "09363295176528521202"
     },
     "user_tz": 300
    },
    "id": "irkVfYR7xTAE",
    "outputId": "45f3b98a-e0b7-4c92-8995-3519973c3e90"
   },
   "outputs": [
    {
     "name": "stdout",
     "output_type": "stream",
     "text": [
      "\n",
      "Coherence Score:  0.35271991719179585\n"
     ]
    }
   ],
   "source": [
    "#Compute Model Perplexity and Coherence Score\n",
    "\n",
    "from gensim.models import CoherenceModel\n",
    "# Compute Coherence Score\n",
    "coherence_model_lda = CoherenceModel(model=lda_model, texts=data_lemmatized, dictionary=id2word, coherence='c_v')\n",
    "coherence_lda = coherence_model_lda.get_coherence()\n",
    "print('\\nCoherence Score: ', coherence_lda)"
   ]
  },
  {
   "cell_type": "code",
   "execution_count": null,
   "metadata": {
    "id": "8E3v7c4-xaqP"
   },
   "outputs": [],
   "source": [
    "# supporting function\n",
    "def compute_coherence_values(corpus, dictionary, k, a, b):\n",
    "    \n",
    "    lda_model = gensim.models.LdaMulticore(corpus=corpus,\n",
    "                                           id2word=dictionary,\n",
    "                                           num_topics=k, \n",
    "                                           random_state=100,\n",
    "                                           chunksize=100,\n",
    "                                           passes=10,\n",
    "                                           alpha=a,\n",
    "                                           eta=b)\n",
    "    \n",
    "    coherence_model_lda = CoherenceModel(model=lda_model, texts=data_lemmatized, dictionary=id2word, coherence='c_v')\n",
    "    \n",
    "    return coherence_model_lda.get_coherence()"
   ]
  },
  {
   "cell_type": "code",
   "execution_count": null,
   "metadata": {
    "colab": {
     "base_uri": "https://localhost:8080/",
     "height": 432
    },
    "executionInfo": {
     "elapsed": 4700521,
     "status": "error",
     "timestamp": 1637877800014,
     "user": {
      "displayName": "gurneet singh",
      "photoUrl": "https://lh3.googleusercontent.com/a-/AOh14Ggcya01yjyrc6tr-pEuKhQEbhpHFxL2PI6oSJ5u=s64",
      "userId": "09363295176528521202"
     },
     "user_tz": 300
    },
    "id": "5t9Kn3z9yE_U",
    "outputId": "1a46c238-f699-4442-828c-5723d0df160b"
   },
   "outputs": [
    {
     "name": "stderr",
     "output_type": "stream",
     "text": [
      "\r",
      "  0%|          | 0/540 [00:00<?, ?it/s]/usr/local/lib/python3.7/dist-packages/gensim/models/ldamodel.py:1023: RuntimeWarning: divide by zero encountered in log\n",
      "  diff = np.log(self.expElogbeta)\n",
      "  5%|▍         | 26/540 [1:15:15<25:08:08, 176.05s/it]"
     ]
    },
    {
     "ename": "KeyboardInterrupt",
     "evalue": "ignored",
     "output_type": "error",
     "traceback": [
      "\u001b[0;31m---------------------------------------------------------------------------\u001b[0m",
      "\u001b[0;31mKeyboardInterrupt\u001b[0m                         Traceback (most recent call last)",
      "\u001b[0;32m<ipython-input-39-216f4188a8d3>\u001b[0m in \u001b[0;36m<module>\u001b[0;34m()\u001b[0m\n\u001b[1;32m     42\u001b[0m                     \u001b[0;31m# get the coherence score for the given parameters\u001b[0m\u001b[0;34m\u001b[0m\u001b[0;34m\u001b[0m\u001b[0;34m\u001b[0m\u001b[0m\n\u001b[1;32m     43\u001b[0m                     cv = compute_coherence_values(corpus=corpus_sets[i], dictionary=id2word, \n\u001b[0;32m---> 44\u001b[0;31m                                                   k=k, a=a, b=b)\n\u001b[0m\u001b[1;32m     45\u001b[0m                     \u001b[0;31m# Save the model results\u001b[0m\u001b[0;34m\u001b[0m\u001b[0;34m\u001b[0m\u001b[0;34m\u001b[0m\u001b[0m\n\u001b[1;32m     46\u001b[0m                     \u001b[0mmodel_results\u001b[0m\u001b[0;34m[\u001b[0m\u001b[0;34m'Validation_Set'\u001b[0m\u001b[0;34m]\u001b[0m\u001b[0;34m.\u001b[0m\u001b[0mappend\u001b[0m\u001b[0;34m(\u001b[0m\u001b[0mcorpus_title\u001b[0m\u001b[0;34m[\u001b[0m\u001b[0mi\u001b[0m\u001b[0;34m]\u001b[0m\u001b[0;34m)\u001b[0m\u001b[0;34m\u001b[0m\u001b[0;34m\u001b[0m\u001b[0m\n",
      "\u001b[0;32m<ipython-input-20-ad0dd2c2e33b>\u001b[0m in \u001b[0;36mcompute_coherence_values\u001b[0;34m(corpus, dictionary, k, a, b)\u001b[0m\n\u001b[1;32m     13\u001b[0m     \u001b[0mcoherence_model_lda\u001b[0m \u001b[0;34m=\u001b[0m \u001b[0mCoherenceModel\u001b[0m\u001b[0;34m(\u001b[0m\u001b[0mmodel\u001b[0m\u001b[0;34m=\u001b[0m\u001b[0mlda_model\u001b[0m\u001b[0;34m,\u001b[0m \u001b[0mtexts\u001b[0m\u001b[0;34m=\u001b[0m\u001b[0mdata_lemmatized\u001b[0m\u001b[0;34m,\u001b[0m \u001b[0mdictionary\u001b[0m\u001b[0;34m=\u001b[0m\u001b[0mid2word\u001b[0m\u001b[0;34m,\u001b[0m \u001b[0mcoherence\u001b[0m\u001b[0;34m=\u001b[0m\u001b[0;34m'c_v'\u001b[0m\u001b[0;34m)\u001b[0m\u001b[0;34m\u001b[0m\u001b[0;34m\u001b[0m\u001b[0m\n\u001b[1;32m     14\u001b[0m \u001b[0;34m\u001b[0m\u001b[0m\n\u001b[0;32m---> 15\u001b[0;31m     \u001b[0;32mreturn\u001b[0m \u001b[0mcoherence_model_lda\u001b[0m\u001b[0;34m.\u001b[0m\u001b[0mget_coherence\u001b[0m\u001b[0;34m(\u001b[0m\u001b[0;34m)\u001b[0m\u001b[0;34m\u001b[0m\u001b[0;34m\u001b[0m\u001b[0m\n\u001b[0m",
      "\u001b[0;32m/usr/local/lib/python3.7/dist-packages/gensim/models/coherencemodel.py\u001b[0m in \u001b[0;36mget_coherence\u001b[0;34m(self)\u001b[0m\n\u001b[1;32m    601\u001b[0m \u001b[0;34m\u001b[0m\u001b[0m\n\u001b[1;32m    602\u001b[0m         \"\"\"\n\u001b[0;32m--> 603\u001b[0;31m         \u001b[0mconfirmed_measures\u001b[0m \u001b[0;34m=\u001b[0m \u001b[0mself\u001b[0m\u001b[0;34m.\u001b[0m\u001b[0mget_coherence_per_topic\u001b[0m\u001b[0;34m(\u001b[0m\u001b[0;34m)\u001b[0m\u001b[0;34m\u001b[0m\u001b[0;34m\u001b[0m\u001b[0m\n\u001b[0m\u001b[1;32m    604\u001b[0m         \u001b[0;32mreturn\u001b[0m \u001b[0mself\u001b[0m\u001b[0;34m.\u001b[0m\u001b[0maggregate_measures\u001b[0m\u001b[0;34m(\u001b[0m\u001b[0mconfirmed_measures\u001b[0m\u001b[0;34m)\u001b[0m\u001b[0;34m\u001b[0m\u001b[0;34m\u001b[0m\u001b[0m\n\u001b[1;32m    605\u001b[0m \u001b[0;34m\u001b[0m\u001b[0m\n",
      "\u001b[0;32m/usr/local/lib/python3.7/dist-packages/gensim/models/coherencemodel.py\u001b[0m in \u001b[0;36mget_coherence_per_topic\u001b[0;34m(self, segmented_topics, with_std, with_support)\u001b[0m\n\u001b[1;32m    561\u001b[0m             \u001b[0msegmented_topics\u001b[0m \u001b[0;34m=\u001b[0m \u001b[0mmeasure\u001b[0m\u001b[0;34m.\u001b[0m\u001b[0mseg\u001b[0m\u001b[0;34m(\u001b[0m\u001b[0mself\u001b[0m\u001b[0;34m.\u001b[0m\u001b[0mtopics\u001b[0m\u001b[0;34m)\u001b[0m\u001b[0;34m\u001b[0m\u001b[0;34m\u001b[0m\u001b[0m\n\u001b[1;32m    562\u001b[0m         \u001b[0;32mif\u001b[0m \u001b[0mself\u001b[0m\u001b[0;34m.\u001b[0m\u001b[0m_accumulator\u001b[0m \u001b[0;32mis\u001b[0m \u001b[0;32mNone\u001b[0m\u001b[0;34m:\u001b[0m\u001b[0;34m\u001b[0m\u001b[0;34m\u001b[0m\u001b[0m\n\u001b[0;32m--> 563\u001b[0;31m             \u001b[0mself\u001b[0m\u001b[0;34m.\u001b[0m\u001b[0mestimate_probabilities\u001b[0m\u001b[0;34m(\u001b[0m\u001b[0msegmented_topics\u001b[0m\u001b[0;34m)\u001b[0m\u001b[0;34m\u001b[0m\u001b[0;34m\u001b[0m\u001b[0m\n\u001b[0m\u001b[1;32m    564\u001b[0m \u001b[0;34m\u001b[0m\u001b[0m\n\u001b[1;32m    565\u001b[0m         \u001b[0mkwargs\u001b[0m \u001b[0;34m=\u001b[0m \u001b[0mdict\u001b[0m\u001b[0;34m(\u001b[0m\u001b[0mwith_std\u001b[0m\u001b[0;34m=\u001b[0m\u001b[0mwith_std\u001b[0m\u001b[0;34m,\u001b[0m \u001b[0mwith_support\u001b[0m\u001b[0;34m=\u001b[0m\u001b[0mwith_support\u001b[0m\u001b[0;34m)\u001b[0m\u001b[0;34m\u001b[0m\u001b[0;34m\u001b[0m\u001b[0m\n",
      "\u001b[0;32m/usr/local/lib/python3.7/dist-packages/gensim/models/coherencemodel.py\u001b[0m in \u001b[0;36mestimate_probabilities\u001b[0;34m(self, segmented_topics)\u001b[0m\n\u001b[1;32m    533\u001b[0m                 \u001b[0mkwargs\u001b[0m\u001b[0;34m[\u001b[0m\u001b[0;34m'model'\u001b[0m\u001b[0;34m]\u001b[0m \u001b[0;34m=\u001b[0m \u001b[0mself\u001b[0m\u001b[0;34m.\u001b[0m\u001b[0mkeyed_vectors\u001b[0m\u001b[0;34m\u001b[0m\u001b[0;34m\u001b[0m\u001b[0m\n\u001b[1;32m    534\u001b[0m \u001b[0;34m\u001b[0m\u001b[0m\n\u001b[0;32m--> 535\u001b[0;31m             \u001b[0mself\u001b[0m\u001b[0;34m.\u001b[0m\u001b[0m_accumulator\u001b[0m \u001b[0;34m=\u001b[0m \u001b[0mself\u001b[0m\u001b[0;34m.\u001b[0m\u001b[0mmeasure\u001b[0m\u001b[0;34m.\u001b[0m\u001b[0mprob\u001b[0m\u001b[0;34m(\u001b[0m\u001b[0;34m**\u001b[0m\u001b[0mkwargs\u001b[0m\u001b[0;34m)\u001b[0m\u001b[0;34m\u001b[0m\u001b[0;34m\u001b[0m\u001b[0m\n\u001b[0m\u001b[1;32m    536\u001b[0m \u001b[0;34m\u001b[0m\u001b[0m\n\u001b[1;32m    537\u001b[0m         \u001b[0;32mreturn\u001b[0m \u001b[0mself\u001b[0m\u001b[0;34m.\u001b[0m\u001b[0m_accumulator\u001b[0m\u001b[0;34m\u001b[0m\u001b[0;34m\u001b[0m\u001b[0m\n",
      "\u001b[0;32m/usr/local/lib/python3.7/dist-packages/gensim/topic_coherence/probability_estimation.py\u001b[0m in \u001b[0;36mp_boolean_sliding_window\u001b[0;34m(texts, segmented_topics, dictionary, window_size, processes)\u001b[0m\n\u001b[1;32m    138\u001b[0m         \u001b[0maccumulator\u001b[0m \u001b[0;34m=\u001b[0m \u001b[0mParallelWordOccurrenceAccumulator\u001b[0m\u001b[0;34m(\u001b[0m\u001b[0mprocesses\u001b[0m\u001b[0;34m,\u001b[0m \u001b[0mtop_ids\u001b[0m\u001b[0;34m,\u001b[0m \u001b[0mdictionary\u001b[0m\u001b[0;34m)\u001b[0m\u001b[0;34m\u001b[0m\u001b[0;34m\u001b[0m\u001b[0m\n\u001b[1;32m    139\u001b[0m     \u001b[0mlogger\u001b[0m\u001b[0;34m.\u001b[0m\u001b[0minfo\u001b[0m\u001b[0;34m(\u001b[0m\u001b[0;34m\"using %s to estimate probabilities from sliding windows\"\u001b[0m\u001b[0;34m,\u001b[0m \u001b[0maccumulator\u001b[0m\u001b[0;34m)\u001b[0m\u001b[0;34m\u001b[0m\u001b[0;34m\u001b[0m\u001b[0m\n\u001b[0;32m--> 140\u001b[0;31m     \u001b[0;32mreturn\u001b[0m \u001b[0maccumulator\u001b[0m\u001b[0;34m.\u001b[0m\u001b[0maccumulate\u001b[0m\u001b[0;34m(\u001b[0m\u001b[0mtexts\u001b[0m\u001b[0;34m,\u001b[0m \u001b[0mwindow_size\u001b[0m\u001b[0;34m)\u001b[0m\u001b[0;34m\u001b[0m\u001b[0;34m\u001b[0m\u001b[0m\n\u001b[0m\u001b[1;32m    141\u001b[0m \u001b[0;34m\u001b[0m\u001b[0m\n\u001b[1;32m    142\u001b[0m \u001b[0;34m\u001b[0m\u001b[0m\n",
      "\u001b[0;32m/usr/local/lib/python3.7/dist-packages/gensim/topic_coherence/text_analysis.py\u001b[0m in \u001b[0;36maccumulate\u001b[0;34m(self, texts, window_size)\u001b[0m\n\u001b[1;32m    333\u001b[0m     \u001b[0;32mdef\u001b[0m \u001b[0maccumulate\u001b[0m\u001b[0;34m(\u001b[0m\u001b[0mself\u001b[0m\u001b[0;34m,\u001b[0m \u001b[0mtexts\u001b[0m\u001b[0;34m,\u001b[0m \u001b[0mwindow_size\u001b[0m\u001b[0;34m)\u001b[0m\u001b[0;34m:\u001b[0m\u001b[0;34m\u001b[0m\u001b[0;34m\u001b[0m\u001b[0m\n\u001b[1;32m    334\u001b[0m         \u001b[0mself\u001b[0m\u001b[0;34m.\u001b[0m\u001b[0m_co_occurrences\u001b[0m \u001b[0;34m=\u001b[0m \u001b[0mself\u001b[0m\u001b[0;34m.\u001b[0m\u001b[0m_co_occurrences\u001b[0m\u001b[0;34m.\u001b[0m\u001b[0mtolil\u001b[0m\u001b[0;34m(\u001b[0m\u001b[0;34m)\u001b[0m\u001b[0;34m\u001b[0m\u001b[0;34m\u001b[0m\u001b[0m\n\u001b[0;32m--> 335\u001b[0;31m         \u001b[0mself\u001b[0m\u001b[0;34m.\u001b[0m\u001b[0mpartial_accumulate\u001b[0m\u001b[0;34m(\u001b[0m\u001b[0mtexts\u001b[0m\u001b[0;34m,\u001b[0m \u001b[0mwindow_size\u001b[0m\u001b[0;34m)\u001b[0m\u001b[0;34m\u001b[0m\u001b[0;34m\u001b[0m\u001b[0m\n\u001b[0m\u001b[1;32m    336\u001b[0m         \u001b[0mself\u001b[0m\u001b[0;34m.\u001b[0m\u001b[0m_symmetrize\u001b[0m\u001b[0;34m(\u001b[0m\u001b[0;34m)\u001b[0m\u001b[0;34m\u001b[0m\u001b[0;34m\u001b[0m\u001b[0m\n\u001b[1;32m    337\u001b[0m         \u001b[0;32mreturn\u001b[0m \u001b[0mself\u001b[0m\u001b[0;34m\u001b[0m\u001b[0;34m\u001b[0m\u001b[0m\n",
      "\u001b[0;32m/usr/local/lib/python3.7/dist-packages/gensim/topic_coherence/text_analysis.py\u001b[0m in \u001b[0;36mpartial_accumulate\u001b[0;34m(self, texts, window_size)\u001b[0m\n\u001b[1;32m    351\u001b[0m         \u001b[0mself\u001b[0m\u001b[0;34m.\u001b[0m\u001b[0m_counter\u001b[0m\u001b[0;34m.\u001b[0m\u001b[0mclear\u001b[0m\u001b[0;34m(\u001b[0m\u001b[0;34m)\u001b[0m\u001b[0;34m\u001b[0m\u001b[0;34m\u001b[0m\u001b[0m\n\u001b[1;32m    352\u001b[0m \u001b[0;34m\u001b[0m\u001b[0m\n\u001b[0;32m--> 353\u001b[0;31m         \u001b[0msuper\u001b[0m\u001b[0;34m(\u001b[0m\u001b[0mWordOccurrenceAccumulator\u001b[0m\u001b[0;34m,\u001b[0m \u001b[0mself\u001b[0m\u001b[0;34m)\u001b[0m\u001b[0;34m.\u001b[0m\u001b[0maccumulate\u001b[0m\u001b[0;34m(\u001b[0m\u001b[0mtexts\u001b[0m\u001b[0;34m,\u001b[0m \u001b[0mwindow_size\u001b[0m\u001b[0;34m)\u001b[0m\u001b[0;34m\u001b[0m\u001b[0;34m\u001b[0m\u001b[0m\n\u001b[0m\u001b[1;32m    354\u001b[0m         \u001b[0;32mfor\u001b[0m \u001b[0mcombo\u001b[0m\u001b[0;34m,\u001b[0m \u001b[0mcount\u001b[0m \u001b[0;32min\u001b[0m \u001b[0miteritems\u001b[0m\u001b[0;34m(\u001b[0m\u001b[0mself\u001b[0m\u001b[0;34m.\u001b[0m\u001b[0m_counter\u001b[0m\u001b[0;34m)\u001b[0m\u001b[0;34m:\u001b[0m\u001b[0;34m\u001b[0m\u001b[0;34m\u001b[0m\u001b[0m\n\u001b[1;32m    355\u001b[0m             \u001b[0mself\u001b[0m\u001b[0;34m.\u001b[0m\u001b[0m_co_occurrences\u001b[0m\u001b[0;34m[\u001b[0m\u001b[0mcombo\u001b[0m\u001b[0;34m]\u001b[0m \u001b[0;34m+=\u001b[0m \u001b[0mcount\u001b[0m\u001b[0;34m\u001b[0m\u001b[0;34m\u001b[0m\u001b[0m\n",
      "\u001b[0;32m/usr/local/lib/python3.7/dist-packages/gensim/topic_coherence/text_analysis.py\u001b[0m in \u001b[0;36maccumulate\u001b[0;34m(self, texts, window_size)\u001b[0m\n\u001b[1;32m    287\u001b[0m \u001b[0;34m\u001b[0m\u001b[0m\n\u001b[1;32m    288\u001b[0m         \u001b[0;32mfor\u001b[0m \u001b[0mdoc_num\u001b[0m\u001b[0;34m,\u001b[0m \u001b[0mvirtual_document\u001b[0m \u001b[0;32min\u001b[0m \u001b[0mwindows\u001b[0m\u001b[0;34m:\u001b[0m\u001b[0;34m\u001b[0m\u001b[0;34m\u001b[0m\u001b[0m\n\u001b[0;32m--> 289\u001b[0;31m             \u001b[0mself\u001b[0m\u001b[0;34m.\u001b[0m\u001b[0manalyze_text\u001b[0m\u001b[0;34m(\u001b[0m\u001b[0mvirtual_document\u001b[0m\u001b[0;34m,\u001b[0m \u001b[0mdoc_num\u001b[0m\u001b[0;34m)\u001b[0m\u001b[0;34m\u001b[0m\u001b[0;34m\u001b[0m\u001b[0m\n\u001b[0m\u001b[1;32m    290\u001b[0m             \u001b[0mself\u001b[0m\u001b[0;34m.\u001b[0m\u001b[0mnum_docs\u001b[0m \u001b[0;34m+=\u001b[0m \u001b[0;36m1\u001b[0m\u001b[0;34m\u001b[0m\u001b[0;34m\u001b[0m\u001b[0m\n\u001b[1;32m    291\u001b[0m         \u001b[0;32mreturn\u001b[0m \u001b[0mself\u001b[0m\u001b[0;34m\u001b[0m\u001b[0;34m\u001b[0m\u001b[0m\n",
      "\u001b[0;32m/usr/local/lib/python3.7/dist-packages/gensim/topic_coherence/text_analysis.py\u001b[0m in \u001b[0;36manalyze_text\u001b[0;34m(self, window, doc_num)\u001b[0m\n\u001b[1;32m    362\u001b[0m         \u001b[0;32mif\u001b[0m \u001b[0mmask\u001b[0m\u001b[0;34m.\u001b[0m\u001b[0many\u001b[0m\u001b[0;34m(\u001b[0m\u001b[0;34m)\u001b[0m\u001b[0;34m:\u001b[0m\u001b[0;34m\u001b[0m\u001b[0;34m\u001b[0m\u001b[0m\n\u001b[1;32m    363\u001b[0m             \u001b[0mself\u001b[0m\u001b[0;34m.\u001b[0m\u001b[0m_occurrences\u001b[0m\u001b[0;34m[\u001b[0m\u001b[0mmask\u001b[0m\u001b[0;34m]\u001b[0m \u001b[0;34m+=\u001b[0m \u001b[0;36m1\u001b[0m\u001b[0;34m\u001b[0m\u001b[0;34m\u001b[0m\u001b[0m\n\u001b[0;32m--> 364\u001b[0;31m             \u001b[0mself\u001b[0m\u001b[0;34m.\u001b[0m\u001b[0m_counter\u001b[0m\u001b[0;34m.\u001b[0m\u001b[0mupdate\u001b[0m\u001b[0;34m(\u001b[0m\u001b[0mitertools\u001b[0m\u001b[0;34m.\u001b[0m\u001b[0mcombinations\u001b[0m\u001b[0;34m(\u001b[0m\u001b[0mnp\u001b[0m\u001b[0;34m.\u001b[0m\u001b[0mnonzero\u001b[0m\u001b[0;34m(\u001b[0m\u001b[0mmask\u001b[0m\u001b[0;34m)\u001b[0m\u001b[0;34m[\u001b[0m\u001b[0;36m0\u001b[0m\u001b[0;34m]\u001b[0m\u001b[0;34m,\u001b[0m \u001b[0;36m2\u001b[0m\u001b[0;34m)\u001b[0m\u001b[0;34m)\u001b[0m\u001b[0;34m\u001b[0m\u001b[0;34m\u001b[0m\u001b[0m\n\u001b[0m\u001b[1;32m    365\u001b[0m \u001b[0;34m\u001b[0m\u001b[0m\n\u001b[1;32m    366\u001b[0m     \u001b[0;32mdef\u001b[0m \u001b[0m_slide_window\u001b[0m\u001b[0;34m(\u001b[0m\u001b[0mself\u001b[0m\u001b[0;34m,\u001b[0m \u001b[0mwindow\u001b[0m\u001b[0;34m,\u001b[0m \u001b[0mdoc_num\u001b[0m\u001b[0;34m)\u001b[0m\u001b[0;34m:\u001b[0m\u001b[0;34m\u001b[0m\u001b[0;34m\u001b[0m\u001b[0m\n",
      "\u001b[0;32m/usr/lib/python3.7/collections/__init__.py\u001b[0m in \u001b[0;36mupdate\u001b[0;34m(*args, **kwds)\u001b[0m\n\u001b[1;32m    653\u001b[0m                     \u001b[0msuper\u001b[0m\u001b[0;34m(\u001b[0m\u001b[0mCounter\u001b[0m\u001b[0;34m,\u001b[0m \u001b[0mself\u001b[0m\u001b[0;34m)\u001b[0m\u001b[0;34m.\u001b[0m\u001b[0mupdate\u001b[0m\u001b[0;34m(\u001b[0m\u001b[0miterable\u001b[0m\u001b[0;34m)\u001b[0m \u001b[0;31m# fast path when counter is empty\u001b[0m\u001b[0;34m\u001b[0m\u001b[0;34m\u001b[0m\u001b[0m\n\u001b[1;32m    654\u001b[0m             \u001b[0;32melse\u001b[0m\u001b[0;34m:\u001b[0m\u001b[0;34m\u001b[0m\u001b[0;34m\u001b[0m\u001b[0m\n\u001b[0;32m--> 655\u001b[0;31m                 \u001b[0m_count_elements\u001b[0m\u001b[0;34m(\u001b[0m\u001b[0mself\u001b[0m\u001b[0;34m,\u001b[0m \u001b[0miterable\u001b[0m\u001b[0;34m)\u001b[0m\u001b[0;34m\u001b[0m\u001b[0;34m\u001b[0m\u001b[0m\n\u001b[0m\u001b[1;32m    656\u001b[0m         \u001b[0;32mif\u001b[0m \u001b[0mkwds\u001b[0m\u001b[0;34m:\u001b[0m\u001b[0;34m\u001b[0m\u001b[0;34m\u001b[0m\u001b[0m\n\u001b[1;32m    657\u001b[0m             \u001b[0mself\u001b[0m\u001b[0;34m.\u001b[0m\u001b[0mupdate\u001b[0m\u001b[0;34m(\u001b[0m\u001b[0mkwds\u001b[0m\u001b[0;34m)\u001b[0m\u001b[0;34m\u001b[0m\u001b[0;34m\u001b[0m\u001b[0m\n",
      "\u001b[0;31mKeyboardInterrupt\u001b[0m: "
     ]
    }
   ],
   "source": [
    "import numpy as np\n",
    "import tqdm\n",
    "grid = {}\n",
    "grid['Validation_Set'] = {}\n",
    "# Topics range\n",
    "min_topics = 4\n",
    "max_topics = 20\n",
    "step_size = 1\n",
    "topics_range = range(min_topics, max_topics, step_size)\n",
    "# Alpha parameter\n",
    "alpha = list(np.arange(0.01, 1, 0.3))\n",
    "alpha.append('symmetric')\n",
    "alpha.append('asymmetric')\n",
    "# Beta parameter\n",
    "beta = list(np.arange(0.01, 1, 0.3))\n",
    "beta.append('symmetric')\n",
    "# Validation sets\n",
    "num_of_docs = len(corpus)\n",
    "corpus_sets = [# gensim.utils.ClippedCorpus(corpus, num_of_docs*0.25), \n",
    "               # gensim.utils.ClippedCorpus(corpus, num_of_docs*0.5), \n",
    "               gensim.utils.ClippedCorpus(corpus, num_of_docs*0.75), \n",
    "               corpus]\n",
    "corpus_title = ['75% Corpus', '100% Corpus']\n",
    "model_results = {'Validation_Set': [],\n",
    "                 'Topics': [],\n",
    "                 'Alpha': [],\n",
    "                 'Beta': [],\n",
    "                 'Coherence': []\n",
    "                }\n",
    "# Can take a long time to run\n",
    "if 1 == 1:\n",
    "    pbar = tqdm.tqdm(total=540)\n",
    "    \n",
    "    # iterate through validation corpuses\n",
    "    for i in range(1,len(corpus_sets)):\n",
    "        # iterate through number of topics\n",
    "        for k in topics_range:\n",
    "            # iterate through alpha values\n",
    "            for a in alpha:\n",
    "                # iterare through beta values\n",
    "                for b in beta:\n",
    "                    # get the coherence score for the given parameters\n",
    "                    cv = compute_coherence_values(corpus=corpus_sets[i], dictionary=id2word, \n",
    "                                                  k=k, a=a, b=b)\n",
    "                    # Save the model results\n",
    "                    model_results['Validation_Set'].append(corpus_title[i])\n",
    "                    model_results['Topics'].append(k)\n",
    "                    model_results['Alpha'].append(a)\n",
    "                    model_results['Beta'].append(b)\n",
    "                    model_results['Coherence'].append(cv)\n",
    "                    \n",
    "                    pbar.update(1)\n",
    "    pd.DataFrame(model_results).to_csv('lda_tuning_results.csv', index=False)\n",
    "    pbar.close()"
   ]
  },
  {
   "cell_type": "code",
   "execution_count": null,
   "metadata": {
    "id": "cpnSCUqli_xd"
   },
   "outputs": [],
   "source": []
  },
  {
   "cell_type": "code",
   "execution_count": null,
   "metadata": {
    "id": "PSJNF4INi_zI"
   },
   "outputs": [],
   "source": []
  },
  {
   "cell_type": "code",
   "execution_count": null,
   "metadata": {
    "id": "6MQb5SKoi_23"
   },
   "outputs": [],
   "source": []
  },
  {
   "cell_type": "markdown",
   "metadata": {
    "id": "OA-1NEnYjBn-"
   },
   "source": [
    "**Adding flair coloumn on Relevant Data**"
   ]
  },
  {
   "cell_type": "code",
   "execution_count": 21,
   "metadata": {
    "colab": {
     "base_uri": "https://localhost:8080/",
     "height": 258
    },
    "executionInfo": {
     "elapsed": 150,
     "status": "ok",
     "timestamp": 1638070095482,
     "user": {
      "displayName": "gurneet singh",
      "photoUrl": "https://lh3.googleusercontent.com/a-/AOh14Ggcya01yjyrc6tr-pEuKhQEbhpHFxL2PI6oSJ5u=s64",
      "userId": "09363295176528521202"
     },
     "user_tz": 300
    },
    "id": "FIT_7tiakBvD",
    "outputId": "0c1a9051-e33f-46e2-8576-be865e27e631"
   },
   "outputs": [
    {
     "data": {
      "text/html": [
       "<div>\n",
       "<style scoped>\n",
       "    .dataframe tbody tr th:only-of-type {\n",
       "        vertical-align: middle;\n",
       "    }\n",
       "\n",
       "    .dataframe tbody tr th {\n",
       "        vertical-align: top;\n",
       "    }\n",
       "\n",
       "    .dataframe thead th {\n",
       "        text-align: right;\n",
       "    }\n",
       "</style>\n",
       "<table border=\"1\" class=\"dataframe\">\n",
       "  <thead>\n",
       "    <tr style=\"text-align: right;\">\n",
       "      <th></th>\n",
       "      <th>author</th>\n",
       "      <th>author_flair_text</th>\n",
       "      <th>author_flair_type</th>\n",
       "      <th>body</th>\n",
       "      <th>created_utc</th>\n",
       "      <th>id</th>\n",
       "      <th>is_submitter</th>\n",
       "      <th>score</th>\n",
       "      <th>subreddit</th>\n",
       "      <th>subreddit_id</th>\n",
       "      <th>Index1</th>\n",
       "    </tr>\n",
       "  </thead>\n",
       "  <tbody>\n",
       "    <tr>\n",
       "      <th>0</th>\n",
       "      <td>Jilapenochips</td>\n",
       "      <td>NaN</td>\n",
       "      <td>text</td>\n",
       "      <td>Ewww</td>\n",
       "      <td>1636677499</td>\n",
       "      <td>hk9sygv</td>\n",
       "      <td>False</td>\n",
       "      <td>4</td>\n",
       "      <td>AskMen</td>\n",
       "      <td>t5_2s30g</td>\n",
       "      <td>0</td>\n",
       "    </tr>\n",
       "    <tr>\n",
       "      <th>1</th>\n",
       "      <td>Jilapenochips</td>\n",
       "      <td>NaN</td>\n",
       "      <td>text</td>\n",
       "      <td>How do you go about selling call credit spreads?</td>\n",
       "      <td>1635997982</td>\n",
       "      <td>hj8q5xj</td>\n",
       "      <td>False</td>\n",
       "      <td>29</td>\n",
       "      <td>thetagang</td>\n",
       "      <td>t5_27n9fl</td>\n",
       "      <td>1</td>\n",
       "    </tr>\n",
       "    <tr>\n",
       "      <th>2</th>\n",
       "      <td>Jilapenochips</td>\n",
       "      <td>NaN</td>\n",
       "      <td>text</td>\n",
       "      <td>I was using firstrade to day trade options but...</td>\n",
       "      <td>1635930349</td>\n",
       "      <td>hj4kdod</td>\n",
       "      <td>False</td>\n",
       "      <td>2</td>\n",
       "      <td>Daytrading</td>\n",
       "      <td>t5_2qxlo</td>\n",
       "      <td>2</td>\n",
       "    </tr>\n",
       "    <tr>\n",
       "      <th>3</th>\n",
       "      <td>Jilapenochips</td>\n",
       "      <td>NaN</td>\n",
       "      <td>text</td>\n",
       "      <td>Beautiful shot</td>\n",
       "      <td>1635221501</td>\n",
       "      <td>hi2qjo6</td>\n",
       "      <td>False</td>\n",
       "      <td>1</td>\n",
       "      <td>dji</td>\n",
       "      <td>t5_2wu4v</td>\n",
       "      <td>3</td>\n",
       "    </tr>\n",
       "    <tr>\n",
       "      <th>4</th>\n",
       "      <td>Jilapenochips</td>\n",
       "      <td>NaN</td>\n",
       "      <td>text</td>\n",
       "      <td>Wow this is the one! Thank you so much you did...</td>\n",
       "      <td>1635026790</td>\n",
       "      <td>hhsg1y0</td>\n",
       "      <td>True</td>\n",
       "      <td>1</td>\n",
       "      <td>photorestore</td>\n",
       "      <td>t5_3eq0r</td>\n",
       "      <td>4</td>\n",
       "    </tr>\n",
       "  </tbody>\n",
       "</table>\n",
       "</div>"
      ],
      "text/plain": [
       "          author author_flair_text  ... subreddit_id Index1\n",
       "0  Jilapenochips               NaN  ...     t5_2s30g      0\n",
       "1  Jilapenochips               NaN  ...    t5_27n9fl      1\n",
       "2  Jilapenochips               NaN  ...     t5_2qxlo      2\n",
       "3  Jilapenochips               NaN  ...     t5_2wu4v      3\n",
       "4  Jilapenochips               NaN  ...     t5_3eq0r      4\n",
       "\n",
       "[5 rows x 11 columns]"
      ]
     },
     "execution_count": 21,
     "metadata": {},
     "output_type": "execute_result"
    }
   ],
   "source": [
    "df_appended.head()"
   ]
  },
  {
   "cell_type": "code",
   "execution_count": 34,
   "metadata": {
    "colab": {
     "base_uri": "https://localhost:8080/"
    },
    "executionInfo": {
     "elapsed": 212,
     "status": "ok",
     "timestamp": 1638070350328,
     "user": {
      "displayName": "gurneet singh",
      "photoUrl": "https://lh3.googleusercontent.com/a-/AOh14Ggcya01yjyrc6tr-pEuKhQEbhpHFxL2PI6oSJ5u=s64",
      "userId": "09363295176528521202"
     },
     "user_tz": 300
    },
    "id": "u7WtsYiakEFb",
    "outputId": "9309f6eb-b4f3-45e8-af4e-1f3fd3edcfed"
   },
   "outputs": [
    {
     "data": {
      "text/plain": [
       "Index(['Index1', 'body', 'vaccine_bool', 'vaccines_bool', 'vaccinated_bool',\n",
       "       'vaccination_bool', 'vacinne_bool', 'vacine_bool', 'covid_bool',\n",
       "       'covid-19_bool', 'coronavirus_bool', 'pandemic_bool',\n",
       "       'immunization_bool', 'pfizer_bool', 'moderna_bool',\n",
       "       'Pfizer-BioNTech_bool', 'Johnson & Johnson’s Janssen_bool',\n",
       "       'Janssen_bool', 'Corona_comb', 'Vaccine_comb', 'Overall_bool'],\n",
       "      dtype='object')"
      ]
     },
     "execution_count": 34,
     "metadata": {},
     "output_type": "execute_result"
    }
   ],
   "source": [
    "df_processed.columns"
   ]
  },
  {
   "cell_type": "code",
   "execution_count": 35,
   "metadata": {
    "executionInfo": {
     "elapsed": 2131,
     "status": "ok",
     "timestamp": 1638070356528,
     "user": {
      "displayName": "gurneet singh",
      "photoUrl": "https://lh3.googleusercontent.com/a-/AOh14Ggcya01yjyrc6tr-pEuKhQEbhpHFxL2PI6oSJ5u=s64",
      "userId": "09363295176528521202"
     },
     "user_tz": 300
    },
    "id": "Qs7BG5YJjKX1"
   },
   "outputs": [],
   "source": [
    "import pandas\n",
    "dfinal = df_processed.merge(df_appended[['Index1','author_flair_text']], left_on='Index1',right_on='Index1',how='left')"
   ]
  },
  {
   "cell_type": "code",
   "execution_count": 36,
   "metadata": {
    "colab": {
     "base_uri": "https://localhost:8080/"
    },
    "executionInfo": {
     "elapsed": 217,
     "status": "ok",
     "timestamp": 1638070358479,
     "user": {
      "displayName": "gurneet singh",
      "photoUrl": "https://lh3.googleusercontent.com/a-/AOh14Ggcya01yjyrc6tr-pEuKhQEbhpHFxL2PI6oSJ5u=s64",
      "userId": "09363295176528521202"
     },
     "user_tz": 300
    },
    "id": "IR10QRU7jKZW",
    "outputId": "086646a7-d394-45c1-d782-9c57a53ece39"
   },
   "outputs": [
    {
     "data": {
      "text/plain": [
       "161529"
      ]
     },
     "execution_count": 36,
     "metadata": {},
     "output_type": "execute_result"
    }
   ],
   "source": [
    "len(dfinal)"
   ]
  },
  {
   "cell_type": "code",
   "execution_count": 37,
   "metadata": {
    "executionInfo": {
     "elapsed": 187,
     "status": "ok",
     "timestamp": 1638070364165,
     "user": {
      "displayName": "gurneet singh",
      "photoUrl": "https://lh3.googleusercontent.com/a-/AOh14Ggcya01yjyrc6tr-pEuKhQEbhpHFxL2PI6oSJ5u=s64",
      "userId": "09363295176528521202"
     },
     "user_tz": 300
    },
    "id": "-OPw8KZAjKdM"
   },
   "outputs": [],
   "source": [
    "#dropping the null values\n",
    "dfinal1 = dfinal.dropna(subset= ['author_flair_text'])"
   ]
  },
  {
   "cell_type": "code",
   "execution_count": 38,
   "metadata": {
    "colab": {
     "base_uri": "https://localhost:8080/"
    },
    "executionInfo": {
     "elapsed": 182,
     "status": "ok",
     "timestamp": 1638070365461,
     "user": {
      "displayName": "gurneet singh",
      "photoUrl": "https://lh3.googleusercontent.com/a-/AOh14Ggcya01yjyrc6tr-pEuKhQEbhpHFxL2PI6oSJ5u=s64",
      "userId": "09363295176528521202"
     },
     "user_tz": 300
    },
    "id": "2eFP0l1Gm1DH",
    "outputId": "b8dafadd-2d79-45aa-b1ce-b2d25d9ad900"
   },
   "outputs": [
    {
     "data": {
      "text/plain": [
       "(25346, 22)"
      ]
     },
     "execution_count": 38,
     "metadata": {},
     "output_type": "execute_result"
    }
   ],
   "source": [
    "dfinal1.shape"
   ]
  },
  {
   "cell_type": "code",
   "execution_count": 39,
   "metadata": {
    "colab": {
     "base_uri": "https://localhost:8080/"
    },
    "executionInfo": {
     "elapsed": 133,
     "status": "ok",
     "timestamp": 1638070379820,
     "user": {
      "displayName": "gurneet singh",
      "photoUrl": "https://lh3.googleusercontent.com/a-/AOh14Ggcya01yjyrc6tr-pEuKhQEbhpHFxL2PI6oSJ5u=s64",
      "userId": "09363295176528521202"
     },
     "user_tz": 300
    },
    "id": "s0ntDrcNm26Y",
    "outputId": "82a36c50-576b-4ea4-8f8c-317b69f27b4f"
   },
   "outputs": [
    {
     "data": {
      "text/plain": [
       "Index1                                   0\n",
       "body                                     0\n",
       "vaccine_bool                             0\n",
       "vaccines_bool                            0\n",
       "vaccinated_bool                          0\n",
       "vaccination_bool                         0\n",
       "vacinne_bool                             0\n",
       "vacine_bool                              0\n",
       "covid_bool                               0\n",
       "covid-19_bool                            0\n",
       "coronavirus_bool                         0\n",
       "pandemic_bool                            0\n",
       "immunization_bool                        0\n",
       "pfizer_bool                              0\n",
       "moderna_bool                             0\n",
       "Pfizer-BioNTech_bool                     0\n",
       "Johnson & Johnson’s Janssen_bool         0\n",
       "Janssen_bool                             0\n",
       "Corona_comb                              0\n",
       "Vaccine_comb                             0\n",
       "Overall_bool                             0\n",
       "author_flair_text                   136183\n",
       "dtype: int64"
      ]
     },
     "execution_count": 39,
     "metadata": {},
     "output_type": "execute_result"
    }
   ],
   "source": [
    "#dfinal.isnull().sum(axis = 0)"
   ]
  },
  {
   "cell_type": "code",
   "execution_count": 25,
   "metadata": {
    "executionInfo": {
     "elapsed": 152,
     "status": "ok",
     "timestamp": 1638054133017,
     "user": {
      "displayName": "gurneet singh",
      "photoUrl": "https://lh3.googleusercontent.com/a-/AOh14Ggcya01yjyrc6tr-pEuKhQEbhpHFxL2PI6oSJ5u=s64",
      "userId": "09363295176528521202"
     },
     "user_tz": 300
    },
    "id": "ELP62kmqnJ5q"
   },
   "outputs": [],
   "source": [
    "list_flair = list(dfinal1['author_flair_text'].unique())"
   ]
  },
  {
   "cell_type": "code",
   "execution_count": 26,
   "metadata": {
    "colab": {
     "base_uri": "https://localhost:8080/"
    },
    "executionInfo": {
     "elapsed": 167,
     "status": "ok",
     "timestamp": 1638054139830,
     "user": {
      "displayName": "gurneet singh",
      "photoUrl": "https://lh3.googleusercontent.com/a-/AOh14Ggcya01yjyrc6tr-pEuKhQEbhpHFxL2PI6oSJ5u=s64",
      "userId": "09363295176528521202"
     },
     "user_tz": 300
    },
    "id": "auVPJJh2oIZZ",
    "outputId": "2f86e5a8-7246-4963-9283-a3654620284e"
   },
   "outputs": [
    {
     "data": {
      "text/plain": [
       "1583"
      ]
     },
     "execution_count": 26,
     "metadata": {},
     "output_type": "execute_result"
    }
   ],
   "source": [
    "len(list_flair)"
   ]
  },
  {
   "cell_type": "code",
   "execution_count": 47,
   "metadata": {
    "executionInfo": {
     "elapsed": 163,
     "status": "ok",
     "timestamp": 1638055249186,
     "user": {
      "displayName": "gurneet singh",
      "photoUrl": "https://lh3.googleusercontent.com/a-/AOh14Ggcya01yjyrc6tr-pEuKhQEbhpHFxL2PI6oSJ5u=s64",
      "userId": "09363295176528521202"
     },
     "user_tz": 300
    },
    "id": "qviif_HArpre"
   },
   "outputs": [],
   "source": [
    "group_count = dfinal1.groupby('author_flair_text')['body'].count()"
   ]
  },
  {
   "cell_type": "code",
   "execution_count": 76,
   "metadata": {
    "executionInfo": {
     "elapsed": 154,
     "status": "ok",
     "timestamp": 1638055904439,
     "user": {
      "displayName": "gurneet singh",
      "photoUrl": "https://lh3.googleusercontent.com/a-/AOh14Ggcya01yjyrc6tr-pEuKhQEbhpHFxL2PI6oSJ5u=s64",
      "userId": "09363295176528521202"
     },
     "user_tz": 300
    },
    "id": "YKRX2MwirptH"
   },
   "outputs": [],
   "source": [
    "group_dff = pd.DataFrame(group_count.sort_values(ascending=False))"
   ]
  },
  {
   "cell_type": "code",
   "execution_count": 77,
   "metadata": {
    "executionInfo": {
     "elapsed": 141,
     "status": "ok",
     "timestamp": 1638055904807,
     "user": {
      "displayName": "gurneet singh",
      "photoUrl": "https://lh3.googleusercontent.com/a-/AOh14Ggcya01yjyrc6tr-pEuKhQEbhpHFxL2PI6oSJ5u=s64",
      "userId": "09363295176528521202"
     },
     "user_tz": 300
    },
    "id": "SBLbxIf1opW4"
   },
   "outputs": [],
   "source": [
    "group_dff = group_dff.reset_index()"
   ]
  },
  {
   "cell_type": "code",
   "execution_count": 78,
   "metadata": {
    "executionInfo": {
     "elapsed": 5,
     "status": "ok",
     "timestamp": 1638055905396,
     "user": {
      "displayName": "gurneet singh",
      "photoUrl": "https://lh3.googleusercontent.com/a-/AOh14Ggcya01yjyrc6tr-pEuKhQEbhpHFxL2PI6oSJ5u=s64",
      "userId": "09363295176528521202"
     },
     "user_tz": 300
    },
    "id": "t7t0jZPcpTTr"
   },
   "outputs": [],
   "source": [
    "group_dff['Cummulative_sum'] = group_dff['body'].cumsum()"
   ]
  },
  {
   "cell_type": "code",
   "execution_count": 79,
   "metadata": {
    "executionInfo": {
     "elapsed": 158,
     "status": "ok",
     "timestamp": 1638055906311,
     "user": {
      "displayName": "gurneet singh",
      "photoUrl": "https://lh3.googleusercontent.com/a-/AOh14Ggcya01yjyrc6tr-pEuKhQEbhpHFxL2PI6oSJ5u=s64",
      "userId": "09363295176528521202"
     },
     "user_tz": 300
    },
    "id": "sDz4WVoEqdYS"
   },
   "outputs": [],
   "source": [
    "group_dff['Percentage'] = group_dff['Cummulative_sum']/25346 *100"
   ]
  },
  {
   "cell_type": "code",
   "execution_count": 80,
   "metadata": {
    "colab": {
     "base_uri": "https://localhost:8080/",
     "height": 424
    },
    "executionInfo": {
     "elapsed": 130,
     "status": "ok",
     "timestamp": 1638055907449,
     "user": {
      "displayName": "gurneet singh",
      "photoUrl": "https://lh3.googleusercontent.com/a-/AOh14Ggcya01yjyrc6tr-pEuKhQEbhpHFxL2PI6oSJ5u=s64",
      "userId": "09363295176528521202"
     },
     "user_tz": 300
    },
    "id": "v-mI9FWDvRrQ",
    "outputId": "ece7d494-2064-410c-b6de-c068827975a9"
   },
   "outputs": [
    {
     "data": {
      "text/html": [
       "<div>\n",
       "<style scoped>\n",
       "    .dataframe tbody tr th:only-of-type {\n",
       "        vertical-align: middle;\n",
       "    }\n",
       "\n",
       "    .dataframe tbody tr th {\n",
       "        vertical-align: top;\n",
       "    }\n",
       "\n",
       "    .dataframe thead th {\n",
       "        text-align: right;\n",
       "    }\n",
       "</style>\n",
       "<table border=\"1\" class=\"dataframe\">\n",
       "  <thead>\n",
       "    <tr style=\"text-align: right;\">\n",
       "      <th></th>\n",
       "      <th>author_flair_text</th>\n",
       "      <th>body</th>\n",
       "      <th>Cummulative_sum</th>\n",
       "      <th>Percentage</th>\n",
       "    </tr>\n",
       "  </thead>\n",
       "  <tbody>\n",
       "    <tr>\n",
       "      <th>0</th>\n",
       "      <td>:flag-md: Maryland</td>\n",
       "      <td>679</td>\n",
       "      <td>679</td>\n",
       "      <td>2.678924</td>\n",
       "    </tr>\n",
       "    <tr>\n",
       "      <th>1</th>\n",
       "      <td>:friuliveneziagiulia: Friuli-Venezia Giulia</td>\n",
       "      <td>625</td>\n",
       "      <td>1304</td>\n",
       "      <td>5.144796</td>\n",
       "    </tr>\n",
       "    <tr>\n",
       "      <th>2</th>\n",
       "      <td>MD</td>\n",
       "      <td>580</td>\n",
       "      <td>1884</td>\n",
       "      <td>7.433126</td>\n",
       "    </tr>\n",
       "    <tr>\n",
       "      <th>3</th>\n",
       "      <td>Glenbrook Valley</td>\n",
       "      <td>467</td>\n",
       "      <td>2351</td>\n",
       "      <td>9.275625</td>\n",
       "    </tr>\n",
       "    <tr>\n",
       "      <th>4</th>\n",
       "      <td>PGY2</td>\n",
       "      <td>435</td>\n",
       "      <td>2786</td>\n",
       "      <td>10.991872</td>\n",
       "    </tr>\n",
       "    <tr>\n",
       "      <th>...</th>\n",
       "      <td>...</td>\n",
       "      <td>...</td>\n",
       "      <td>...</td>\n",
       "      <td>...</td>\n",
       "    </tr>\n",
       "    <tr>\n",
       "      <th>1578</th>\n",
       "      <td>Hatchet</td>\n",
       "      <td>1</td>\n",
       "      <td>25342</td>\n",
       "      <td>99.984218</td>\n",
       "    </tr>\n",
       "    <tr>\n",
       "      <th>1579</th>\n",
       "      <td>Hellenist</td>\n",
       "      <td>1</td>\n",
       "      <td>25343</td>\n",
       "      <td>99.988164</td>\n",
       "    </tr>\n",
       "    <tr>\n",
       "      <th>1580</th>\n",
       "      <td>Helper [4]</td>\n",
       "      <td>1</td>\n",
       "      <td>25344</td>\n",
       "      <td>99.992109</td>\n",
       "    </tr>\n",
       "    <tr>\n",
       "      <th>1581</th>\n",
       "      <td>Histology</td>\n",
       "      <td>1</td>\n",
       "      <td>25345</td>\n",
       "      <td>99.996055</td>\n",
       "    </tr>\n",
       "    <tr>\n",
       "      <th>1582</th>\n",
       "      <td>Lugia</td>\n",
       "      <td>1</td>\n",
       "      <td>25346</td>\n",
       "      <td>100.000000</td>\n",
       "    </tr>\n",
       "  </tbody>\n",
       "</table>\n",
       "<p>1583 rows × 4 columns</p>\n",
       "</div>"
      ],
      "text/plain": [
       "                                author_flair_text  ...  Percentage\n",
       "0                              :flag-md: Maryland  ...    2.678924\n",
       "1     :friuliveneziagiulia: Friuli-Venezia Giulia  ...    5.144796\n",
       "2                                              MD  ...    7.433126\n",
       "3                                Glenbrook Valley  ...    9.275625\n",
       "4                                            PGY2  ...   10.991872\n",
       "...                                           ...  ...         ...\n",
       "1578                                      Hatchet  ...   99.984218\n",
       "1579                                    Hellenist  ...   99.988164\n",
       "1580                                   Helper [4]  ...   99.992109\n",
       "1581                                    Histology  ...   99.996055\n",
       "1582                                        Lugia  ...  100.000000\n",
       "\n",
       "[1583 rows x 4 columns]"
      ]
     },
     "execution_count": 80,
     "metadata": {},
     "output_type": "execute_result"
    }
   ],
   "source": [
    "group_dff"
   ]
  },
  {
   "cell_type": "code",
   "execution_count": 85,
   "metadata": {
    "executionInfo": {
     "elapsed": 148,
     "status": "ok",
     "timestamp": 1638056664314,
     "user": {
      "displayName": "gurneet singh",
      "photoUrl": "https://lh3.googleusercontent.com/a-/AOh14Ggcya01yjyrc6tr-pEuKhQEbhpHFxL2PI6oSJ5u=s64",
      "userId": "09363295176528521202"
     },
     "user_tz": 300
    },
    "id": "KbKvI2kfujl7"
   },
   "outputs": [],
   "source": [
    "final_group_flair = group_dff[group_dff['Percentage']<80]"
   ]
  },
  {
   "cell_type": "code",
   "execution_count": 88,
   "metadata": {
    "executionInfo": {
     "elapsed": 141,
     "status": "ok",
     "timestamp": 1638056841469,
     "user": {
      "displayName": "gurneet singh",
      "photoUrl": "https://lh3.googleusercontent.com/a-/AOh14Ggcya01yjyrc6tr-pEuKhQEbhpHFxL2PI6oSJ5u=s64",
      "userId": "09363295176528521202"
     },
     "user_tz": 300
    },
    "id": "LVYLMMk0u1wl"
   },
   "outputs": [],
   "source": [
    "final_group_flair.to_csv('final_group_flair.csv',index=False)"
   ]
  },
  {
   "cell_type": "code",
   "execution_count": 89,
   "metadata": {
    "colab": {
     "base_uri": "https://localhost:8080/"
    },
    "executionInfo": {
     "elapsed": 302,
     "status": "ok",
     "timestamp": 1638056843013,
     "user": {
      "displayName": "gurneet singh",
      "photoUrl": "https://lh3.googleusercontent.com/a-/AOh14Ggcya01yjyrc6tr-pEuKhQEbhpHFxL2PI6oSJ5u=s64",
      "userId": "09363295176528521202"
     },
     "user_tz": 300
    },
    "id": "qD56kFI8vJuI",
    "outputId": "757f4928-4e09-465d-cd0c-969ffac69d49"
   },
   "outputs": [
    {
     "name": "stdout",
     "output_type": "stream",
     "text": [
      "/content/drive/.shortcut-targets-by-id/1uKZmpRRwciHwohqfjKcRePjwzyJ7Qyhg/Data Mining Project Research/Data\n"
     ]
    }
   ],
   "source": [
    "!pwd"
   ]
  },
  {
   "cell_type": "code",
   "execution_count": 40,
   "metadata": {
    "executionInfo": {
     "elapsed": 168,
     "status": "ok",
     "timestamp": 1638070411325,
     "user": {
      "displayName": "gurneet singh",
      "photoUrl": "https://lh3.googleusercontent.com/a-/AOh14Ggcya01yjyrc6tr-pEuKhQEbhpHFxL2PI6oSJ5u=s64",
      "userId": "09363295176528521202"
     },
     "user_tz": 300
    },
    "id": "MLpEfgF7yweN"
   },
   "outputs": [],
   "source": [
    "cat_tagged = pd.read_csv('final_group_flair _tagged.csv')"
   ]
  },
  {
   "cell_type": "code",
   "execution_count": 41,
   "metadata": {
    "executionInfo": {
     "elapsed": 201,
     "status": "ok",
     "timestamp": 1638070412784,
     "user": {
      "displayName": "gurneet singh",
      "photoUrl": "https://lh3.googleusercontent.com/a-/AOh14Ggcya01yjyrc6tr-pEuKhQEbhpHFxL2PI6oSJ5u=s64",
      "userId": "09363295176528521202"
     },
     "user_tz": 300
    },
    "id": "7whhbGyUSRFY"
   },
   "outputs": [],
   "source": [
    "cat_tagged = cat_tagged[['author_flair_text','Doctors_Nurses_Students']]"
   ]
  },
  {
   "cell_type": "code",
   "execution_count": 42,
   "metadata": {
    "executionInfo": {
     "elapsed": 121,
     "status": "ok",
     "timestamp": 1638070413653,
     "user": {
      "displayName": "gurneet singh",
      "photoUrl": "https://lh3.googleusercontent.com/a-/AOh14Ggcya01yjyrc6tr-pEuKhQEbhpHFxL2PI6oSJ5u=s64",
      "userId": "09363295176528521202"
     },
     "user_tz": 300
    },
    "id": "MkSlyVO_SSZu"
   },
   "outputs": [],
   "source": [
    "dict_cat_tagged = cat_tagged.set_index('author_flair_text').T.to_dict('list')"
   ]
  },
  {
   "cell_type": "code",
   "execution_count": 43,
   "metadata": {
    "executionInfo": {
     "elapsed": 205,
     "status": "ok",
     "timestamp": 1638070414537,
     "user": {
      "displayName": "gurneet singh",
      "photoUrl": "https://lh3.googleusercontent.com/a-/AOh14Ggcya01yjyrc6tr-pEuKhQEbhpHFxL2PI6oSJ5u=s64",
      "userId": "09363295176528521202"
     },
     "user_tz": 300
    },
    "id": "DsI0scRfTcMR"
   },
   "outputs": [],
   "source": [
    "dict_cat_tagged1 = {}\n",
    "for key,value in dict_cat_tagged.items():\n",
    "  dict_cat_tagged1[key] = value[0]"
   ]
  },
  {
   "cell_type": "code",
   "execution_count": 44,
   "metadata": {
    "executionInfo": {
     "elapsed": 121,
     "status": "ok",
     "timestamp": 1638070416081,
     "user": {
      "displayName": "gurneet singh",
      "photoUrl": "https://lh3.googleusercontent.com/a-/AOh14Ggcya01yjyrc6tr-pEuKhQEbhpHFxL2PI6oSJ5u=s64",
      "userId": "09363295176528521202"
     },
     "user_tz": 300
    },
    "id": "wHz-OTC3U0Ic"
   },
   "outputs": [],
   "source": [
    "#dict_cat_tagged1"
   ]
  },
  {
   "cell_type": "code",
   "execution_count": 132,
   "metadata": {
    "executionInfo": {
     "elapsed": 179,
     "status": "ok",
     "timestamp": 1638067096392,
     "user": {
      "displayName": "gurneet singh",
      "photoUrl": "https://lh3.googleusercontent.com/a-/AOh14Ggcya01yjyrc6tr-pEuKhQEbhpHFxL2PI6oSJ5u=s64",
      "userId": "09363295176528521202"
     },
     "user_tz": 300
    },
    "id": "cXJIlN7AZkA7"
   },
   "outputs": [],
   "source": []
  },
  {
   "cell_type": "code",
   "execution_count": null,
   "metadata": {
    "id": "lko6ldXLZkDd"
   },
   "outputs": [],
   "source": []
  },
  {
   "cell_type": "code",
   "execution_count": 45,
   "metadata": {
    "colab": {
     "base_uri": "https://localhost:8080/"
    },
    "executionInfo": {
     "elapsed": 146,
     "status": "ok",
     "timestamp": 1638070424991,
     "user": {
      "displayName": "gurneet singh",
      "photoUrl": "https://lh3.googleusercontent.com/a-/AOh14Ggcya01yjyrc6tr-pEuKhQEbhpHFxL2PI6oSJ5u=s64",
      "userId": "09363295176528521202"
     },
     "user_tz": 300
    },
    "id": "4X7UpUZUW-bH",
    "outputId": "8c704da0-4a2a-4254-dc79-3c3e5e47e1cd"
   },
   "outputs": [
    {
     "name": "stderr",
     "output_type": "stream",
     "text": [
      "/usr/local/lib/python3.7/dist-packages/ipykernel_launcher.py:1: SettingWithCopyWarning: \n",
      "A value is trying to be set on a copy of a slice from a DataFrame.\n",
      "Try using .loc[row_indexer,col_indexer] = value instead\n",
      "\n",
      "See the caveats in the documentation: https://pandas.pydata.org/pandas-docs/stable/user_guide/indexing.html#returning-a-view-versus-a-copy\n",
      "  \"\"\"Entry point for launching an IPython kernel.\n"
     ]
    }
   ],
   "source": [
    "dfinal1['new_tagged_flairs']=dfinal1['author_flair_text'].map(dict_cat_tagged1)"
   ]
  },
  {
   "cell_type": "code",
   "execution_count": 46,
   "metadata": {
    "colab": {
     "base_uri": "https://localhost:8080/"
    },
    "executionInfo": {
     "elapsed": 216,
     "status": "ok",
     "timestamp": 1638070430018,
     "user": {
      "displayName": "gurneet singh",
      "photoUrl": "https://lh3.googleusercontent.com/a-/AOh14Ggcya01yjyrc6tr-pEuKhQEbhpHFxL2PI6oSJ5u=s64",
      "userId": "09363295176528521202"
     },
     "user_tz": 300
    },
    "id": "VgF-nWAxW-c2",
    "outputId": "fd9fa5c0-d240-4d9b-c4a6-c87ab8cdceae"
   },
   "outputs": [
    {
     "data": {
      "text/plain": [
       "D    6278\n",
       "S    3555\n",
       "N    3122\n",
       "Name: new_tagged_flairs, dtype: int64"
      ]
     },
     "execution_count": 46,
     "metadata": {},
     "output_type": "execute_result"
    }
   ],
   "source": [
    "dfinal1['new_tagged_flairs'].value_counts()"
   ]
  },
  {
   "cell_type": "code",
   "execution_count": 47,
   "metadata": {
    "colab": {
     "base_uri": "https://localhost:8080/"
    },
    "executionInfo": {
     "elapsed": 197,
     "status": "ok",
     "timestamp": 1638070436911,
     "user": {
      "displayName": "gurneet singh",
      "photoUrl": "https://lh3.googleusercontent.com/a-/AOh14Ggcya01yjyrc6tr-pEuKhQEbhpHFxL2PI6oSJ5u=s64",
      "userId": "09363295176528521202"
     },
     "user_tz": 300
    },
    "id": "CPV3Mam5Y0Sa",
    "outputId": "a28c0d33-f28c-4cd0-aac2-c24ca51dd7f6"
   },
   "outputs": [
    {
     "data": {
      "text/plain": [
       "(25346, 23)"
      ]
     },
     "execution_count": 47,
     "metadata": {},
     "output_type": "execute_result"
    }
   ],
   "source": [
    "dfinal1.shape"
   ]
  },
  {
   "cell_type": "code",
   "execution_count": 48,
   "metadata": {
    "executionInfo": {
     "elapsed": 144,
     "status": "ok",
     "timestamp": 1638070445423,
     "user": {
      "displayName": "gurneet singh",
      "photoUrl": "https://lh3.googleusercontent.com/a-/AOh14Ggcya01yjyrc6tr-pEuKhQEbhpHFxL2PI6oSJ5u=s64",
      "userId": "09363295176528521202"
     },
     "user_tz": 300
    },
    "id": "lQR7javPVdZC"
   },
   "outputs": [],
   "source": [
    "#dropping the null values\n",
    "dfinal2 = dfinal1.dropna(subset= ['new_tagged_flairs'])"
   ]
  },
  {
   "cell_type": "code",
   "execution_count": 141,
   "metadata": {
    "colab": {
     "base_uri": "https://localhost:8080/"
    },
    "executionInfo": {
     "elapsed": 191,
     "status": "ok",
     "timestamp": 1638068157404,
     "user": {
      "displayName": "gurneet singh",
      "photoUrl": "https://lh3.googleusercontent.com/a-/AOh14Ggcya01yjyrc6tr-pEuKhQEbhpHFxL2PI6oSJ5u=s64",
      "userId": "09363295176528521202"
     },
     "user_tz": 300
    },
    "id": "4UUIV9bneESp",
    "outputId": "53ac9146-3832-4f15-8786-8e4d5d29ecd2"
   },
   "outputs": [
    {
     "data": {
      "text/plain": [
       "(12955, 23)"
      ]
     },
     "execution_count": 141,
     "metadata": {},
     "output_type": "execute_result"
    }
   ],
   "source": [
    "dfinal2.shape"
   ]
  },
  {
   "cell_type": "code",
   "execution_count": 49,
   "metadata": {
    "executionInfo": {
     "elapsed": 1092,
     "status": "ok",
     "timestamp": 1638070530439,
     "user": {
      "displayName": "gurneet singh",
      "photoUrl": "https://lh3.googleusercontent.com/a-/AOh14Ggcya01yjyrc6tr-pEuKhQEbhpHFxL2PI6oSJ5u=s64",
      "userId": "09363295176528521202"
     },
     "user_tz": 300
    },
    "id": "ZCp1yd5cm6FX"
   },
   "outputs": [],
   "source": [
    "#dfinal1.to_csv(\"dfinal1.csv\",index=False)\n",
    "#dfinal2.to_csv('dfinal2.csv',index=False)"
   ]
  },
  {
   "cell_type": "code",
   "execution_count": 6,
   "metadata": {
    "colab": {
     "base_uri": "https://localhost:8080/",
     "height": 415
    },
    "executionInfo": {
     "elapsed": 247,
     "status": "error",
     "timestamp": 1638070663847,
     "user": {
      "displayName": "gurneet singh",
      "photoUrl": "https://lh3.googleusercontent.com/a-/AOh14Ggcya01yjyrc6tr-pEuKhQEbhpHFxL2PI6oSJ5u=s64",
      "userId": "09363295176528521202"
     },
     "user_tz": 300
    },
    "id": "n5TLhbmim6S3",
    "outputId": "caf4af34-2c60-42f2-afbd-25dad9a7b20c"
   },
   "outputs": [],
   "source": [
    "import pandas as pd\n",
    "dfinal1 =pd.read_csv('dfinal1.csv')\n",
    "dfinal2 = pd.read_csv('dfinal2.csv')"
   ]
  },
  {
   "cell_type": "code",
   "execution_count": 125,
   "metadata": {},
   "outputs": [],
   "source": [
    "dfinal2 = pd.read_csv(\"dfinal3.csv\")"
   ]
  },
  {
   "cell_type": "code",
   "execution_count": 126,
   "metadata": {},
   "outputs": [
    {
     "data": {
      "text/plain": [
       "(15963, 2)"
      ]
     },
     "execution_count": 126,
     "metadata": {},
     "output_type": "execute_result"
    }
   ],
   "source": [
    "dfinal2.shape"
   ]
  },
  {
   "cell_type": "code",
   "execution_count": 127,
   "metadata": {},
   "outputs": [],
   "source": [
    "dfinal2.rename(columns = {'Overall_tag_DNS':'new_tagged_flairs'},inplace =True)"
   ]
  },
  {
   "cell_type": "code",
   "execution_count": 130,
   "metadata": {},
   "outputs": [
    {
     "name": "stderr",
     "output_type": "stream",
     "text": [
      "C:\\Users\\HP\\anaconda3\\lib\\site-packages\\ipykernel_launcher.py:1: SettingWithCopyWarning: \n",
      "A value is trying to be set on a copy of a slice from a DataFrame\n",
      "\n",
      "See the caveats in the documentation: https://pandas.pydata.org/pandas-docs/stable/user_guide/indexing.html#returning-a-view-versus-a-copy\n",
      "  \"\"\"Entry point for launching an IPython kernel.\n"
     ]
    }
   ],
   "source": [
    "dfinal2['new_tagged_flairs'][dfinal2.new_tagged_flairs=='S']='N'"
   ]
  },
  {
   "cell_type": "code",
   "execution_count": 133,
   "metadata": {},
   "outputs": [
    {
     "data": {
      "text/plain": [
       "D    9544\n",
       "N    6419\n",
       "Name: new_tagged_flairs, dtype: int64"
      ]
     },
     "execution_count": 133,
     "metadata": {},
     "output_type": "execute_result"
    }
   ],
   "source": [
    "dfinal2.new_tagged_flairs.value_counts()"
   ]
  },
  {
   "cell_type": "code",
   "execution_count": 134,
   "metadata": {
    "colab": {
     "base_uri": "https://localhost:8080/",
     "height": 248
    },
    "executionInfo": {
     "elapsed": 131,
     "status": "ok",
     "timestamp": 1638070537168,
     "user": {
      "displayName": "gurneet singh",
      "photoUrl": "https://lh3.googleusercontent.com/a-/AOh14Ggcya01yjyrc6tr-pEuKhQEbhpHFxL2PI6oSJ5u=s64",
      "userId": "09363295176528521202"
     },
     "user_tz": 300
    },
    "id": "qhJkg-vaeHpK",
    "outputId": "472855ff-fc14-48ab-ae85-06be4993e5bd"
   },
   "outputs": [
    {
     "data": {
      "text/html": [
       "<div>\n",
       "<style scoped>\n",
       "    .dataframe tbody tr th:only-of-type {\n",
       "        vertical-align: middle;\n",
       "    }\n",
       "\n",
       "    .dataframe tbody tr th {\n",
       "        vertical-align: top;\n",
       "    }\n",
       "\n",
       "    .dataframe thead th {\n",
       "        text-align: right;\n",
       "    }\n",
       "</style>\n",
       "<table border=\"1\" class=\"dataframe\">\n",
       "  <thead>\n",
       "    <tr style=\"text-align: right;\">\n",
       "      <th></th>\n",
       "      <th>new_tagged_flairs</th>\n",
       "      <th>id</th>\n",
       "    </tr>\n",
       "  </thead>\n",
       "  <tbody>\n",
       "    <tr>\n",
       "      <th>0</th>\n",
       "      <td>D</td>\n",
       "      <td>0</td>\n",
       "    </tr>\n",
       "    <tr>\n",
       "      <th>3</th>\n",
       "      <td>N</td>\n",
       "      <td>1</td>\n",
       "    </tr>\n",
       "  </tbody>\n",
       "</table>\n",
       "</div>"
      ],
      "text/plain": [
       "  new_tagged_flairs  id\n",
       "0                 D   0\n",
       "3                 N   1"
      ]
     },
     "execution_count": 134,
     "metadata": {},
     "output_type": "execute_result"
    }
   ],
   "source": [
    "# Assigning and individual id to each flair\n",
    "dfinal2['id'] = dfinal2['new_tagged_flairs'].factorize()[0]\n",
    "flair_category = dfinal2[['new_tagged_flairs', 'id']].drop_duplicates().sort_values('id')\n",
    "flair_category"
   ]
  },
  {
   "cell_type": "code",
   "execution_count": 76,
   "metadata": {
    "colab": {
     "base_uri": "https://localhost:8080/"
    },
    "executionInfo": {
     "elapsed": 147,
     "status": "ok",
     "timestamp": 1638070543514,
     "user": {
      "displayName": "gurneet singh",
      "photoUrl": "https://lh3.googleusercontent.com/a-/AOh14Ggcya01yjyrc6tr-pEuKhQEbhpHFxL2PI6oSJ5u=s64",
      "userId": "09363295176528521202"
     },
     "user_tz": 300
    },
    "id": "V2CGcF3IhSNF",
    "outputId": "6e0b819c-d2d5-4d33-dfc8-7d7278febd27"
   },
   "outputs": [
    {
     "name": "stdout",
     "output_type": "stream",
     "text": [
      "{'D': 0, 'N': 1, 'S': 2}\n",
      "=========================================================================================================\n",
      "{0: 'D', 1: 'N', 2: 'S'}\n"
     ]
    }
   ],
   "source": [
    "# Convert into a label dictionary \n",
    "category_labels = dict(flair_category.values)\n",
    "print(category_labels)\n",
    "\n",
    "print(\"=======\"*15) # Line break display\n",
    "\n",
    "# Similarly, we can create an inverse of the previous one to convert labels to categories\n",
    "category_reverse = dict(flair_category[['id', 'new_tagged_flairs']].values)\n",
    "print(category_reverse)"
   ]
  },
  {
   "cell_type": "code",
   "execution_count": null,
   "metadata": {
    "id": "9Olp3VAdhj4N"
   },
   "outputs": [],
   "source": []
  },
  {
   "cell_type": "markdown",
   "metadata": {
    "id": "M-1_oc2zh3_B"
   },
   "source": [
    "Text Cleaning\n"
   ]
  },
  {
   "cell_type": "code",
   "execution_count": 77,
   "metadata": {
    "colab": {
     "base_uri": "https://localhost:8080/"
    },
    "executionInfo": {
     "elapsed": 519,
     "status": "ok",
     "timestamp": 1638070552336,
     "user": {
      "displayName": "gurneet singh",
      "photoUrl": "https://lh3.googleusercontent.com/a-/AOh14Ggcya01yjyrc6tr-pEuKhQEbhpHFxL2PI6oSJ5u=s64",
      "userId": "09363295176528521202"
     },
     "user_tz": 300
    },
    "id": "RqCm7yQviSK3",
    "outputId": "8d5fecba-5d8b-4cc5-d9d3-e5882f53ec49"
   },
   "outputs": [
    {
     "name": "stderr",
     "output_type": "stream",
     "text": [
      "[nltk_data] Downloading package stopwords to\n",
      "[nltk_data]     C:\\Users\\HP\\AppData\\Roaming\\nltk_data...\n",
      "[nltk_data]   Package stopwords is already up-to-date!\n"
     ]
    },
    {
     "data": {
      "text/plain": [
       "True"
      ]
     },
     "execution_count": 77,
     "metadata": {},
     "output_type": "execute_result"
    }
   ],
   "source": [
    "import nltk\n",
    "nltk.download('stopwords')\n"
   ]
  },
  {
   "cell_type": "code",
   "execution_count": 78,
   "metadata": {
    "colab": {
     "base_uri": "https://localhost:8080/"
    },
    "executionInfo": {
     "elapsed": 202,
     "status": "ok",
     "timestamp": 1638070553804,
     "user": {
      "displayName": "gurneet singh",
      "photoUrl": "https://lh3.googleusercontent.com/a-/AOh14Ggcya01yjyrc6tr-pEuKhQEbhpHFxL2PI6oSJ5u=s64",
      "userId": "09363295176528521202"
     },
     "user_tz": 300
    },
    "id": "ZMQLaVkqh5rI",
    "outputId": "7dbb998e-8418-48ff-c67d-a31a23021eb0"
   },
   "outputs": [
    {
     "name": "stdout",
     "output_type": "stream",
     "text": [
      "['i', 'me', 'my', 'myself', 'we', 'our', 'ours', 'ourselves', 'you', \"you're\", \"you've\", \"you'll\", \"you'd\", 'your', 'yours', 'yourself', 'yourselves', 'he', 'him', 'his', 'himself', 'she', \"she's\", 'her', 'hers', 'herself', 'it', \"it's\", 'its', 'itself', 'they', 'them', 'their', 'theirs', 'themselves', 'what', 'which', 'who', 'whom', 'this', 'that', \"that'll\", 'these', 'those', 'am', 'is', 'are', 'was', 'were', 'be', 'been', 'being', 'have', 'has', 'had', 'having', 'do', 'does', 'did', 'doing', 'a', 'an', 'the', 'and', 'but', 'if', 'or', 'because', 'as', 'until', 'while', 'of', 'at', 'by', 'for', 'with', 'about', 'against', 'between', 'into', 'through', 'during', 'before', 'after', 'above', 'below', 'to', 'from', 'up', 'down', 'in', 'out', 'on', 'off', 'over', 'under', 'again', 'further', 'then', 'once', 'here', 'there', 'when', 'where', 'why', 'how', 'all', 'any', 'both', 'each', 'few', 'more', 'most', 'other', 'some', 'such', 'no', 'nor', 'not', 'only', 'own', 'same', 'so', 'than', 'too', 'very', 's', 't', 'can', 'will', 'just', 'don', \"don't\", 'should', \"should've\", 'now', 'd', 'll', 'm', 'o', 're', 've', 'y', 'ain', 'aren', \"aren't\", 'couldn', \"couldn't\", 'didn', \"didn't\", 'doesn', \"doesn't\", 'hadn', \"hadn't\", 'hasn', \"hasn't\", 'haven', \"haven't\", 'isn', \"isn't\", 'ma', 'mightn', \"mightn't\", 'mustn', \"mustn't\", 'needn', \"needn't\", 'shan', \"shan't\", 'shouldn', \"shouldn't\", 'wasn', \"wasn't\", 'weren', \"weren't\", 'won', \"won't\", 'wouldn', \"wouldn't\"]\n"
     ]
    }
   ],
   "source": [
    "# Collect all the english stopwords and display them\n",
    "from nltk.corpus import stopwords\n",
    "STOPWORDS = stopwords.words('english')\n",
    "print(STOPWORDS)"
   ]
  },
  {
   "cell_type": "code",
   "execution_count": 79,
   "metadata": {
    "colab": {
     "base_uri": "https://localhost:8080/"
    },
    "executionInfo": {
     "elapsed": 3341,
     "status": "ok",
     "timestamp": 1638070562689,
     "user": {
      "displayName": "gurneet singh",
      "photoUrl": "https://lh3.googleusercontent.com/a-/AOh14Ggcya01yjyrc6tr-pEuKhQEbhpHFxL2PI6oSJ5u=s64",
      "userId": "09363295176528521202"
     },
     "user_tz": 300
    },
    "id": "Hf8zj-wfh6UI",
    "outputId": "f820d9db-e6c2-418a-b693-8b7e657ed679"
   },
   "outputs": [
    {
     "name": "stderr",
     "output_type": "stream",
     "text": [
      "C:\\Users\\HP\\anaconda3\\lib\\site-packages\\ipykernel_launcher.py:20: FutureWarning: The default value of regex will change from True to False in a future version.\n"
     ]
    }
   ],
   "source": [
    "import re\n",
    "REPLACE_SPACES = re.compile('[/(){}\\[\\]\\|@,;]')\n",
    "BAD_SYMBOLS = re.compile('[^0-9a-z #+_]')\n",
    "\n",
    "def clean_text(text):\n",
    "    '''\n",
    "        text: a string\n",
    "        return: modified initial string\n",
    "    '''\n",
    "\n",
    "    text = text.lower() # lowercase text\n",
    "    text = REPLACE_SPACES.sub(' ', text) \n",
    "    text = BAD_SYMBOLS.sub('', text) # Replace Bad Symbols which \n",
    "    text = text.replace('x', '')\n",
    "    \n",
    "    text = ' '.join(word for word in text.split() if word not in STOPWORDS) # remove stopwors from text\n",
    "    return text\n",
    "\n",
    "dfinal2['body'] = dfinal2['body'].apply(clean_text)\n",
    "dfinal2['body'] = dfinal2['body'].str.replace('\\d+', '')\n",
    "#dfinal2['body'].head(10)"
   ]
  },
  {
   "cell_type": "code",
   "execution_count": 80,
   "metadata": {
    "id": "L0IvgdGEitrZ"
   },
   "outputs": [
    {
     "ename": "MemoryError",
     "evalue": "Unable to allocate 1.91 GiB for an array with shape (15963, 16050) and data type float64",
     "output_type": "error",
     "traceback": [
      "\u001b[1;31m---------------------------------------------------------------------------\u001b[0m",
      "\u001b[1;31mMemoryError\u001b[0m                               Traceback (most recent call last)",
      "\u001b[1;32m<ipython-input-80-8b1675d320f4>\u001b[0m in \u001b[0;36m<module>\u001b[1;34m\u001b[0m\n\u001b[0;32m     10\u001b[0m \u001b[1;33m\u001b[0m\u001b[0m\n\u001b[0;32m     11\u001b[0m \u001b[1;31m# Extracting the features by fitting the Vectorizer on Combined Data\u001b[0m\u001b[1;33m\u001b[0m\u001b[1;33m\u001b[0m\u001b[1;33m\u001b[0m\u001b[0m\n\u001b[1;32m---> 12\u001b[1;33m \u001b[0mfeat\u001b[0m \u001b[1;33m=\u001b[0m \u001b[0mtfidf\u001b[0m\u001b[1;33m.\u001b[0m\u001b[0mfit_transform\u001b[0m\u001b[1;33m(\u001b[0m\u001b[0mdfinal2\u001b[0m\u001b[1;33m[\u001b[0m\u001b[1;34m'body'\u001b[0m\u001b[1;33m]\u001b[0m\u001b[1;33m)\u001b[0m\u001b[1;33m.\u001b[0m\u001b[0mtoarray\u001b[0m\u001b[1;33m(\u001b[0m\u001b[1;33m)\u001b[0m\u001b[1;33m\u001b[0m\u001b[1;33m\u001b[0m\u001b[0m\n\u001b[0m\u001b[0;32m     13\u001b[0m \u001b[0mlabels\u001b[0m \u001b[1;33m=\u001b[0m \u001b[0mdfinal2\u001b[0m\u001b[1;33m[\u001b[0m\u001b[1;34m'id'\u001b[0m\u001b[1;33m]\u001b[0m    \u001b[1;31m# Series containing all the post labels\u001b[0m\u001b[1;33m\u001b[0m\u001b[1;33m\u001b[0m\u001b[0m\n\u001b[0;32m     14\u001b[0m \u001b[0mprint\u001b[0m\u001b[1;33m(\u001b[0m\u001b[0mfeat\u001b[0m\u001b[1;33m.\u001b[0m\u001b[0mshape\u001b[0m\u001b[1;33m)\u001b[0m\u001b[1;33m\u001b[0m\u001b[1;33m\u001b[0m\u001b[0m\n",
      "\u001b[1;32m~\\anaconda3\\lib\\site-packages\\scipy\\sparse\\compressed.py\u001b[0m in \u001b[0;36mtoarray\u001b[1;34m(self, order, out)\u001b[0m\n\u001b[0;32m   1023\u001b[0m         \u001b[1;32mif\u001b[0m \u001b[0mout\u001b[0m \u001b[1;32mis\u001b[0m \u001b[1;32mNone\u001b[0m \u001b[1;32mand\u001b[0m \u001b[0morder\u001b[0m \u001b[1;32mis\u001b[0m \u001b[1;32mNone\u001b[0m\u001b[1;33m:\u001b[0m\u001b[1;33m\u001b[0m\u001b[1;33m\u001b[0m\u001b[0m\n\u001b[0;32m   1024\u001b[0m             \u001b[0morder\u001b[0m \u001b[1;33m=\u001b[0m \u001b[0mself\u001b[0m\u001b[1;33m.\u001b[0m\u001b[0m_swap\u001b[0m\u001b[1;33m(\u001b[0m\u001b[1;34m'cf'\u001b[0m\u001b[1;33m)\u001b[0m\u001b[1;33m[\u001b[0m\u001b[1;36m0\u001b[0m\u001b[1;33m]\u001b[0m\u001b[1;33m\u001b[0m\u001b[1;33m\u001b[0m\u001b[0m\n\u001b[1;32m-> 1025\u001b[1;33m         \u001b[0mout\u001b[0m \u001b[1;33m=\u001b[0m \u001b[0mself\u001b[0m\u001b[1;33m.\u001b[0m\u001b[0m_process_toarray_args\u001b[0m\u001b[1;33m(\u001b[0m\u001b[0morder\u001b[0m\u001b[1;33m,\u001b[0m \u001b[0mout\u001b[0m\u001b[1;33m)\u001b[0m\u001b[1;33m\u001b[0m\u001b[1;33m\u001b[0m\u001b[0m\n\u001b[0m\u001b[0;32m   1026\u001b[0m         \u001b[1;32mif\u001b[0m \u001b[1;32mnot\u001b[0m \u001b[1;33m(\u001b[0m\u001b[0mout\u001b[0m\u001b[1;33m.\u001b[0m\u001b[0mflags\u001b[0m\u001b[1;33m.\u001b[0m\u001b[0mc_contiguous\u001b[0m \u001b[1;32mor\u001b[0m \u001b[0mout\u001b[0m\u001b[1;33m.\u001b[0m\u001b[0mflags\u001b[0m\u001b[1;33m.\u001b[0m\u001b[0mf_contiguous\u001b[0m\u001b[1;33m)\u001b[0m\u001b[1;33m:\u001b[0m\u001b[1;33m\u001b[0m\u001b[1;33m\u001b[0m\u001b[0m\n\u001b[0;32m   1027\u001b[0m             \u001b[1;32mraise\u001b[0m \u001b[0mValueError\u001b[0m\u001b[1;33m(\u001b[0m\u001b[1;34m'Output array must be C or F contiguous'\u001b[0m\u001b[1;33m)\u001b[0m\u001b[1;33m\u001b[0m\u001b[1;33m\u001b[0m\u001b[0m\n",
      "\u001b[1;32m~\\anaconda3\\lib\\site-packages\\scipy\\sparse\\base.py\u001b[0m in \u001b[0;36m_process_toarray_args\u001b[1;34m(self, order, out)\u001b[0m\n\u001b[0;32m   1187\u001b[0m             \u001b[1;32mreturn\u001b[0m \u001b[0mout\u001b[0m\u001b[1;33m\u001b[0m\u001b[1;33m\u001b[0m\u001b[0m\n\u001b[0;32m   1188\u001b[0m         \u001b[1;32melse\u001b[0m\u001b[1;33m:\u001b[0m\u001b[1;33m\u001b[0m\u001b[1;33m\u001b[0m\u001b[0m\n\u001b[1;32m-> 1189\u001b[1;33m             \u001b[1;32mreturn\u001b[0m \u001b[0mnp\u001b[0m\u001b[1;33m.\u001b[0m\u001b[0mzeros\u001b[0m\u001b[1;33m(\u001b[0m\u001b[0mself\u001b[0m\u001b[1;33m.\u001b[0m\u001b[0mshape\u001b[0m\u001b[1;33m,\u001b[0m \u001b[0mdtype\u001b[0m\u001b[1;33m=\u001b[0m\u001b[0mself\u001b[0m\u001b[1;33m.\u001b[0m\u001b[0mdtype\u001b[0m\u001b[1;33m,\u001b[0m \u001b[0morder\u001b[0m\u001b[1;33m=\u001b[0m\u001b[0morder\u001b[0m\u001b[1;33m)\u001b[0m\u001b[1;33m\u001b[0m\u001b[1;33m\u001b[0m\u001b[0m\n\u001b[0m\u001b[0;32m   1190\u001b[0m \u001b[1;33m\u001b[0m\u001b[0m\n\u001b[0;32m   1191\u001b[0m \u001b[1;33m\u001b[0m\u001b[0m\n",
      "\u001b[1;31mMemoryError\u001b[0m: Unable to allocate 1.91 GiB for an array with shape (15963, 16050) and data type float64"
     ]
    }
   ],
   "source": [
    "from sklearn.feature_extraction.text import TfidfVectorizer\n",
    "\n",
    "# Creating an instance of the Tfidf vectorizer\n",
    "tfidf = TfidfVectorizer(sublinear_tf=True, \n",
    "                        min_df=5, \n",
    "                        norm = 'l2', \n",
    "                        encoding='latin-1', \n",
    "                        ngram_range=(1, 2))\n",
    "\n",
    "\n",
    "# Extracting the features by fitting the Vectorizer on Combined Data\n",
    "feat = tfidf.fit_transform(dfinal2['body']).toarray()\n",
    "labels = dfinal2['id']    # Series containing all the post labels\n",
    "print(feat.shape)"
   ]
  },
  {
   "cell_type": "code",
   "execution_count": 17,
   "metadata": {
    "id": "lT6XsetzjMXC"
   },
   "outputs": [
    {
     "ename": "TypeError",
     "evalue": "'rv_frozen' object is not subscriptable",
     "output_type": "error",
     "traceback": [
      "\u001b[1;31m---------------------------------------------------------------------------\u001b[0m",
      "\u001b[1;31mTypeError\u001b[0m                                 Traceback (most recent call last)",
      "\u001b[1;32m<ipython-input-17-aa1d48dc26ff>\u001b[0m in \u001b[0;36m<module>\u001b[1;34m\u001b[0m\n\u001b[0;32m      5\u001b[0m \u001b[1;32mfor\u001b[0m \u001b[0mf\u001b[0m\u001b[1;33m,\u001b[0m \u001b[0mi\u001b[0m \u001b[1;32min\u001b[0m \u001b[0msorted\u001b[0m\u001b[1;33m(\u001b[0m\u001b[0mcategory_labels\u001b[0m\u001b[1;33m.\u001b[0m\u001b[0mitems\u001b[0m\u001b[1;33m(\u001b[0m\u001b[1;33m)\u001b[0m\u001b[1;33m)\u001b[0m\u001b[1;33m:\u001b[0m\u001b[1;33m\u001b[0m\u001b[1;33m\u001b[0m\u001b[0m\n\u001b[0;32m      6\u001b[0m     \u001b[0mchi2_feat\u001b[0m \u001b[1;33m=\u001b[0m \u001b[0mchi2\u001b[0m\u001b[1;33m(\u001b[0m\u001b[0mfeat\u001b[0m\u001b[1;33m,\u001b[0m \u001b[0mlabels\u001b[0m \u001b[1;33m==\u001b[0m \u001b[0mi\u001b[0m\u001b[1;33m)\u001b[0m\u001b[1;33m\u001b[0m\u001b[1;33m\u001b[0m\u001b[0m\n\u001b[1;32m----> 7\u001b[1;33m     \u001b[0mindices\u001b[0m \u001b[1;33m=\u001b[0m \u001b[0mnp\u001b[0m\u001b[1;33m.\u001b[0m\u001b[0margsort\u001b[0m\u001b[1;33m(\u001b[0m\u001b[0mchi2_feat\u001b[0m\u001b[1;33m[\u001b[0m\u001b[1;36m0\u001b[0m\u001b[1;33m]\u001b[0m\u001b[1;33m)\u001b[0m\u001b[1;33m\u001b[0m\u001b[1;33m\u001b[0m\u001b[0m\n\u001b[0m\u001b[0;32m      8\u001b[0m     \u001b[0mfeat_names\u001b[0m \u001b[1;33m=\u001b[0m \u001b[0mnp\u001b[0m\u001b[1;33m.\u001b[0m\u001b[0marray\u001b[0m\u001b[1;33m(\u001b[0m\u001b[0mtfidf\u001b[0m\u001b[1;33m.\u001b[0m\u001b[0mget_feature_names\u001b[0m\u001b[1;33m(\u001b[0m\u001b[1;33m)\u001b[0m\u001b[1;33m)\u001b[0m\u001b[1;33m[\u001b[0m\u001b[0mindices\u001b[0m\u001b[1;33m]\u001b[0m\u001b[1;33m\u001b[0m\u001b[1;33m\u001b[0m\u001b[0m\n\u001b[0;32m      9\u001b[0m     \u001b[0munigrams\u001b[0m \u001b[1;33m=\u001b[0m \u001b[1;33m[\u001b[0m\u001b[0mw\u001b[0m \u001b[1;32mfor\u001b[0m \u001b[0mw\u001b[0m \u001b[1;32min\u001b[0m \u001b[0mfeat_names\u001b[0m \u001b[1;32mif\u001b[0m \u001b[0mlen\u001b[0m\u001b[1;33m(\u001b[0m\u001b[0mw\u001b[0m\u001b[1;33m.\u001b[0m\u001b[0msplit\u001b[0m\u001b[1;33m(\u001b[0m\u001b[1;34m' '\u001b[0m\u001b[1;33m)\u001b[0m\u001b[1;33m)\u001b[0m \u001b[1;33m==\u001b[0m \u001b[1;36m1\u001b[0m\u001b[1;33m]\u001b[0m\u001b[1;33m\u001b[0m\u001b[1;33m\u001b[0m\u001b[0m\n",
      "\u001b[1;31mTypeError\u001b[0m: 'rv_frozen' object is not subscriptable"
     ]
    }
   ],
   "source": [
    "# chisq2 statistical test\n",
    "\n",
    "from scipy.stats import chi2\n",
    "N = 5    # Number of examples to be listed\n",
    "for f, i in sorted(category_labels.items()):\n",
    "    chi2_feat = chi2(feat, labels == i)\n",
    "    indices = np.argsort(chi2_feat[0])\n",
    "    feat_names = np.array(tfidf.get_feature_names())[indices]\n",
    "    unigrams = [w for w in feat_names if len(w.split(' ')) == 1]\n",
    "    bigrams = [w for w in feat_names if len(w.split(' ')) == 2]\n",
    "    print(\"\\nFlair '{}':\".format(f))\n",
    "    print(\"Most correlated unigrams:\\n\\t. {}\".format('\\n\\t. '.join(unigrams[-N:])))\n",
    "    print(\"Most correlated bigrams:\\n\\t. {}\".format('\\n\\t. '.join(bigrams[-N:])))"
   ]
  },
  {
   "cell_type": "code",
   "execution_count": 81,
   "metadata": {},
   "outputs": [],
   "source": [
    "# NLTK Stop words\n",
    "from pprint import pprint\n",
    "from nltk.corpus import stopwords\n",
    "stop_words = stopwords.words('english')\n",
    "stop_words.extend(['from', 'subject', 're', 'edu', 'use'])"
   ]
  },
  {
   "cell_type": "code",
   "execution_count": 82,
   "metadata": {},
   "outputs": [
    {
     "name": "stdout",
     "output_type": "stream",
     "text": [
      "['try showing published research vaccines surely believe established facts']\n"
     ]
    }
   ],
   "source": [
    "# Convert to list\n",
    "data = dfinal2.body.values.tolist()\n",
    "\n",
    "# Remove Emails\n",
    "data = [re.sub('\\S*@\\S*\\s?', '', sent) for sent in data]\n",
    "\n",
    "# Remove new line characters\n",
    "data = [re.sub('\\s+', ' ', sent) for sent in data]\n",
    "\n",
    "# Remove distracting single quotes\n",
    "data = [re.sub(\"\\'\", \"\", sent) for sent in data]\n",
    "\n",
    "print(data[:1])\n"
   ]
  },
  {
   "cell_type": "code",
   "execution_count": 83,
   "metadata": {},
   "outputs": [
    {
     "name": "stdout",
     "output_type": "stream",
     "text": [
      "[['try', 'showing', 'published', 'research', 'vaccines', 'surely', 'believe', 'established', 'facts']]\n",
      "['try', 'showing', 'published', 'research', 'vaccines', 'surely', 'believe', 'established', 'facts']\n",
      "[['try', 'show', 'publish', 'research', 'vaccine', 'surely', 'believe', 'established', 'fact']]\n",
      "[[(0, 1), (1, 1), (2, 1), (3, 1), (4, 1), (5, 1), (6, 1), (7, 1), (8, 1)]]\n"
     ]
    },
    {
     "data": {
      "text/plain": [
       "[[('believe', 1),\n",
       "  ('established', 1),\n",
       "  ('fact', 1),\n",
       "  ('publish', 1),\n",
       "  ('research', 1),\n",
       "  ('show', 1),\n",
       "  ('surely', 1),\n",
       "  ('try', 1),\n",
       "  ('vaccine', 1)]]"
      ]
     },
     "execution_count": 83,
     "metadata": {},
     "output_type": "execute_result"
    }
   ],
   "source": [
    "import gensim\n",
    "import gensim.corpora as corpora\n",
    "from gensim.utils import simple_preprocess\n",
    "from gensim.models import CoherenceModel\n",
    "\n",
    "# spacy for lemmatization\n",
    "import spacy\n",
    "def sent_to_words(sentences):\n",
    "    for sentence in sentences:\n",
    "        yield(gensim.utils.simple_preprocess(str(sentence), deacc=True))  # deacc=True removes punctuations\n",
    "\n",
    "data_words = list(sent_to_words(data))\n",
    "\n",
    "print(data_words[:1])\n",
    "\n",
    "\n",
    "# Build the bigram and trigram models\n",
    "bigram = gensim.models.Phrases(data_words, min_count=5, threshold=100) # higher threshold fewer phrases.\n",
    "trigram = gensim.models.Phrases(bigram[data_words], threshold=100)  \n",
    "\n",
    "# Faster way to get a sentence clubbed as a trigram/bigram\n",
    "bigram_mod = gensim.models.phrases.Phraser(bigram)\n",
    "trigram_mod = gensim.models.phrases.Phraser(trigram)\n",
    "\n",
    "# See trigram example\n",
    "print(trigram_mod[bigram_mod[data_words[0]]])\n",
    "\n",
    "\n",
    "# Define functions for stopwords, bigrams, trigrams and lemmatization\n",
    "def remove_stopwords(texts):\n",
    "    return [[word for word in simple_preprocess(str(doc)) if word not in stop_words] for doc in texts]\n",
    "\n",
    "def make_bigrams(texts):\n",
    "    return [bigram_mod[doc] for doc in texts]\n",
    "\n",
    "def make_trigrams(texts):\n",
    "    return [trigram_mod[bigram_mod[doc]] for doc in texts]\n",
    "\n",
    "def lemmatization(texts, allowed_postags=['NOUN', 'ADJ', 'VERB', 'ADV']):\n",
    "    \"\"\"https://spacy.io/api/annotation\"\"\"\n",
    "    texts_out = []\n",
    "    for sent in texts:\n",
    "        doc = nlp(\" \".join(sent)) \n",
    "        texts_out.append([token.lemma_ for token in doc if token.pos_ in allowed_postags])\n",
    "    return texts_out\n",
    "\n",
    "\n",
    "# Remove Stop Words\n",
    "data_words_nostops = remove_stopwords(data_words)\n",
    "\n",
    "# Form Bigrams\n",
    "data_words_bigrams = make_bigrams(data_words_nostops)\n",
    "\n",
    "# Initialize spacy 'en' model, keeping only tagger component (for efficiency)\n",
    "# python3 -m spacy download en\n",
    "nlp = spacy.load('en_core_web_sm', disable=['parser', 'ner'])\n",
    "\n",
    "# Do lemmatization keeping only noun, adj, vb, adv\n",
    "data_lemmatized = lemmatization(data_words_bigrams, allowed_postags=['NOUN', 'ADJ', 'VERB', 'ADV'])\n",
    "\n",
    "print(data_lemmatized[:1])\n",
    "\n",
    "\n",
    "# Create Dictionary\n",
    "id2word = corpora.Dictionary(data_lemmatized)\n",
    "\n",
    "# Create Corpus\n",
    "texts = data_lemmatized\n",
    "\n",
    "# Term Document Frequency\n",
    "corpus = [id2word.doc2bow(text) for text in texts]\n",
    "\n",
    "# View\n",
    "print(corpus[:1])\n",
    "\n",
    "\n",
    "# Human readable format of corpus (term-frequency)\n",
    "[[(id2word[id], freq) for id, freq in cp] for cp in corpus[:1]]\n"
   ]
  },
  {
   "cell_type": "code",
   "execution_count": 135,
   "metadata": {},
   "outputs": [
    {
     "name": "stdout",
     "output_type": "stream",
     "text": [
      "(12770,) (12770,) (3193,) (3193,)\n"
     ]
    }
   ],
   "source": [
    "# Splitting 20% of the data into train test split\n",
    "from sklearn.model_selection import train_test_split\n",
    "\n",
    "X_train, X_test, y_train, y_test = train_test_split(dfinal2['body'], dfinal2['new_tagged_flairs'], \n",
    "                                                    test_size=0.2, \n",
    "                                                    random_state=42)\n",
    "\n",
    "print(X_train.shape, y_train.shape, X_test.shape, y_test.shape)"
   ]
  },
  {
   "cell_type": "code",
   "execution_count": 136,
   "metadata": {},
   "outputs": [],
   "source": [
    "# Creating an instance of the TFID transformer\n",
    "from sklearn.feature_extraction.text import TfidfTransformer\n",
    "from sklearn.feature_extraction.text import CountVectorizer\n",
    "from sklearn.pipeline import Pipeline\n",
    "\n",
    "count_vec = CountVectorizer()\n",
    "X_train_counts = count_vec.fit_transform(X_train)\n",
    "\n",
    "# Creating an instance of the TFID transformer\n",
    "tfidf_trans = TfidfTransformer()\n",
    "X_train_tfidf = tfidf_trans.fit_transform(X_train_counts)"
   ]
  },
  {
   "cell_type": "code",
   "execution_count": 137,
   "metadata": {},
   "outputs": [],
   "source": [
    "# Naive Bayes Classifier \n",
    "from sklearn.naive_bayes import MultinomialNB\n",
    "from sklearn.svm import SVC\n",
    "from sklearn.ensemble import RandomForestClassifier\n",
    "from sklearn.linear_model import LogisticRegression\n",
    "from sklearn.metrics import accuracy_score\n",
    "\n",
    "\n",
    "def nb_classifier(X_train, X_test, y_train, y_test):\n",
    "    \n",
    "    nb_fit = Pipeline([('vect', CountVectorizer()),\n",
    "                  ('tfidf', TfidfTransformer()),\n",
    "                  ('model', MultinomialNB()),\n",
    "                 ])\n",
    "    nb_fit.fit(X_train, y_train)    # Fitting the data to the trianing data\n",
    "    \n",
    "    # Making Predictions on the test data\n",
    "    y_pred = nb_fit.predict(X_test)\n",
    "    acc = accuracy_score(y_pred=y_pred, y_true=y_test)\n",
    "    print(\"Model Accuracy: {}\".format(acc))\n",
    "    \n",
    "\n",
    "# Random Forest Classifier\n",
    "def random_forest(X_train, X_test, y_train, y_test):\n",
    "    \n",
    "    forest = Pipeline([('vect', CountVectorizer()),\n",
    "                  ('tfidf', TfidfTransformer()),\n",
    "                  ('model', RandomForestClassifier()),\n",
    "                 ])\n",
    "    forest.fit(X_train, y_train)    # Fitting the data to the trianing data\n",
    "    \n",
    "    # Making Predictions on the test data\n",
    "    y_pred = forest.predict(X_test)\n",
    "    acc = accuracy_score(y_pred=y_pred, y_true=y_test)\n",
    "    print(\"Model Accuracy: {}\".format(acc))\n",
    "\n",
    "# Support Vector Machines Classifier \n",
    "def svc(X_train, X_test, y_train, y_test):\n",
    "    \n",
    "    svc_fit = Pipeline([('vect', CountVectorizer()),\n",
    "                  ('tfidf', TfidfTransformer()),\n",
    "                  ('model', SVC()),\n",
    "                 ])\n",
    "    svc_fit.fit(X_train, y_train)    # Fitting the data to the trianing data\n",
    "    \n",
    "    # Making Predictions on the test data\n",
    "    y_pred = svc_fit.predict(X_test)\n",
    "    acc = accuracy_score(y_pred=y_pred, y_true=y_test)\n",
    "    print(\"Model Accuracy: {}\".format(acc))\n",
    "\n",
    "# Logistic Regression Classifier \n",
    "def log_reg(X_train, X_test, y_train, y_test):\n",
    "    \n",
    "    logreg = Pipeline([('vect', CountVectorizer()),\n",
    "                  ('tfidf', TfidfTransformer()),\n",
    "                  ('model', LogisticRegression()),\n",
    "                 ])\n",
    "    logreg.fit(X_train, y_train)     # Fitting the data to the trianing data\n",
    "\n",
    "    # Making Predictions on the test data\n",
    "    y_pred = logreg.predict(X_test)\n",
    "    acc = accuracy_score(y_pred=y_pred, y_true=y_test)\n",
    "    print(\"Model Accuracy: {}\".format(acc))\n"
   ]
  },
  {
   "cell_type": "code",
   "execution_count": 138,
   "metadata": {},
   "outputs": [
    {
     "name": "stdout",
     "output_type": "stream",
     "text": [
      "Evaluate Naive Bayes Classifier\n",
      "Model Accuracy: 0.6392107735671781\n"
     ]
    }
   ],
   "source": [
    "print(\"Evaluate Naive Bayes Classifier\")\n",
    "nb_classifier(X_train, X_test, y_train, y_test)"
   ]
  },
  {
   "cell_type": "code",
   "execution_count": 139,
   "metadata": {},
   "outputs": [
    {
     "name": "stdout",
     "output_type": "stream",
     "text": [
      "Evaluate Random Forest Classifier\n",
      "Model Accuracy: 0.6570623238333855\n"
     ]
    }
   ],
   "source": [
    "print(\"Evaluate Random Forest Classifier\")\n",
    "random_forest(X_train, X_test, y_train, y_test)\n"
   ]
  },
  {
   "cell_type": "code",
   "execution_count": 140,
   "metadata": {},
   "outputs": [
    {
     "name": "stdout",
     "output_type": "stream",
     "text": [
      "Evaluate Logistic Regression Model\n",
      "Model Accuracy: 0.6580018791105543\n"
     ]
    }
   ],
   "source": [
    "print(\"Evaluate Logistic Regression Model\")\n",
    "log_reg(X_train, X_test, y_train, y_test)\n"
   ]
  },
  {
   "cell_type": "code",
   "execution_count": 141,
   "metadata": {},
   "outputs": [
    {
     "name": "stdout",
     "output_type": "stream",
     "text": [
      "Evaluate SVC Model\n",
      "Model Accuracy: 0.6626996554963984\n"
     ]
    }
   ],
   "source": [
    "print(\"Evaluate SVC Model\")\n",
    "svc(X_train, X_test, y_train, y_test)"
   ]
  },
  {
   "cell_type": "code",
   "execution_count": 142,
   "metadata": {},
   "outputs": [
    {
     "data": {
      "text/html": [
       "<div>\n",
       "<style scoped>\n",
       "    .dataframe tbody tr th:only-of-type {\n",
       "        vertical-align: middle;\n",
       "    }\n",
       "\n",
       "    .dataframe tbody tr th {\n",
       "        vertical-align: top;\n",
       "    }\n",
       "\n",
       "    .dataframe thead th {\n",
       "        text-align: right;\n",
       "    }\n",
       "</style>\n",
       "<table border=\"1\" class=\"dataframe\">\n",
       "  <thead>\n",
       "    <tr style=\"text-align: right;\">\n",
       "      <th></th>\n",
       "      <th>body</th>\n",
       "      <th>new_tagged_flairs</th>\n",
       "      <th>id</th>\n",
       "    </tr>\n",
       "  </thead>\n",
       "  <tbody>\n",
       "    <tr>\n",
       "      <th>0</th>\n",
       "      <td>You can try showing him published research abo...</td>\n",
       "      <td>D</td>\n",
       "      <td>0</td>\n",
       "    </tr>\n",
       "    <tr>\n",
       "      <th>1</th>\n",
       "      <td>The authors report findings in a 65-year-old ...</td>\n",
       "      <td>D</td>\n",
       "      <td>0</td>\n",
       "    </tr>\n",
       "    <tr>\n",
       "      <th>2</th>\n",
       "      <td>The authors report findings in a 65-year-old f...</td>\n",
       "      <td>D</td>\n",
       "      <td>0</td>\n",
       "    </tr>\n",
       "    <tr>\n",
       "      <th>3</th>\n",
       "      <td>Meanwhile the priest at my Catholic church is ...</td>\n",
       "      <td>N</td>\n",
       "      <td>1</td>\n",
       "    </tr>\n",
       "    <tr>\n",
       "      <th>4</th>\n",
       "      <td>I’m not sure about other states but in NY the ...</td>\n",
       "      <td>D</td>\n",
       "      <td>0</td>\n",
       "    </tr>\n",
       "    <tr>\n",
       "      <th>...</th>\n",
       "      <td>...</td>\n",
       "      <td>...</td>\n",
       "      <td>...</td>\n",
       "    </tr>\n",
       "    <tr>\n",
       "      <th>15958</th>\n",
       "      <td>Hi all,\\n\\nI am a pharmacy student who applied...</td>\n",
       "      <td>D</td>\n",
       "      <td>0</td>\n",
       "    </tr>\n",
       "    <tr>\n",
       "      <th>15959</th>\n",
       "      <td>Saw this morning that Russia has apparently ap...</td>\n",
       "      <td>D</td>\n",
       "      <td>0</td>\n",
       "    </tr>\n",
       "    <tr>\n",
       "      <th>15960</th>\n",
       "      <td>I had a sore throat and mild headache today so...</td>\n",
       "      <td>N</td>\n",
       "      <td>1</td>\n",
       "    </tr>\n",
       "    <tr>\n",
       "      <th>15961</th>\n",
       "      <td>I just got the second dose of Pfizer and... I ...</td>\n",
       "      <td>N</td>\n",
       "      <td>1</td>\n",
       "    </tr>\n",
       "    <tr>\n",
       "      <th>15962</th>\n",
       "      <td>Those of you here have many things on your min...</td>\n",
       "      <td>D</td>\n",
       "      <td>0</td>\n",
       "    </tr>\n",
       "  </tbody>\n",
       "</table>\n",
       "<p>15963 rows × 3 columns</p>\n",
       "</div>"
      ],
      "text/plain": [
       "                                                    body new_tagged_flairs  id\n",
       "0      You can try showing him published research abo...                 D   0\n",
       "1       The authors report findings in a 65-year-old ...                 D   0\n",
       "2      The authors report findings in a 65-year-old f...                 D   0\n",
       "3      Meanwhile the priest at my Catholic church is ...                 N   1\n",
       "4      I’m not sure about other states but in NY the ...                 D   0\n",
       "...                                                  ...               ...  ..\n",
       "15958  Hi all,\\n\\nI am a pharmacy student who applied...                 D   0\n",
       "15959  Saw this morning that Russia has apparently ap...                 D   0\n",
       "15960  I had a sore throat and mild headache today so...                 N   1\n",
       "15961  I just got the second dose of Pfizer and... I ...                 N   1\n",
       "15962  Those of you here have many things on your min...                 D   0\n",
       "\n",
       "[15963 rows x 3 columns]"
      ]
     },
     "execution_count": 142,
     "metadata": {},
     "output_type": "execute_result"
    }
   ],
   "source": [
    "dfinal2"
   ]
  },
  {
   "cell_type": "code",
   "execution_count": 143,
   "metadata": {},
   "outputs": [],
   "source": [
    "dfinal3 = dfinal2.drop_duplicates(subset=['body'])"
   ]
  },
  {
   "cell_type": "code",
   "execution_count": 144,
   "metadata": {},
   "outputs": [],
   "source": [
    "df3=dfinal3[dfinal3['new_tagged_flairs']=='D'].sample(frac=0.6)\n",
    "df3=df3.append(dfinal3[dfinal3['new_tagged_flairs']=='N'])\n",
    "df3=df3.append(dfinal3[dfinal3['new_tagged_flairs']=='S'])\n",
    "                   \n",
    "dfinal3=df3"
   ]
  },
  {
   "cell_type": "code",
   "execution_count": 145,
   "metadata": {},
   "outputs": [
    {
     "data": {
      "text/plain": [
       "N    6405\n",
       "D    4443\n",
       "Name: new_tagged_flairs, dtype: int64"
      ]
     },
     "execution_count": 145,
     "metadata": {},
     "output_type": "execute_result"
    }
   ],
   "source": [
    "dfinal3['new_tagged_flairs'].value_counts()"
   ]
  },
  {
   "cell_type": "code",
   "execution_count": 146,
   "metadata": {},
   "outputs": [
    {
     "name": "stdout",
     "output_type": "stream",
     "text": [
      "(8678,) (8678,) (2170,) (2170,)\n"
     ]
    }
   ],
   "source": [
    "from sklearn.model_selection import train_test_split\n",
    "\n",
    "X_train, X_test, y_train, y_test = train_test_split(dfinal3['body'], dfinal3['id'], \n",
    "                                                    test_size=0.2, \n",
    "                                                    random_state=42)\n",
    "\n",
    "print(X_train.shape, y_train.shape, X_test.shape, y_test.shape)"
   ]
  },
  {
   "cell_type": "code",
   "execution_count": 147,
   "metadata": {},
   "outputs": [],
   "source": [
    "# Creating an instance of the TFID transformer\n",
    "from sklearn.feature_extraction.text import TfidfTransformer\n",
    "from sklearn.feature_extraction.text import CountVectorizer\n",
    "from sklearn.pipeline import Pipeline\n",
    "\n",
    "count_vec = CountVectorizer()\n",
    "X_train_counts = count_vec.fit_transform(X_train)\n",
    "\n",
    "# Creating an instance of the TFID transformer\n",
    "tfidf_trans = TfidfTransformer()\n",
    "X_train_tfidf = tfidf_trans.fit_transform(X_train_counts)"
   ]
  },
  {
   "cell_type": "code",
   "execution_count": 148,
   "metadata": {},
   "outputs": [
    {
     "name": "stdout",
     "output_type": "stream",
     "text": [
      "Evaluate Naive Bayes Classifier\n",
      "Model Accuracy: 0.5907834101382489\n"
     ]
    }
   ],
   "source": [
    "print(\"Evaluate Naive Bayes Classifier\")\n",
    "nb_classifier(X_train, X_test, y_train, y_test)"
   ]
  },
  {
   "cell_type": "code",
   "execution_count": 149,
   "metadata": {},
   "outputs": [
    {
     "name": "stdout",
     "output_type": "stream",
     "text": [
      "Evaluate Random Forest Classifier\n",
      "Model Accuracy: 0.5995391705069124\n"
     ]
    }
   ],
   "source": [
    "print(\"Evaluate Random Forest Classifier\")\n",
    "random_forest(X_train, X_test, y_train, y_test)\n"
   ]
  },
  {
   "cell_type": "code",
   "execution_count": 150,
   "metadata": {},
   "outputs": [
    {
     "name": "stdout",
     "output_type": "stream",
     "text": [
      "Evaluate Logistic Regression Model\n",
      "Model Accuracy: 0.6129032258064516\n"
     ]
    }
   ],
   "source": [
    "print(\"Evaluate Logistic Regression Model\")\n",
    "log_reg(X_train, X_test, y_train, y_test)\n"
   ]
  },
  {
   "cell_type": "code",
   "execution_count": 151,
   "metadata": {},
   "outputs": [
    {
     "name": "stdout",
     "output_type": "stream",
     "text": [
      "Evaluate SVC Model\n",
      "Model Accuracy: 0.6156682027649769\n"
     ]
    }
   ],
   "source": [
    "print(\"Evaluate SVC Model\")\n",
    "svc(X_train, X_test, y_train, y_test)"
   ]
  },
  {
   "cell_type": "code",
   "execution_count": null,
   "metadata": {},
   "outputs": [],
   "source": []
  },
  {
   "cell_type": "code",
   "execution_count": null,
   "metadata": {},
   "outputs": [],
   "source": []
  },
  {
   "cell_type": "code",
   "execution_count": null,
   "metadata": {},
   "outputs": [],
   "source": []
  },
  {
   "cell_type": "code",
   "execution_count": null,
   "metadata": {},
   "outputs": [],
   "source": []
  },
  {
   "cell_type": "code",
   "execution_count": null,
   "metadata": {},
   "outputs": [],
   "source": []
  },
  {
   "cell_type": "code",
   "execution_count": 66,
   "metadata": {},
   "outputs": [],
   "source": [
    "import pandas as pd\n",
    "dfinal1 = pd.read_csv('Final_Data.csv')\n",
    "dfinal2 = dfinal1.dropna(subset = ['Overall_tag_DNS'])"
   ]
  },
  {
   "cell_type": "code",
   "execution_count": 67,
   "metadata": {},
   "outputs": [
    {
     "data": {
      "text/html": [
       "<div>\n",
       "<style scoped>\n",
       "    .dataframe tbody tr th:only-of-type {\n",
       "        vertical-align: middle;\n",
       "    }\n",
       "\n",
       "    .dataframe tbody tr th {\n",
       "        vertical-align: top;\n",
       "    }\n",
       "\n",
       "    .dataframe thead th {\n",
       "        text-align: right;\n",
       "    }\n",
       "</style>\n",
       "<table border=\"1\" class=\"dataframe\">\n",
       "  <thead>\n",
       "    <tr style=\"text-align: right;\">\n",
       "      <th></th>\n",
       "      <th>author</th>\n",
       "      <th>body</th>\n",
       "      <th>Index1</th>\n",
       "      <th>author_flair_text</th>\n",
       "      <th>created_utc</th>\n",
       "      <th>id</th>\n",
       "      <th>Comment_or_submission</th>\n",
       "      <th>Overall_tag_DNS</th>\n",
       "    </tr>\n",
       "  </thead>\n",
       "  <tbody>\n",
       "    <tr>\n",
       "      <th>256</th>\n",
       "      <td>CureusJournal</td>\n",
       "      <td>You can try showing him published research abo...</td>\n",
       "      <td>47724.0</td>\n",
       "      <td>NaN</td>\n",
       "      <td>1.635352e+09</td>\n",
       "      <td>hi9hvoz</td>\n",
       "      <td>C</td>\n",
       "      <td>D</td>\n",
       "    </tr>\n",
       "    <tr>\n",
       "      <th>257</th>\n",
       "      <td>CureusJournal</td>\n",
       "      <td>The authors report findings in a 65-year-old ...</td>\n",
       "      <td>47730.0</td>\n",
       "      <td>NaN</td>\n",
       "      <td>1.634652e+09</td>\n",
       "      <td>hh8em5e</td>\n",
       "      <td>C</td>\n",
       "      <td>D</td>\n",
       "    </tr>\n",
       "    <tr>\n",
       "      <th>258</th>\n",
       "      <td>CureusJournal</td>\n",
       "      <td>The authors report findings in a 65-year-old f...</td>\n",
       "      <td>47731.0</td>\n",
       "      <td>NaN</td>\n",
       "      <td>1.634562e+09</td>\n",
       "      <td>hh3qwjf</td>\n",
       "      <td>C</td>\n",
       "      <td>D</td>\n",
       "    </tr>\n",
       "    <tr>\n",
       "      <th>421</th>\n",
       "      <td>raquibalboa</td>\n",
       "      <td>Meanwhile the priest at my Catholic church is ...</td>\n",
       "      <td>73792.0</td>\n",
       "      <td>RN</td>\n",
       "      <td>1.630087e+09</td>\n",
       "      <td>hal1585</td>\n",
       "      <td>C</td>\n",
       "      <td>N</td>\n",
       "    </tr>\n",
       "    <tr>\n",
       "      <th>477</th>\n",
       "      <td>track-whore</td>\n",
       "      <td>I’m not sure about other states but in NY the ...</td>\n",
       "      <td>82323.0</td>\n",
       "      <td>PharmD</td>\n",
       "      <td>1.601912e+09</td>\n",
       "      <td>g7spv6z</td>\n",
       "      <td>C</td>\n",
       "      <td>D</td>\n",
       "    </tr>\n",
       "    <tr>\n",
       "      <th>...</th>\n",
       "      <td>...</td>\n",
       "      <td>...</td>\n",
       "      <td>...</td>\n",
       "      <td>...</td>\n",
       "      <td>...</td>\n",
       "      <td>...</td>\n",
       "      <td>...</td>\n",
       "      <td>...</td>\n",
       "    </tr>\n",
       "    <tr>\n",
       "      <th>48743</th>\n",
       "      <td>_angelicsounds</td>\n",
       "      <td>Hi all,\\n\\nI am a pharmacy student who applied...</td>\n",
       "      <td>NaN</td>\n",
       "      <td>NaN</td>\n",
       "      <td>1.636696e+09</td>\n",
       "      <td>qs4o7x</td>\n",
       "      <td>S</td>\n",
       "      <td>D</td>\n",
       "    </tr>\n",
       "    <tr>\n",
       "      <th>48747</th>\n",
       "      <td>fleakered</td>\n",
       "      <td>Saw this morning that Russia has apparently ap...</td>\n",
       "      <td>NaN</td>\n",
       "      <td>NaN</td>\n",
       "      <td>1.597154e+09</td>\n",
       "      <td>i7s8s4</td>\n",
       "      <td>S</td>\n",
       "      <td>D</td>\n",
       "    </tr>\n",
       "    <tr>\n",
       "      <th>48749</th>\n",
       "      <td>LifesBetterWithDogs</td>\n",
       "      <td>I had a sore throat and mild headache today so...</td>\n",
       "      <td>NaN</td>\n",
       "      <td>NaN</td>\n",
       "      <td>1.634175e+09</td>\n",
       "      <td>q7pch0</td>\n",
       "      <td>S</td>\n",
       "      <td>S</td>\n",
       "    </tr>\n",
       "    <tr>\n",
       "      <th>48765</th>\n",
       "      <td>ohry1123</td>\n",
       "      <td>I just got the second dose of Pfizer and... I ...</td>\n",
       "      <td>NaN</td>\n",
       "      <td>NaN</td>\n",
       "      <td>1.611771e+09</td>\n",
       "      <td>l6atly</td>\n",
       "      <td>S</td>\n",
       "      <td>S</td>\n",
       "    </tr>\n",
       "    <tr>\n",
       "      <th>48768</th>\n",
       "      <td>pshaffer</td>\n",
       "      <td>Those of you here have many things on your min...</td>\n",
       "      <td>NaN</td>\n",
       "      <td>NaN</td>\n",
       "      <td>1.598488e+09</td>\n",
       "      <td>ihb237</td>\n",
       "      <td>S</td>\n",
       "      <td>D</td>\n",
       "    </tr>\n",
       "  </tbody>\n",
       "</table>\n",
       "<p>15963 rows × 8 columns</p>\n",
       "</div>"
      ],
      "text/plain": [
       "                    author                                               body  \\\n",
       "256          CureusJournal  You can try showing him published research abo...   \n",
       "257          CureusJournal   The authors report findings in a 65-year-old ...   \n",
       "258          CureusJournal  The authors report findings in a 65-year-old f...   \n",
       "421            raquibalboa  Meanwhile the priest at my Catholic church is ...   \n",
       "477            track-whore  I’m not sure about other states but in NY the ...   \n",
       "...                    ...                                                ...   \n",
       "48743       _angelicsounds  Hi all,\\n\\nI am a pharmacy student who applied...   \n",
       "48747            fleakered  Saw this morning that Russia has apparently ap...   \n",
       "48749  LifesBetterWithDogs  I had a sore throat and mild headache today so...   \n",
       "48765             ohry1123  I just got the second dose of Pfizer and... I ...   \n",
       "48768             pshaffer  Those of you here have many things on your min...   \n",
       "\n",
       "        Index1 author_flair_text   created_utc       id Comment_or_submission  \\\n",
       "256    47724.0               NaN  1.635352e+09  hi9hvoz                     C   \n",
       "257    47730.0               NaN  1.634652e+09  hh8em5e                     C   \n",
       "258    47731.0               NaN  1.634562e+09  hh3qwjf                     C   \n",
       "421    73792.0                RN  1.630087e+09  hal1585                     C   \n",
       "477    82323.0            PharmD  1.601912e+09  g7spv6z                     C   \n",
       "...        ...               ...           ...      ...                   ...   \n",
       "48743      NaN               NaN  1.636696e+09   qs4o7x                     S   \n",
       "48747      NaN               NaN  1.597154e+09   i7s8s4                     S   \n",
       "48749      NaN               NaN  1.634175e+09   q7pch0                     S   \n",
       "48765      NaN               NaN  1.611771e+09   l6atly                     S   \n",
       "48768      NaN               NaN  1.598488e+09   ihb237                     S   \n",
       "\n",
       "      Overall_tag_DNS  \n",
       "256                 D  \n",
       "257                 D  \n",
       "258                 D  \n",
       "421                 N  \n",
       "477                 D  \n",
       "...               ...  \n",
       "48743               D  \n",
       "48747               D  \n",
       "48749               S  \n",
       "48765               S  \n",
       "48768               D  \n",
       "\n",
       "[15963 rows x 8 columns]"
      ]
     },
     "execution_count": 67,
     "metadata": {},
     "output_type": "execute_result"
    }
   ],
   "source": [
    "dfinal2"
   ]
  },
  {
   "cell_type": "code",
   "execution_count": null,
   "metadata": {},
   "outputs": [],
   "source": []
  },
  {
   "cell_type": "code",
   "execution_count": 68,
   "metadata": {},
   "outputs": [
    {
     "name": "stdout",
     "output_type": "stream",
     "text": [
      "['i', 'me', 'my', 'myself', 'we', 'our', 'ours', 'ourselves', 'you', \"you're\", \"you've\", \"you'll\", \"you'd\", 'your', 'yours', 'yourself', 'yourselves', 'he', 'him', 'his', 'himself', 'she', \"she's\", 'her', 'hers', 'herself', 'it', \"it's\", 'its', 'itself', 'they', 'them', 'their', 'theirs', 'themselves', 'what', 'which', 'who', 'whom', 'this', 'that', \"that'll\", 'these', 'those', 'am', 'is', 'are', 'was', 'were', 'be', 'been', 'being', 'have', 'has', 'had', 'having', 'do', 'does', 'did', 'doing', 'a', 'an', 'the', 'and', 'but', 'if', 'or', 'because', 'as', 'until', 'while', 'of', 'at', 'by', 'for', 'with', 'about', 'against', 'between', 'into', 'through', 'during', 'before', 'after', 'above', 'below', 'to', 'from', 'up', 'down', 'in', 'out', 'on', 'off', 'over', 'under', 'again', 'further', 'then', 'once', 'here', 'there', 'when', 'where', 'why', 'how', 'all', 'any', 'both', 'each', 'few', 'more', 'most', 'other', 'some', 'such', 'no', 'nor', 'not', 'only', 'own', 'same', 'so', 'than', 'too', 'very', 's', 't', 'can', 'will', 'just', 'don', \"don't\", 'should', \"should've\", 'now', 'd', 'll', 'm', 'o', 're', 've', 'y', 'ain', 'aren', \"aren't\", 'couldn', \"couldn't\", 'didn', \"didn't\", 'doesn', \"doesn't\", 'hadn', \"hadn't\", 'hasn', \"hasn't\", 'haven', \"haven't\", 'isn', \"isn't\", 'ma', 'mightn', \"mightn't\", 'mustn', \"mustn't\", 'needn', \"needn't\", 'shan', \"shan't\", 'shouldn', \"shouldn't\", 'wasn', \"wasn't\", 'weren', \"weren't\", 'won', \"won't\", 'wouldn', \"wouldn't\"]\n"
     ]
    },
    {
     "name": "stderr",
     "output_type": "stream",
     "text": [
      "[nltk_data] Downloading package stopwords to\n",
      "[nltk_data]     C:\\Users\\HP\\AppData\\Roaming\\nltk_data...\n",
      "[nltk_data]   Package stopwords is already up-to-date!\n"
     ]
    }
   ],
   "source": [
    "import nltk\n",
    "nltk.download('stopwords')\n",
    "# Collect all the english stopwords and display them\n",
    "from nltk.corpus import stopwords\n",
    "STOPWORDS = stopwords.words('english')\n",
    "print(STOPWORDS)"
   ]
  },
  {
   "cell_type": "code",
   "execution_count": 69,
   "metadata": {},
   "outputs": [
    {
     "name": "stderr",
     "output_type": "stream",
     "text": [
      "C:\\Users\\HP\\anaconda3\\lib\\site-packages\\ipykernel_launcher.py:19: SettingWithCopyWarning: \n",
      "A value is trying to be set on a copy of a slice from a DataFrame.\n",
      "Try using .loc[row_indexer,col_indexer] = value instead\n",
      "\n",
      "See the caveats in the documentation: https://pandas.pydata.org/pandas-docs/stable/user_guide/indexing.html#returning-a-view-versus-a-copy\n",
      "C:\\Users\\HP\\anaconda3\\lib\\site-packages\\ipykernel_launcher.py:20: FutureWarning: The default value of regex will change from True to False in a future version.\n",
      "C:\\Users\\HP\\anaconda3\\lib\\site-packages\\ipykernel_launcher.py:20: SettingWithCopyWarning: \n",
      "A value is trying to be set on a copy of a slice from a DataFrame.\n",
      "Try using .loc[row_indexer,col_indexer] = value instead\n",
      "\n",
      "See the caveats in the documentation: https://pandas.pydata.org/pandas-docs/stable/user_guide/indexing.html#returning-a-view-versus-a-copy\n"
     ]
    }
   ],
   "source": [
    "import re\n",
    "REPLACE_SPACES = re.compile('[/(){}\\[\\]\\|@,;]')\n",
    "BAD_SYMBOLS = re.compile('[^0-9a-z #+_]')\n",
    "\n",
    "def clean_text(text):\n",
    "    '''\n",
    "        text: a string\n",
    "        return: modified initial string\n",
    "    '''\n",
    "\n",
    "    text = text.lower() # lowercase text\n",
    "    text = REPLACE_SPACES.sub(' ', text) \n",
    "    text = BAD_SYMBOLS.sub('', text) # Replace Bad Symbols which \n",
    "    text = text.replace('x', '')\n",
    "    \n",
    "    text = ' '.join(word for word in text.split() if word not in STOPWORDS) # remove stopwors from text\n",
    "    return text\n",
    "\n",
    "dfinal2['body'] = dfinal2['body'].apply(clean_text)\n",
    "dfinal2['body'] = dfinal2['body'].str.replace('\\d+', '')\n",
    "#dfinal2['body'].head(10)"
   ]
  },
  {
   "cell_type": "code",
   "execution_count": 70,
   "metadata": {},
   "outputs": [
    {
     "name": "stdout",
     "output_type": "stream",
     "text": [
      "(15963, 16050)\n"
     ]
    }
   ],
   "source": [
    "from sklearn.feature_extraction.text import TfidfVectorizer\n",
    "\n",
    "# Creating an instance of the Tfidf vectorizer\n",
    "tfidf = TfidfVectorizer(sublinear_tf=True, \n",
    "                        min_df=5, \n",
    "                        norm = 'l2', \n",
    "                        encoding='latin-1', \n",
    "                        ngram_range=(1, 2))\n",
    "\n",
    "\n",
    "# Extracting the features by fitting the Vectorizer on Combined Data\n",
    "feat = tfidf.fit_transform(dfinal2['body']).toarray()\n",
    "labels = dfinal2['id']    # Series containing all the post labels\n",
    "print(feat.shape)"
   ]
  },
  {
   "cell_type": "code",
   "execution_count": 2,
   "metadata": {},
   "outputs": [],
   "source": [
    "import pandas as pd"
   ]
  },
  {
   "cell_type": "code",
   "execution_count": 3,
   "metadata": {},
   "outputs": [],
   "source": [
    "df = pd.read_csv(\"Final_Data.csv\")"
   ]
  },
  {
   "cell_type": "code",
   "execution_count": 5,
   "metadata": {},
   "outputs": [
    {
     "data": {
      "text/html": [
       "<div>\n",
       "<style scoped>\n",
       "    .dataframe tbody tr th:only-of-type {\n",
       "        vertical-align: middle;\n",
       "    }\n",
       "\n",
       "    .dataframe tbody tr th {\n",
       "        vertical-align: top;\n",
       "    }\n",
       "\n",
       "    .dataframe thead th {\n",
       "        text-align: right;\n",
       "    }\n",
       "</style>\n",
       "<table border=\"1\" class=\"dataframe\">\n",
       "  <thead>\n",
       "    <tr style=\"text-align: right;\">\n",
       "      <th></th>\n",
       "      <th>author</th>\n",
       "      <th>body</th>\n",
       "      <th>Index1</th>\n",
       "      <th>author_flair_text</th>\n",
       "      <th>created_utc</th>\n",
       "      <th>id</th>\n",
       "      <th>Comment_or_submission</th>\n",
       "      <th>Overall_tag_DNS</th>\n",
       "    </tr>\n",
       "  </thead>\n",
       "  <tbody>\n",
       "    <tr>\n",
       "      <th>0</th>\n",
       "      <td>lillygirl0528</td>\n",
       "      <td>i thought this was a conspiracy group? why is ...</td>\n",
       "      <td>143.0</td>\n",
       "      <td>NaN</td>\n",
       "      <td>1.636751e+09</td>\n",
       "      <td>hkdo3du</td>\n",
       "      <td>C</td>\n",
       "      <td>NaN</td>\n",
       "    </tr>\n",
       "    <tr>\n",
       "      <th>1</th>\n",
       "      <td>ktyn</td>\n",
       "      <td>I got Moderna.\\n\\nFirst dose: sore arm for a f...</td>\n",
       "      <td>274.0</td>\n",
       "      <td>NaN</td>\n",
       "      <td>1.627998e+09</td>\n",
       "      <td>h7jvuhf</td>\n",
       "      <td>C</td>\n",
       "      <td>NaN</td>\n",
       "    </tr>\n",
       "    <tr>\n",
       "      <th>2</th>\n",
       "      <td>ktyn</td>\n",
       "      <td>The company I work for is also giving $100 to ...</td>\n",
       "      <td>347.0</td>\n",
       "      <td>NaN</td>\n",
       "      <td>1.620936e+09</td>\n",
       "      <td>gy0o0uz</td>\n",
       "      <td>C</td>\n",
       "      <td>NaN</td>\n",
       "    </tr>\n",
       "    <tr>\n",
       "      <th>3</th>\n",
       "      <td>ktyn</td>\n",
       "      <td>I’ve had the same thoughts, glad to see I’m no...</td>\n",
       "      <td>380.0</td>\n",
       "      <td>NaN</td>\n",
       "      <td>1.616941e+09</td>\n",
       "      <td>gskvnfr</td>\n",
       "      <td>C</td>\n",
       "      <td>NaN</td>\n",
       "    </tr>\n",
       "    <tr>\n",
       "      <th>4</th>\n",
       "      <td>dvncan90</td>\n",
       "      <td>90 days with or without vaccination? I don't h...</td>\n",
       "      <td>622.0</td>\n",
       "      <td>NaN</td>\n",
       "      <td>1.632317e+09</td>\n",
       "      <td>hdubc6u</td>\n",
       "      <td>C</td>\n",
       "      <td>NaN</td>\n",
       "    </tr>\n",
       "    <tr>\n",
       "      <th>...</th>\n",
       "      <td>...</td>\n",
       "      <td>...</td>\n",
       "      <td>...</td>\n",
       "      <td>...</td>\n",
       "      <td>...</td>\n",
       "      <td>...</td>\n",
       "      <td>...</td>\n",
       "      <td>...</td>\n",
       "    </tr>\n",
       "    <tr>\n",
       "      <th>48774</th>\n",
       "      <td>iamapremed</td>\n",
       "      <td>Hi everyone!\\n\\nSo I'm working on reapplicatio...</td>\n",
       "      <td>NaN</td>\n",
       "      <td>NaN</td>\n",
       "      <td>1.590077e+09</td>\n",
       "      <td>gnzf48</td>\n",
       "      <td>S</td>\n",
       "      <td>NaN</td>\n",
       "    </tr>\n",
       "    <tr>\n",
       "      <th>48775</th>\n",
       "      <td>dontwannabeabadger</td>\n",
       "      <td>Hi all,\\n\\nI am a biology major at a big ten s...</td>\n",
       "      <td>NaN</td>\n",
       "      <td>NaN</td>\n",
       "      <td>1.588386e+09</td>\n",
       "      <td>gby1j6</td>\n",
       "      <td>S</td>\n",
       "      <td>NaN</td>\n",
       "    </tr>\n",
       "    <tr>\n",
       "      <th>48776</th>\n",
       "      <td>ubcthrowaway-01</td>\n",
       "      <td>I have a 4.5 gpa on a 4.33 (I got over 100% in...</td>\n",
       "      <td>NaN</td>\n",
       "      <td>NaN</td>\n",
       "      <td>1.625639e+09</td>\n",
       "      <td>ofd778</td>\n",
       "      <td>S</td>\n",
       "      <td>NaN</td>\n",
       "    </tr>\n",
       "    <tr>\n",
       "      <th>48777</th>\n",
       "      <td>taelea</td>\n",
       "      <td>Hi all, \\n\\nSo I have my UBC interview coming ...</td>\n",
       "      <td>NaN</td>\n",
       "      <td>NaN</td>\n",
       "      <td>1.612451e+09</td>\n",
       "      <td>lchidk</td>\n",
       "      <td>S</td>\n",
       "      <td>NaN</td>\n",
       "    </tr>\n",
       "    <tr>\n",
       "      <th>48778</th>\n",
       "      <td>SmartTrashPanda</td>\n",
       "      <td>Hey everyone! Since the new cycle is coming up...</td>\n",
       "      <td>NaN</td>\n",
       "      <td>NaN</td>\n",
       "      <td>1.583558e+09</td>\n",
       "      <td>feqj95</td>\n",
       "      <td>S</td>\n",
       "      <td>NaN</td>\n",
       "    </tr>\n",
       "  </tbody>\n",
       "</table>\n",
       "<p>48779 rows × 8 columns</p>\n",
       "</div>"
      ],
      "text/plain": [
       "                   author                                               body  \\\n",
       "0           lillygirl0528  i thought this was a conspiracy group? why is ...   \n",
       "1                    ktyn  I got Moderna.\\n\\nFirst dose: sore arm for a f...   \n",
       "2                    ktyn  The company I work for is also giving $100 to ...   \n",
       "3                    ktyn  I’ve had the same thoughts, glad to see I’m no...   \n",
       "4                dvncan90  90 days with or without vaccination? I don't h...   \n",
       "...                   ...                                                ...   \n",
       "48774          iamapremed  Hi everyone!\\n\\nSo I'm working on reapplicatio...   \n",
       "48775  dontwannabeabadger  Hi all,\\n\\nI am a biology major at a big ten s...   \n",
       "48776     ubcthrowaway-01  I have a 4.5 gpa on a 4.33 (I got over 100% in...   \n",
       "48777              taelea  Hi all, \\n\\nSo I have my UBC interview coming ...   \n",
       "48778     SmartTrashPanda  Hey everyone! Since the new cycle is coming up...   \n",
       "\n",
       "       Index1 author_flair_text   created_utc       id Comment_or_submission  \\\n",
       "0       143.0               NaN  1.636751e+09  hkdo3du                     C   \n",
       "1       274.0               NaN  1.627998e+09  h7jvuhf                     C   \n",
       "2       347.0               NaN  1.620936e+09  gy0o0uz                     C   \n",
       "3       380.0               NaN  1.616941e+09  gskvnfr                     C   \n",
       "4       622.0               NaN  1.632317e+09  hdubc6u                     C   \n",
       "...       ...               ...           ...      ...                   ...   \n",
       "48774     NaN               NaN  1.590077e+09   gnzf48                     S   \n",
       "48775     NaN               NaN  1.588386e+09   gby1j6                     S   \n",
       "48776     NaN               NaN  1.625639e+09   ofd778                     S   \n",
       "48777     NaN               NaN  1.612451e+09   lchidk                     S   \n",
       "48778     NaN               NaN  1.583558e+09   feqj95                     S   \n",
       "\n",
       "      Overall_tag_DNS  \n",
       "0                 NaN  \n",
       "1                 NaN  \n",
       "2                 NaN  \n",
       "3                 NaN  \n",
       "4                 NaN  \n",
       "...               ...  \n",
       "48774             NaN  \n",
       "48775             NaN  \n",
       "48776             NaN  \n",
       "48777             NaN  \n",
       "48778             NaN  \n",
       "\n",
       "[48779 rows x 8 columns]"
      ]
     },
     "execution_count": 5,
     "metadata": {},
     "output_type": "execute_result"
    }
   ],
   "source": [
    "df"
   ]
  },
  {
   "cell_type": "code",
   "execution_count": 6,
   "metadata": {},
   "outputs": [],
   "source": [
    "df1 = df[['body','Overall_tag_DNS']]"
   ]
  },
  {
   "cell_type": "code",
   "execution_count": 7,
   "metadata": {},
   "outputs": [
    {
     "data": {
      "text/html": [
       "<div>\n",
       "<style scoped>\n",
       "    .dataframe tbody tr th:only-of-type {\n",
       "        vertical-align: middle;\n",
       "    }\n",
       "\n",
       "    .dataframe tbody tr th {\n",
       "        vertical-align: top;\n",
       "    }\n",
       "\n",
       "    .dataframe thead th {\n",
       "        text-align: right;\n",
       "    }\n",
       "</style>\n",
       "<table border=\"1\" class=\"dataframe\">\n",
       "  <thead>\n",
       "    <tr style=\"text-align: right;\">\n",
       "      <th></th>\n",
       "      <th>body</th>\n",
       "      <th>Overall_tag_DNS</th>\n",
       "    </tr>\n",
       "  </thead>\n",
       "  <tbody>\n",
       "    <tr>\n",
       "      <th>0</th>\n",
       "      <td>i thought this was a conspiracy group? why is ...</td>\n",
       "      <td>NaN</td>\n",
       "    </tr>\n",
       "    <tr>\n",
       "      <th>1</th>\n",
       "      <td>I got Moderna.\\n\\nFirst dose: sore arm for a f...</td>\n",
       "      <td>NaN</td>\n",
       "    </tr>\n",
       "    <tr>\n",
       "      <th>2</th>\n",
       "      <td>The company I work for is also giving $100 to ...</td>\n",
       "      <td>NaN</td>\n",
       "    </tr>\n",
       "    <tr>\n",
       "      <th>3</th>\n",
       "      <td>I’ve had the same thoughts, glad to see I’m no...</td>\n",
       "      <td>NaN</td>\n",
       "    </tr>\n",
       "    <tr>\n",
       "      <th>4</th>\n",
       "      <td>90 days with or without vaccination? I don't h...</td>\n",
       "      <td>NaN</td>\n",
       "    </tr>\n",
       "    <tr>\n",
       "      <th>...</th>\n",
       "      <td>...</td>\n",
       "      <td>...</td>\n",
       "    </tr>\n",
       "    <tr>\n",
       "      <th>48774</th>\n",
       "      <td>Hi everyone!\\n\\nSo I'm working on reapplicatio...</td>\n",
       "      <td>NaN</td>\n",
       "    </tr>\n",
       "    <tr>\n",
       "      <th>48775</th>\n",
       "      <td>Hi all,\\n\\nI am a biology major at a big ten s...</td>\n",
       "      <td>NaN</td>\n",
       "    </tr>\n",
       "    <tr>\n",
       "      <th>48776</th>\n",
       "      <td>I have a 4.5 gpa on a 4.33 (I got over 100% in...</td>\n",
       "      <td>NaN</td>\n",
       "    </tr>\n",
       "    <tr>\n",
       "      <th>48777</th>\n",
       "      <td>Hi all, \\n\\nSo I have my UBC interview coming ...</td>\n",
       "      <td>NaN</td>\n",
       "    </tr>\n",
       "    <tr>\n",
       "      <th>48778</th>\n",
       "      <td>Hey everyone! Since the new cycle is coming up...</td>\n",
       "      <td>NaN</td>\n",
       "    </tr>\n",
       "  </tbody>\n",
       "</table>\n",
       "<p>48779 rows × 2 columns</p>\n",
       "</div>"
      ],
      "text/plain": [
       "                                                    body Overall_tag_DNS\n",
       "0      i thought this was a conspiracy group? why is ...             NaN\n",
       "1      I got Moderna.\\n\\nFirst dose: sore arm for a f...             NaN\n",
       "2      The company I work for is also giving $100 to ...             NaN\n",
       "3      I’ve had the same thoughts, glad to see I’m no...             NaN\n",
       "4      90 days with or without vaccination? I don't h...             NaN\n",
       "...                                                  ...             ...\n",
       "48774  Hi everyone!\\n\\nSo I'm working on reapplicatio...             NaN\n",
       "48775  Hi all,\\n\\nI am a biology major at a big ten s...             NaN\n",
       "48776  I have a 4.5 gpa on a 4.33 (I got over 100% in...             NaN\n",
       "48777  Hi all, \\n\\nSo I have my UBC interview coming ...             NaN\n",
       "48778  Hey everyone! Since the new cycle is coming up...             NaN\n",
       "\n",
       "[48779 rows x 2 columns]"
      ]
     },
     "execution_count": 7,
     "metadata": {},
     "output_type": "execute_result"
    }
   ],
   "source": [
    "df1"
   ]
  },
  {
   "cell_type": "code",
   "execution_count": 8,
   "metadata": {},
   "outputs": [],
   "source": [
    "df1.to_csv(\"Data.csv\",index = False)"
   ]
  },
  {
   "cell_type": "code",
   "execution_count": null,
   "metadata": {},
   "outputs": [],
   "source": []
  }
 ],
 "metadata": {
  "colab": {
   "collapsed_sections": [],
   "name": "PreProcessing for LDA.ipynb",
   "provenance": []
  },
  "kernelspec": {
   "display_name": "Python 3",
   "language": "python",
   "name": "python3"
  },
  "language_info": {
   "codemirror_mode": {
    "name": "ipython",
    "version": 3
   },
   "file_extension": ".py",
   "mimetype": "text/x-python",
   "name": "python",
   "nbconvert_exporter": "python",
   "pygments_lexer": "ipython3",
   "version": "3.7.6"
  }
 },
 "nbformat": 4,
 "nbformat_minor": 1
}
